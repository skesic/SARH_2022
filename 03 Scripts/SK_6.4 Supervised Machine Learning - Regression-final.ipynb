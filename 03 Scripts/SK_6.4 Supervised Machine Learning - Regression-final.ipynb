{
 "cells": [
  {
   "cell_type": "markdown",
   "id": "5a651fd7",
   "metadata": {},
   "source": [
    "# 6.4 Machine Learning Part 1"
   ]
  },
  {
   "cell_type": "markdown",
   "id": "737e37da",
   "metadata": {},
   "source": [
    "## This script contains the following:\n",
    "### 1. Importing libraries and data\n",
    "### 2. Check data\n",
    "### 3. Data prep for regression analysis\n",
    "#### - Eplore Categorical variables\n",
    "#### - Explore Numerical variables\n",
    "### 4. Declare feature vetor and target variable\n",
    "### 5. Split data into separate training and test set\n",
    "### 6. Feature Engineering\n",
    "#### - Encoe categorial variables\n",
    "### 7. Feature Scaling\n",
    "### 8. Model Training\n",
    "### 9. Predict results\n",
    "### 10. Check accuracy score\n",
    "#### - Compare the train-set and test-set accuracy\n",
    "#### - Check for overfitting and underfitting\n",
    "#### - Compare model accuracy with null accuracy\n",
    "### 11. Confusion matrix\n",
    "#### - Classification Report\n",
    "### 12. Adjusting a treshold level\n",
    "### 13. Results and conclusion\n",
    "### 14. Exporting the data file"
   ]
  },
  {
   "cell_type": "markdown",
   "id": "648f718f",
   "metadata": {},
   "source": [
    "## 1. Importing libraries and data"
   ]
  },
  {
   "cell_type": "code",
   "execution_count": 1,
   "id": "16d5a7fb",
   "metadata": {},
   "outputs": [],
   "source": [
    "# Importing libraries and data\n",
    "\n",
    "import pandas as pd\n",
    "import numpy as np\n",
    "import seaborn as sns\n",
    "import matplotlib\n",
    "import matplotlib.pyplot as plt\n",
    "import os\n",
    "import sklearn\n",
    "from sklearn.model_selection import train_test_split\n",
    "from sklearn.linear_model import LogisticRegression\n",
    "from sklearn.metrics import confusion_matrix"
   ]
  },
  {
   "cell_type": "code",
   "execution_count": 2,
   "id": "ba6070e5",
   "metadata": {},
   "outputs": [],
   "source": [
    "# This option ensures that the graphs you create are displayed within the notebook\n",
    "\n",
    "%matplotlib inline"
   ]
  },
  {
   "cell_type": "code",
   "execution_count": 3,
   "id": "a323c4df",
   "metadata": {},
   "outputs": [],
   "source": [
    "# Create path\n",
    "\n",
    "path = r'C:\\Users\\Asus\\OneDrive\\Documents\\Data Analytics\\Data Immersion\\6. Advanced Analytics and Dashboard Design\\Search and rescue helicopter'"
   ]
  },
  {
   "cell_type": "code",
   "execution_count": 4,
   "id": "198cc5c7",
   "metadata": {},
   "outputs": [
    {
     "data": {
      "text/plain": [
       "'C:\\\\Users\\\\Asus\\\\OneDrive\\\\Documents\\\\Data Analytics\\\\Data Immersion\\\\6. Advanced Analytics and Dashboard Design\\\\Search and rescue helicopter'"
      ]
     },
     "execution_count": 4,
     "metadata": {},
     "output_type": "execute_result"
    }
   ],
   "source": [
    "# Check path\n",
    "\n",
    "path"
   ]
  },
  {
   "cell_type": "code",
   "execution_count": 5,
   "id": "74e155ca",
   "metadata": {},
   "outputs": [],
   "source": [
    "# Insert data sarh0112\n",
    "\n",
    "df_sarh0112prep = pd.read_csv(os.path.join(path, '02 Data', 'Prepared Data', 'sarh0112_cleaned.csv'))"
   ]
  },
  {
   "cell_type": "code",
   "execution_count": 6,
   "id": "47270efb",
   "metadata": {},
   "outputs": [],
   "source": [
    "# Insert data sarh0101\n",
    "\n",
    "df_sarh0101 = pd.read_csv(os.path.join(path, '02 Data', 'Prepared Data', 'sarh0101_cleaned.csv'))"
   ]
  },
  {
   "cell_type": "markdown",
   "id": "237f9e72",
   "metadata": {},
   "source": [
    "## 2. Check data"
   ]
  },
  {
   "cell_type": "markdown",
   "id": "cbee2ab5",
   "metadata": {},
   "source": [
    "### df_sarh0112"
   ]
  },
  {
   "cell_type": "code",
   "execution_count": 7,
   "id": "86b60695",
   "metadata": {},
   "outputs": [
    {
     "data": {
      "text/html": [
       "<div>\n",
       "<style scoped>\n",
       "    .dataframe tbody tr th:only-of-type {\n",
       "        vertical-align: middle;\n",
       "    }\n",
       "\n",
       "    .dataframe tbody tr th {\n",
       "        vertical-align: top;\n",
       "    }\n",
       "\n",
       "    .dataframe thead th {\n",
       "        text-align: right;\n",
       "    }\n",
       "</style>\n",
       "<table border=\"1\" class=\"dataframe\">\n",
       "  <thead>\n",
       "    <tr style=\"text-align: right;\">\n",
       "      <th></th>\n",
       "      <th>Date</th>\n",
       "      <th>Day_of_week</th>\n",
       "      <th>Name_of_the_Base</th>\n",
       "      <th>Type_of_tasking</th>\n",
       "      <th>Tasking_location</th>\n",
       "      <th>Tasking_outcome</th>\n",
       "      <th>Region</th>\n",
       "      <th>Latitude</th>\n",
       "      <th>Longitude</th>\n",
       "      <th>Time_of_day</th>\n",
       "      <th>Tasking_duration</th>\n",
       "    </tr>\n",
       "  </thead>\n",
       "  <tbody>\n",
       "    <tr>\n",
       "      <th>0</th>\n",
       "      <td>01/04/2015</td>\n",
       "      <td>Wednesday</td>\n",
       "      <td>Sumburgh</td>\n",
       "      <td>Rescue/Recovery</td>\n",
       "      <td>Maritime</td>\n",
       "      <td>Completed</td>\n",
       "      <td>Highlands and Islands</td>\n",
       "      <td>61.47</td>\n",
       "      <td>1.53</td>\n",
       "      <td>6.00pm - 8.59pm</td>\n",
       "      <td>2</td>\n",
       "    </tr>\n",
       "    <tr>\n",
       "      <th>1</th>\n",
       "      <td>01/04/2015</td>\n",
       "      <td>Wednesday</td>\n",
       "      <td>Sumburgh</td>\n",
       "      <td>Rescue/Recovery</td>\n",
       "      <td>Land</td>\n",
       "      <td>Completed</td>\n",
       "      <td>Highlands and Islands</td>\n",
       "      <td>59.25</td>\n",
       "      <td>-2.58</td>\n",
       "      <td>6.00am - 8.59am</td>\n",
       "      <td>2</td>\n",
       "    </tr>\n",
       "    <tr>\n",
       "      <th>2</th>\n",
       "      <td>01/04/2015</td>\n",
       "      <td>Wednesday</td>\n",
       "      <td>Inverness</td>\n",
       "      <td>Support</td>\n",
       "      <td>Land</td>\n",
       "      <td>Completed</td>\n",
       "      <td>Highlands and Islands</td>\n",
       "      <td>56.79</td>\n",
       "      <td>-4.99</td>\n",
       "      <td>9.00am - 11.59am</td>\n",
       "      <td>3</td>\n",
       "    </tr>\n",
       "    <tr>\n",
       "      <th>3</th>\n",
       "      <td>01/04/2015</td>\n",
       "      <td>Wednesday</td>\n",
       "      <td>Inverness</td>\n",
       "      <td>Support</td>\n",
       "      <td>Land</td>\n",
       "      <td>Completed</td>\n",
       "      <td>Highlands and Islands</td>\n",
       "      <td>56.79</td>\n",
       "      <td>-5.06</td>\n",
       "      <td>12.00pm - 2.59pm</td>\n",
       "      <td>4</td>\n",
       "    </tr>\n",
       "    <tr>\n",
       "      <th>4</th>\n",
       "      <td>02/04/2015</td>\n",
       "      <td>Thursday</td>\n",
       "      <td>Inverness</td>\n",
       "      <td>Rescue/Recovery</td>\n",
       "      <td>Land</td>\n",
       "      <td>Completed</td>\n",
       "      <td>Highlands and Islands</td>\n",
       "      <td>56.81</td>\n",
       "      <td>-5.02</td>\n",
       "      <td>6.00pm - 8.59pm</td>\n",
       "      <td>1</td>\n",
       "    </tr>\n",
       "  </tbody>\n",
       "</table>\n",
       "</div>"
      ],
      "text/plain": [
       "         Date Day_of_week Name_of_the_Base  Type_of_tasking Tasking_location  \\\n",
       "0  01/04/2015   Wednesday         Sumburgh  Rescue/Recovery         Maritime   \n",
       "1  01/04/2015   Wednesday         Sumburgh  Rescue/Recovery             Land   \n",
       "2  01/04/2015   Wednesday        Inverness          Support             Land   \n",
       "3  01/04/2015   Wednesday        Inverness          Support             Land   \n",
       "4  02/04/2015    Thursday        Inverness  Rescue/Recovery             Land   \n",
       "\n",
       "  Tasking_outcome                 Region  Latitude  Longitude  \\\n",
       "0       Completed  Highlands and Islands     61.47       1.53   \n",
       "1       Completed  Highlands and Islands     59.25      -2.58   \n",
       "2       Completed  Highlands and Islands     56.79      -4.99   \n",
       "3       Completed  Highlands and Islands     56.79      -5.06   \n",
       "4       Completed  Highlands and Islands     56.81      -5.02   \n",
       "\n",
       "        Time_of_day  Tasking_duration  \n",
       "0   6.00pm - 8.59pm                 2  \n",
       "1   6.00am - 8.59am                 2  \n",
       "2  9.00am - 11.59am                 3  \n",
       "3  12.00pm - 2.59pm                 4  \n",
       "4   6.00pm - 8.59pm                 1  "
      ]
     },
     "execution_count": 7,
     "metadata": {},
     "output_type": "execute_result"
    }
   ],
   "source": [
    "# Check first 5 rows of data\n",
    "\n",
    "df_sarh0112prep.head()"
   ]
  },
  {
   "cell_type": "code",
   "execution_count": 8,
   "id": "75ff6196",
   "metadata": {},
   "outputs": [],
   "source": [
    "# Replacing \"Northern Ireland \" with \"Northern Ireland\"\n",
    "\n",
    "df_sarh0112prep = df_sarh0112prep.replace('Northern Ireland ','Northern Ireland')"
   ]
  },
  {
   "cell_type": "code",
   "execution_count": 9,
   "id": "6addfcde",
   "metadata": {},
   "outputs": [],
   "source": [
    "# Replacing \"Lee on Solent \" with \"Lee On Solent\"\n",
    "\n",
    "df_sarh0112prep = df_sarh0112prep.replace('Lee on Solent','Lee On Solent')"
   ]
  },
  {
   "cell_type": "code",
   "execution_count": 10,
   "id": "b1f72bbb",
   "metadata": {},
   "outputs": [],
   "source": [
    "# Replacing \"lee on solent \" with \"Lee On Solent\"\n",
    "\n",
    "df_sarh0112prep = df_sarh0112prep.replace('lee on solent','Lee On Solent')"
   ]
  },
  {
   "cell_type": "code",
   "execution_count": 11,
   "id": "c941aa44",
   "metadata": {},
   "outputs": [],
   "source": [
    "# Replacing \"Pre-arranged transfer\" with \"Pre-arranged Transfer\"\n",
    "\n",
    "df_sarh0112prep = df_sarh0112prep.replace('Search only','Search Only')"
   ]
  },
  {
   "cell_type": "code",
   "execution_count": 12,
   "id": "845a4b6f",
   "metadata": {},
   "outputs": [],
   "source": [
    "# Replacing \"Search only\" with \"Search Only\"\n",
    "\n",
    "df_sarh0112prep = df_sarh0112prep.replace('Pre-arranged transfer','Pre-arranged Transfer')"
   ]
  },
  {
   "cell_type": "code",
   "execution_count": 13,
   "id": "6711d6c1",
   "metadata": {},
   "outputs": [],
   "source": [
    "# Replacing \"6.00pm - 8.59pm\" with \"6:00pm - 8:59pm\"\n",
    "\n",
    "df_sarh0112prep = df_sarh0112prep.replace('6.00pm - 8.59pm','6:00pm - 8:59pm')"
   ]
  },
  {
   "cell_type": "code",
   "execution_count": 14,
   "id": "5e3b2c54",
   "metadata": {},
   "outputs": [],
   "source": [
    "# Replacing \"6.00am - 8.59am\" with \"6:00am - 8:59am\"\n",
    "\n",
    "df_sarh0112prep = df_sarh0112prep.replace('6.00pm - 8.59pm','6:00pm - 8:59pm')"
   ]
  },
  {
   "cell_type": "code",
   "execution_count": 15,
   "id": "1c82d8cf",
   "metadata": {},
   "outputs": [],
   "source": [
    "# Replacing \"9.00am - 11.59am\" with \"9:00am - 11:59am\"\n",
    "\n",
    "df_sarh0112prep = df_sarh0112prep.replace('9.00am - 11.59am','9:00am - 11:59am')"
   ]
  },
  {
   "cell_type": "code",
   "execution_count": 16,
   "id": "52f4eae7",
   "metadata": {},
   "outputs": [],
   "source": [
    "# Replacing \"12.00pm - 2.59pm\" with \"12:00pm - 2:59pm\"\n",
    "\n",
    "df_sarh0112prep = df_sarh0112prep.replace('12.00pm - 2.59pm','12:00pm - 2:59pm')"
   ]
  },
  {
   "cell_type": "code",
   "execution_count": 17,
   "id": "f54dccf3",
   "metadata": {},
   "outputs": [],
   "source": [
    "# Replacing \"3.00pm - 5.59pm\" with \"3:00pm - 5:59pm\"\n",
    "\n",
    "df_sarh0112prep = df_sarh0112prep.replace('3.00pm - 5.59pm','3:00pm - 5:59pm')"
   ]
  },
  {
   "cell_type": "code",
   "execution_count": 18,
   "id": "da02225a",
   "metadata": {},
   "outputs": [],
   "source": [
    "# Replacing \"9.00pm - 11.59pm\" with \"9:00pm - 11:59pm\"\n",
    "\n",
    "df_sarh0112prep = df_sarh0112prep.replace('9.00pm - 11.59pm','9:00pm - 11:59pm')"
   ]
  },
  {
   "cell_type": "code",
   "execution_count": 19,
   "id": "c2bf59e1",
   "metadata": {},
   "outputs": [],
   "source": [
    "# Replacing \"12.00am - 2.59pm\" with \"12:00am - 2:59pm\"\n",
    "\n",
    "df_sarh0112prep = df_sarh0112prep.replace('12.00am - 2.59pm','12:00am - 2:59pm')"
   ]
  },
  {
   "cell_type": "code",
   "execution_count": 20,
   "id": "8000d9fb",
   "metadata": {},
   "outputs": [],
   "source": [
    "# Replacing \"3.00am - 5.59am\" with \"3:00am - 5:59am\"\n",
    "\n",
    "df_sarh0112prep = df_sarh0112prep.replace('3.00am - 5.59am','3:00am - 5:59am')"
   ]
  },
  {
   "cell_type": "code",
   "execution_count": 21,
   "id": "e2163e5f",
   "metadata": {},
   "outputs": [],
   "source": [
    "# Replacing \"12.00am - 2.59am\" with \"12:00am - 2:59am\"\n",
    "\n",
    "df_sarh0112prep = df_sarh0112prep.replace('12.00am - 2.59am','12:00am - 2:59am')"
   ]
  },
  {
   "cell_type": "code",
   "execution_count": 22,
   "id": "efff846b",
   "metadata": {},
   "outputs": [],
   "source": [
    "# Replacing \"Stood down\" with \"Stood Down\"\n",
    "\n",
    "df_sarh0112prep = df_sarh0112prep.replace('Stood down','Stood Down')"
   ]
  },
  {
   "cell_type": "code",
   "execution_count": 23,
   "id": "5ba99e65",
   "metadata": {},
   "outputs": [],
   "source": [
    "# Replacing \"Complete\" with \"Completed\"\n",
    "\n",
    "df_sarh0112prep = df_sarh0112prep.replace('Complete','Completed')"
   ]
  },
  {
   "cell_type": "code",
   "execution_count": 24,
   "id": "c0eb8cd9",
   "metadata": {},
   "outputs": [],
   "source": [
    "# Replacing \"Terminated en route\" with \"Terminated en Route\"\n",
    "\n",
    "df_sarh0112prep = df_sarh0112prep.replace('Terminated en route','Terminated en Route')"
   ]
  },
  {
   "cell_type": "code",
   "execution_count": 25,
   "id": "3b537ec3",
   "metadata": {},
   "outputs": [],
   "source": [
    "# Replacing \"terminated en route\" with \"Terminated en Route\"\n",
    "\n",
    "df_sarh0112prep = df_sarh0112prep.replace('terminated en route','Terminated en Route')"
   ]
  },
  {
   "cell_type": "code",
   "execution_count": 26,
   "id": "db80bee8",
   "metadata": {},
   "outputs": [],
   "source": [
    "# Replacing \"Terminated En Route\" with \"Terminated en Route\"\n",
    "\n",
    "df_sarh0112prep = df_sarh0112prep.replace('Terminated En Route','Terminated en Route')"
   ]
  },
  {
   "cell_type": "code",
   "execution_count": 27,
   "id": "9f9bcc2f",
   "metadata": {},
   "outputs": [],
   "source": [
    "# Replacing \"Terminated on scene\" with \"Terminated on Scene\"\n",
    "\n",
    "df_sarh0112prep2 = df_sarh0112prep.replace('Terminated on scene','Terminated on Scene')"
   ]
  },
  {
   "cell_type": "code",
   "execution_count": 28,
   "id": "515d9ffc",
   "metadata": {},
   "outputs": [],
   "source": [
    "# Replacing \"Terminated On Scene\" with \"Terminated on Scene\"\n",
    "\n",
    "df_sarh0112prep = df_sarh0112prep.replace('Terminated On Scene','Terminated on Scene')"
   ]
  },
  {
   "cell_type": "code",
   "execution_count": 29,
   "id": "6e9ef371",
   "metadata": {},
   "outputs": [],
   "source": [
    "# Replacing \"Terminated prior to launch\" with \"Terminated Prior to Launch\"\n",
    "\n",
    "df_sarh0112prep = df_sarh0112prep.replace('Terminated prior to launch','Terminated Prior to Launch')"
   ]
  },
  {
   "cell_type": "code",
   "execution_count": 30,
   "id": "4f2a5b74",
   "metadata": {},
   "outputs": [
    {
     "data": {
      "text/plain": [
       "(19217, 11)"
      ]
     },
     "execution_count": 30,
     "metadata": {},
     "output_type": "execute_result"
    }
   ],
   "source": [
    "# Dimension of data\n",
    "\n",
    "df_sarh0112prep.shape"
   ]
  },
  {
   "cell_type": "code",
   "execution_count": 31,
   "id": "ccbdd13f",
   "metadata": {},
   "outputs": [],
   "source": [
    "# Creating a M/Y column from Date\n",
    "\n",
    "df_sarh0112prep['MonthYear'] = df_sarh0112prep['Date'].str.split('/').str[1] + '/' + df_sarh0112prep['Date'].str.split('/').str[-1]"
   ]
  },
  {
   "cell_type": "code",
   "execution_count": 32,
   "id": "c4172acd",
   "metadata": {},
   "outputs": [
    {
     "data": {
      "text/html": [
       "<div>\n",
       "<style scoped>\n",
       "    .dataframe tbody tr th:only-of-type {\n",
       "        vertical-align: middle;\n",
       "    }\n",
       "\n",
       "    .dataframe tbody tr th {\n",
       "        vertical-align: top;\n",
       "    }\n",
       "\n",
       "    .dataframe thead th {\n",
       "        text-align: right;\n",
       "    }\n",
       "</style>\n",
       "<table border=\"1\" class=\"dataframe\">\n",
       "  <thead>\n",
       "    <tr style=\"text-align: right;\">\n",
       "      <th></th>\n",
       "      <th>Date</th>\n",
       "      <th>Day_of_week</th>\n",
       "      <th>Name_of_the_Base</th>\n",
       "      <th>Type_of_tasking</th>\n",
       "      <th>Tasking_location</th>\n",
       "      <th>Tasking_outcome</th>\n",
       "      <th>Region</th>\n",
       "      <th>Latitude</th>\n",
       "      <th>Longitude</th>\n",
       "      <th>Time_of_day</th>\n",
       "      <th>Tasking_duration</th>\n",
       "      <th>MonthYear</th>\n",
       "    </tr>\n",
       "  </thead>\n",
       "  <tbody>\n",
       "    <tr>\n",
       "      <th>0</th>\n",
       "      <td>01/04/2015</td>\n",
       "      <td>Wednesday</td>\n",
       "      <td>Sumburgh</td>\n",
       "      <td>Rescue/Recovery</td>\n",
       "      <td>Maritime</td>\n",
       "      <td>Completed</td>\n",
       "      <td>Highlands and Islands</td>\n",
       "      <td>61.47</td>\n",
       "      <td>1.53</td>\n",
       "      <td>6:00pm - 8:59pm</td>\n",
       "      <td>2</td>\n",
       "      <td>04/2015</td>\n",
       "    </tr>\n",
       "    <tr>\n",
       "      <th>1</th>\n",
       "      <td>01/04/2015</td>\n",
       "      <td>Wednesday</td>\n",
       "      <td>Sumburgh</td>\n",
       "      <td>Rescue/Recovery</td>\n",
       "      <td>Land</td>\n",
       "      <td>Completed</td>\n",
       "      <td>Highlands and Islands</td>\n",
       "      <td>59.25</td>\n",
       "      <td>-2.58</td>\n",
       "      <td>6.00am - 8.59am</td>\n",
       "      <td>2</td>\n",
       "      <td>04/2015</td>\n",
       "    </tr>\n",
       "    <tr>\n",
       "      <th>2</th>\n",
       "      <td>01/04/2015</td>\n",
       "      <td>Wednesday</td>\n",
       "      <td>Inverness</td>\n",
       "      <td>Support</td>\n",
       "      <td>Land</td>\n",
       "      <td>Completed</td>\n",
       "      <td>Highlands and Islands</td>\n",
       "      <td>56.79</td>\n",
       "      <td>-4.99</td>\n",
       "      <td>9:00am - 11:59am</td>\n",
       "      <td>3</td>\n",
       "      <td>04/2015</td>\n",
       "    </tr>\n",
       "    <tr>\n",
       "      <th>3</th>\n",
       "      <td>01/04/2015</td>\n",
       "      <td>Wednesday</td>\n",
       "      <td>Inverness</td>\n",
       "      <td>Support</td>\n",
       "      <td>Land</td>\n",
       "      <td>Completed</td>\n",
       "      <td>Highlands and Islands</td>\n",
       "      <td>56.79</td>\n",
       "      <td>-5.06</td>\n",
       "      <td>12:00pm - 2:59pm</td>\n",
       "      <td>4</td>\n",
       "      <td>04/2015</td>\n",
       "    </tr>\n",
       "    <tr>\n",
       "      <th>4</th>\n",
       "      <td>02/04/2015</td>\n",
       "      <td>Thursday</td>\n",
       "      <td>Inverness</td>\n",
       "      <td>Rescue/Recovery</td>\n",
       "      <td>Land</td>\n",
       "      <td>Completed</td>\n",
       "      <td>Highlands and Islands</td>\n",
       "      <td>56.81</td>\n",
       "      <td>-5.02</td>\n",
       "      <td>6:00pm - 8:59pm</td>\n",
       "      <td>1</td>\n",
       "      <td>04/2015</td>\n",
       "    </tr>\n",
       "  </tbody>\n",
       "</table>\n",
       "</div>"
      ],
      "text/plain": [
       "         Date Day_of_week Name_of_the_Base  Type_of_tasking Tasking_location  \\\n",
       "0  01/04/2015   Wednesday         Sumburgh  Rescue/Recovery         Maritime   \n",
       "1  01/04/2015   Wednesday         Sumburgh  Rescue/Recovery             Land   \n",
       "2  01/04/2015   Wednesday        Inverness          Support             Land   \n",
       "3  01/04/2015   Wednesday        Inverness          Support             Land   \n",
       "4  02/04/2015    Thursday        Inverness  Rescue/Recovery             Land   \n",
       "\n",
       "  Tasking_outcome                 Region  Latitude  Longitude  \\\n",
       "0       Completed  Highlands and Islands     61.47       1.53   \n",
       "1       Completed  Highlands and Islands     59.25      -2.58   \n",
       "2       Completed  Highlands and Islands     56.79      -4.99   \n",
       "3       Completed  Highlands and Islands     56.79      -5.06   \n",
       "4       Completed  Highlands and Islands     56.81      -5.02   \n",
       "\n",
       "        Time_of_day  Tasking_duration MonthYear  \n",
       "0   6:00pm - 8:59pm                 2   04/2015  \n",
       "1   6.00am - 8.59am                 2   04/2015  \n",
       "2  9:00am - 11:59am                 3   04/2015  \n",
       "3  12:00pm - 2:59pm                 4   04/2015  \n",
       "4   6:00pm - 8:59pm                 1   04/2015  "
      ]
     },
     "execution_count": 32,
     "metadata": {},
     "output_type": "execute_result"
    }
   ],
   "source": [
    "# Check first 5 rows of data\n",
    "\n",
    "df_sarh0112prep.head()"
   ]
  },
  {
   "cell_type": "code",
   "execution_count": 33,
   "id": "b9613c4e",
   "metadata": {},
   "outputs": [],
   "source": [
    "# drop the original Date variable\n",
    "\n",
    "df_sarh0112prep.drop('Date', axis=1, inplace = True)"
   ]
  },
  {
   "cell_type": "code",
   "execution_count": 34,
   "id": "226454a3",
   "metadata": {},
   "outputs": [],
   "source": [
    "# Create a new column for tasking_outcome. If tasking completed then write \"Yes\", else \"No\". Tasking_completed = ['Completed', 'Not Required', 'Complete (Nothing Found)', 'Hoax', 'False Alarm', 'Supported & Completed', 'Terminated on Scene', 'Terminated en Route', 'Terminated Prior to Launch', 'Cancelled']\n",
    "\n",
    "Tasking_completed = ['Completed', 'Not Required', 'Complete (Nothing Found)', 'Hoax', 'False Alarm', 'Supported & Completed', 'Terminated on Scene', 'Terminated en Route', 'Terminated Prior to Launch', 'Cancelled']\n",
    "\n",
    "df_sarh0112prep['Tasking_complnotcompl'] = np.where(df_sarh0112prep['Tasking_outcome'].isin(Tasking_completed), 'Yes', 'No')"
   ]
  },
  {
   "cell_type": "code",
   "execution_count": 35,
   "id": "e070d6b8",
   "metadata": {},
   "outputs": [
    {
     "data": {
      "text/html": [
       "<div>\n",
       "<style scoped>\n",
       "    .dataframe tbody tr th:only-of-type {\n",
       "        vertical-align: middle;\n",
       "    }\n",
       "\n",
       "    .dataframe tbody tr th {\n",
       "        vertical-align: top;\n",
       "    }\n",
       "\n",
       "    .dataframe thead th {\n",
       "        text-align: right;\n",
       "    }\n",
       "</style>\n",
       "<table border=\"1\" class=\"dataframe\">\n",
       "  <thead>\n",
       "    <tr style=\"text-align: right;\">\n",
       "      <th></th>\n",
       "      <th>Day_of_week</th>\n",
       "      <th>Name_of_the_Base</th>\n",
       "      <th>Type_of_tasking</th>\n",
       "      <th>Tasking_location</th>\n",
       "      <th>Tasking_outcome</th>\n",
       "      <th>Region</th>\n",
       "      <th>Latitude</th>\n",
       "      <th>Longitude</th>\n",
       "      <th>Time_of_day</th>\n",
       "      <th>Tasking_duration</th>\n",
       "      <th>MonthYear</th>\n",
       "      <th>Tasking_complnotcompl</th>\n",
       "    </tr>\n",
       "  </thead>\n",
       "  <tbody>\n",
       "    <tr>\n",
       "      <th>0</th>\n",
       "      <td>Wednesday</td>\n",
       "      <td>Sumburgh</td>\n",
       "      <td>Rescue/Recovery</td>\n",
       "      <td>Maritime</td>\n",
       "      <td>Completed</td>\n",
       "      <td>Highlands and Islands</td>\n",
       "      <td>61.47</td>\n",
       "      <td>1.53</td>\n",
       "      <td>6:00pm - 8:59pm</td>\n",
       "      <td>2</td>\n",
       "      <td>04/2015</td>\n",
       "      <td>Yes</td>\n",
       "    </tr>\n",
       "    <tr>\n",
       "      <th>1</th>\n",
       "      <td>Wednesday</td>\n",
       "      <td>Sumburgh</td>\n",
       "      <td>Rescue/Recovery</td>\n",
       "      <td>Land</td>\n",
       "      <td>Completed</td>\n",
       "      <td>Highlands and Islands</td>\n",
       "      <td>59.25</td>\n",
       "      <td>-2.58</td>\n",
       "      <td>6.00am - 8.59am</td>\n",
       "      <td>2</td>\n",
       "      <td>04/2015</td>\n",
       "      <td>Yes</td>\n",
       "    </tr>\n",
       "    <tr>\n",
       "      <th>2</th>\n",
       "      <td>Wednesday</td>\n",
       "      <td>Inverness</td>\n",
       "      <td>Support</td>\n",
       "      <td>Land</td>\n",
       "      <td>Completed</td>\n",
       "      <td>Highlands and Islands</td>\n",
       "      <td>56.79</td>\n",
       "      <td>-4.99</td>\n",
       "      <td>9:00am - 11:59am</td>\n",
       "      <td>3</td>\n",
       "      <td>04/2015</td>\n",
       "      <td>Yes</td>\n",
       "    </tr>\n",
       "    <tr>\n",
       "      <th>3</th>\n",
       "      <td>Wednesday</td>\n",
       "      <td>Inverness</td>\n",
       "      <td>Support</td>\n",
       "      <td>Land</td>\n",
       "      <td>Completed</td>\n",
       "      <td>Highlands and Islands</td>\n",
       "      <td>56.79</td>\n",
       "      <td>-5.06</td>\n",
       "      <td>12:00pm - 2:59pm</td>\n",
       "      <td>4</td>\n",
       "      <td>04/2015</td>\n",
       "      <td>Yes</td>\n",
       "    </tr>\n",
       "    <tr>\n",
       "      <th>4</th>\n",
       "      <td>Thursday</td>\n",
       "      <td>Inverness</td>\n",
       "      <td>Rescue/Recovery</td>\n",
       "      <td>Land</td>\n",
       "      <td>Completed</td>\n",
       "      <td>Highlands and Islands</td>\n",
       "      <td>56.81</td>\n",
       "      <td>-5.02</td>\n",
       "      <td>6:00pm - 8:59pm</td>\n",
       "      <td>1</td>\n",
       "      <td>04/2015</td>\n",
       "      <td>Yes</td>\n",
       "    </tr>\n",
       "    <tr>\n",
       "      <th>5</th>\n",
       "      <td>Thursday</td>\n",
       "      <td>Sumburgh</td>\n",
       "      <td>Rescue/Recovery</td>\n",
       "      <td>Maritime</td>\n",
       "      <td>Completed</td>\n",
       "      <td>Highlands and Islands</td>\n",
       "      <td>61.37</td>\n",
       "      <td>1.58</td>\n",
       "      <td>6.00am - 8.59am</td>\n",
       "      <td>2</td>\n",
       "      <td>04/2015</td>\n",
       "      <td>Yes</td>\n",
       "    </tr>\n",
       "    <tr>\n",
       "      <th>6</th>\n",
       "      <td>Thursday</td>\n",
       "      <td>Lee On Solent</td>\n",
       "      <td>Search Only</td>\n",
       "      <td>Coast</td>\n",
       "      <td>Completed</td>\n",
       "      <td>South East</td>\n",
       "      <td>51.10</td>\n",
       "      <td>1.27</td>\n",
       "      <td>12:00pm - 2:59pm</td>\n",
       "      <td>3</td>\n",
       "      <td>04/2015</td>\n",
       "      <td>Yes</td>\n",
       "    </tr>\n",
       "    <tr>\n",
       "      <th>7</th>\n",
       "      <td>Thursday</td>\n",
       "      <td>Lee On Solent</td>\n",
       "      <td>Aborted/Not Required</td>\n",
       "      <td>Land</td>\n",
       "      <td>Aborted</td>\n",
       "      <td>South East</td>\n",
       "      <td>50.68</td>\n",
       "      <td>-1.28</td>\n",
       "      <td>6:00pm - 8:59pm</td>\n",
       "      <td>0</td>\n",
       "      <td>04/2015</td>\n",
       "      <td>No</td>\n",
       "    </tr>\n",
       "    <tr>\n",
       "      <th>8</th>\n",
       "      <td>Friday</td>\n",
       "      <td>Lee On Solent</td>\n",
       "      <td>Pre-arranged Transfer</td>\n",
       "      <td>Land</td>\n",
       "      <td>Completed</td>\n",
       "      <td>South East</td>\n",
       "      <td>50.71</td>\n",
       "      <td>-1.30</td>\n",
       "      <td>12:00pm - 2:59pm</td>\n",
       "      <td>1</td>\n",
       "      <td>04/2015</td>\n",
       "      <td>Yes</td>\n",
       "    </tr>\n",
       "    <tr>\n",
       "      <th>9</th>\n",
       "      <td>Friday</td>\n",
       "      <td>Lee On Solent</td>\n",
       "      <td>Pre-arranged Transfer</td>\n",
       "      <td>Land</td>\n",
       "      <td>Completed</td>\n",
       "      <td>South East</td>\n",
       "      <td>50.71</td>\n",
       "      <td>-1.30</td>\n",
       "      <td>3:00pm - 5:59pm</td>\n",
       "      <td>0</td>\n",
       "      <td>04/2015</td>\n",
       "      <td>Yes</td>\n",
       "    </tr>\n",
       "    <tr>\n",
       "      <th>10</th>\n",
       "      <td>Friday</td>\n",
       "      <td>Lee On Solent</td>\n",
       "      <td>Pre-arranged Transfer</td>\n",
       "      <td>Land</td>\n",
       "      <td>Completed</td>\n",
       "      <td>South East</td>\n",
       "      <td>50.71</td>\n",
       "      <td>-1.30</td>\n",
       "      <td>9:00pm - 11:59pm</td>\n",
       "      <td>1</td>\n",
       "      <td>04/2015</td>\n",
       "      <td>Yes</td>\n",
       "    </tr>\n",
       "    <tr>\n",
       "      <th>11</th>\n",
       "      <td>Saturday</td>\n",
       "      <td>Sumburgh</td>\n",
       "      <td>Rescue/Recovery</td>\n",
       "      <td>Land</td>\n",
       "      <td>Completed</td>\n",
       "      <td>Highlands and Islands</td>\n",
       "      <td>59.18</td>\n",
       "      <td>-2.77</td>\n",
       "      <td>3:00pm - 5:59pm</td>\n",
       "      <td>2</td>\n",
       "      <td>04/2015</td>\n",
       "      <td>Yes</td>\n",
       "    </tr>\n",
       "    <tr>\n",
       "      <th>12</th>\n",
       "      <td>Saturday</td>\n",
       "      <td>Stornoway</td>\n",
       "      <td>Pre-arranged Transfer</td>\n",
       "      <td>Land</td>\n",
       "      <td>Completed</td>\n",
       "      <td>Highlands and Islands</td>\n",
       "      <td>57.47</td>\n",
       "      <td>-7.36</td>\n",
       "      <td>9:00pm - 11:59pm</td>\n",
       "      <td>4</td>\n",
       "      <td>04/2015</td>\n",
       "      <td>Yes</td>\n",
       "    </tr>\n",
       "    <tr>\n",
       "      <th>13</th>\n",
       "      <td>Saturday</td>\n",
       "      <td>Inverness</td>\n",
       "      <td>Search Only</td>\n",
       "      <td>Land</td>\n",
       "      <td>Completed</td>\n",
       "      <td>Highlands and Islands</td>\n",
       "      <td>56.49</td>\n",
       "      <td>-5.04</td>\n",
       "      <td>12:00pm - 2:59pm</td>\n",
       "      <td>2</td>\n",
       "      <td>04/2015</td>\n",
       "      <td>Yes</td>\n",
       "    </tr>\n",
       "    <tr>\n",
       "      <th>14</th>\n",
       "      <td>Saturday</td>\n",
       "      <td>Inverness</td>\n",
       "      <td>Rescue/Recovery</td>\n",
       "      <td>Land</td>\n",
       "      <td>Completed</td>\n",
       "      <td>Eastern Scotland</td>\n",
       "      <td>56.24</td>\n",
       "      <td>-4.24</td>\n",
       "      <td>6:00pm - 8:59pm</td>\n",
       "      <td>2</td>\n",
       "      <td>04/2015</td>\n",
       "      <td>Yes</td>\n",
       "    </tr>\n",
       "  </tbody>\n",
       "</table>\n",
       "</div>"
      ],
      "text/plain": [
       "   Day_of_week Name_of_the_Base        Type_of_tasking Tasking_location  \\\n",
       "0    Wednesday         Sumburgh        Rescue/Recovery         Maritime   \n",
       "1    Wednesday         Sumburgh        Rescue/Recovery             Land   \n",
       "2    Wednesday        Inverness                Support             Land   \n",
       "3    Wednesday        Inverness                Support             Land   \n",
       "4     Thursday        Inverness        Rescue/Recovery             Land   \n",
       "5     Thursday         Sumburgh        Rescue/Recovery         Maritime   \n",
       "6     Thursday    Lee On Solent            Search Only            Coast   \n",
       "7     Thursday    Lee On Solent   Aborted/Not Required             Land   \n",
       "8       Friday    Lee On Solent  Pre-arranged Transfer             Land   \n",
       "9       Friday    Lee On Solent  Pre-arranged Transfer             Land   \n",
       "10      Friday    Lee On Solent  Pre-arranged Transfer             Land   \n",
       "11    Saturday         Sumburgh        Rescue/Recovery             Land   \n",
       "12    Saturday        Stornoway  Pre-arranged Transfer             Land   \n",
       "13    Saturday        Inverness            Search Only             Land   \n",
       "14    Saturday        Inverness        Rescue/Recovery             Land   \n",
       "\n",
       "   Tasking_outcome                 Region  Latitude  Longitude  \\\n",
       "0        Completed  Highlands and Islands     61.47       1.53   \n",
       "1        Completed  Highlands and Islands     59.25      -2.58   \n",
       "2        Completed  Highlands and Islands     56.79      -4.99   \n",
       "3        Completed  Highlands and Islands     56.79      -5.06   \n",
       "4        Completed  Highlands and Islands     56.81      -5.02   \n",
       "5        Completed  Highlands and Islands     61.37       1.58   \n",
       "6        Completed             South East     51.10       1.27   \n",
       "7          Aborted             South East     50.68      -1.28   \n",
       "8        Completed             South East     50.71      -1.30   \n",
       "9        Completed             South East     50.71      -1.30   \n",
       "10       Completed             South East     50.71      -1.30   \n",
       "11       Completed  Highlands and Islands     59.18      -2.77   \n",
       "12       Completed  Highlands and Islands     57.47      -7.36   \n",
       "13       Completed  Highlands and Islands     56.49      -5.04   \n",
       "14       Completed       Eastern Scotland     56.24      -4.24   \n",
       "\n",
       "         Time_of_day  Tasking_duration MonthYear Tasking_complnotcompl  \n",
       "0    6:00pm - 8:59pm                 2   04/2015                   Yes  \n",
       "1    6.00am - 8.59am                 2   04/2015                   Yes  \n",
       "2   9:00am - 11:59am                 3   04/2015                   Yes  \n",
       "3   12:00pm - 2:59pm                 4   04/2015                   Yes  \n",
       "4    6:00pm - 8:59pm                 1   04/2015                   Yes  \n",
       "5    6.00am - 8.59am                 2   04/2015                   Yes  \n",
       "6   12:00pm - 2:59pm                 3   04/2015                   Yes  \n",
       "7    6:00pm - 8:59pm                 0   04/2015                    No  \n",
       "8   12:00pm - 2:59pm                 1   04/2015                   Yes  \n",
       "9    3:00pm - 5:59pm                 0   04/2015                   Yes  \n",
       "10  9:00pm - 11:59pm                 1   04/2015                   Yes  \n",
       "11   3:00pm - 5:59pm                 2   04/2015                   Yes  \n",
       "12  9:00pm - 11:59pm                 4   04/2015                   Yes  \n",
       "13  12:00pm - 2:59pm                 2   04/2015                   Yes  \n",
       "14   6:00pm - 8:59pm                 2   04/2015                   Yes  "
      ]
     },
     "execution_count": 35,
     "metadata": {},
     "output_type": "execute_result"
    }
   ],
   "source": [
    "# Check first 5 rows of data\n",
    "\n",
    "df_sarh0112prep.head(15)"
   ]
  },
  {
   "cell_type": "code",
   "execution_count": 36,
   "id": "f5a9add4",
   "metadata": {},
   "outputs": [],
   "source": [
    "# Making a subset to \"drop\" a column \"Tasking_outcome\""
   ]
  },
  {
   "cell_type": "code",
   "execution_count": 37,
   "id": "1f15d847",
   "metadata": {},
   "outputs": [],
   "source": [
    "df_sarh0112 = df_sarh0112prep[['Day_of_week', 'Name_of_the_Base', 'Type_of_tasking','Tasking_location', 'Region', 'Latitude', 'Longitude', 'Time_of_day', 'Tasking_duration', 'MonthYear', 'Tasking_complnotcompl']]"
   ]
  },
  {
   "cell_type": "code",
   "execution_count": 38,
   "id": "59150640",
   "metadata": {},
   "outputs": [
    {
     "data": {
      "text/html": [
       "<div>\n",
       "<style scoped>\n",
       "    .dataframe tbody tr th:only-of-type {\n",
       "        vertical-align: middle;\n",
       "    }\n",
       "\n",
       "    .dataframe tbody tr th {\n",
       "        vertical-align: top;\n",
       "    }\n",
       "\n",
       "    .dataframe thead th {\n",
       "        text-align: right;\n",
       "    }\n",
       "</style>\n",
       "<table border=\"1\" class=\"dataframe\">\n",
       "  <thead>\n",
       "    <tr style=\"text-align: right;\">\n",
       "      <th></th>\n",
       "      <th>Day_of_week</th>\n",
       "      <th>Name_of_the_Base</th>\n",
       "      <th>Type_of_tasking</th>\n",
       "      <th>Tasking_location</th>\n",
       "      <th>Region</th>\n",
       "      <th>Latitude</th>\n",
       "      <th>Longitude</th>\n",
       "      <th>Time_of_day</th>\n",
       "      <th>Tasking_duration</th>\n",
       "      <th>MonthYear</th>\n",
       "      <th>Tasking_complnotcompl</th>\n",
       "    </tr>\n",
       "  </thead>\n",
       "  <tbody>\n",
       "    <tr>\n",
       "      <th>0</th>\n",
       "      <td>Wednesday</td>\n",
       "      <td>Sumburgh</td>\n",
       "      <td>Rescue/Recovery</td>\n",
       "      <td>Maritime</td>\n",
       "      <td>Highlands and Islands</td>\n",
       "      <td>61.47</td>\n",
       "      <td>1.53</td>\n",
       "      <td>6:00pm - 8:59pm</td>\n",
       "      <td>2</td>\n",
       "      <td>04/2015</td>\n",
       "      <td>Yes</td>\n",
       "    </tr>\n",
       "    <tr>\n",
       "      <th>1</th>\n",
       "      <td>Wednesday</td>\n",
       "      <td>Sumburgh</td>\n",
       "      <td>Rescue/Recovery</td>\n",
       "      <td>Land</td>\n",
       "      <td>Highlands and Islands</td>\n",
       "      <td>59.25</td>\n",
       "      <td>-2.58</td>\n",
       "      <td>6.00am - 8.59am</td>\n",
       "      <td>2</td>\n",
       "      <td>04/2015</td>\n",
       "      <td>Yes</td>\n",
       "    </tr>\n",
       "    <tr>\n",
       "      <th>2</th>\n",
       "      <td>Wednesday</td>\n",
       "      <td>Inverness</td>\n",
       "      <td>Support</td>\n",
       "      <td>Land</td>\n",
       "      <td>Highlands and Islands</td>\n",
       "      <td>56.79</td>\n",
       "      <td>-4.99</td>\n",
       "      <td>9:00am - 11:59am</td>\n",
       "      <td>3</td>\n",
       "      <td>04/2015</td>\n",
       "      <td>Yes</td>\n",
       "    </tr>\n",
       "    <tr>\n",
       "      <th>3</th>\n",
       "      <td>Wednesday</td>\n",
       "      <td>Inverness</td>\n",
       "      <td>Support</td>\n",
       "      <td>Land</td>\n",
       "      <td>Highlands and Islands</td>\n",
       "      <td>56.79</td>\n",
       "      <td>-5.06</td>\n",
       "      <td>12:00pm - 2:59pm</td>\n",
       "      <td>4</td>\n",
       "      <td>04/2015</td>\n",
       "      <td>Yes</td>\n",
       "    </tr>\n",
       "    <tr>\n",
       "      <th>4</th>\n",
       "      <td>Thursday</td>\n",
       "      <td>Inverness</td>\n",
       "      <td>Rescue/Recovery</td>\n",
       "      <td>Land</td>\n",
       "      <td>Highlands and Islands</td>\n",
       "      <td>56.81</td>\n",
       "      <td>-5.02</td>\n",
       "      <td>6:00pm - 8:59pm</td>\n",
       "      <td>1</td>\n",
       "      <td>04/2015</td>\n",
       "      <td>Yes</td>\n",
       "    </tr>\n",
       "  </tbody>\n",
       "</table>\n",
       "</div>"
      ],
      "text/plain": [
       "  Day_of_week Name_of_the_Base  Type_of_tasking Tasking_location  \\\n",
       "0   Wednesday         Sumburgh  Rescue/Recovery         Maritime   \n",
       "1   Wednesday         Sumburgh  Rescue/Recovery             Land   \n",
       "2   Wednesday        Inverness          Support             Land   \n",
       "3   Wednesday        Inverness          Support             Land   \n",
       "4    Thursday        Inverness  Rescue/Recovery             Land   \n",
       "\n",
       "                  Region  Latitude  Longitude       Time_of_day  \\\n",
       "0  Highlands and Islands     61.47       1.53   6:00pm - 8:59pm   \n",
       "1  Highlands and Islands     59.25      -2.58   6.00am - 8.59am   \n",
       "2  Highlands and Islands     56.79      -4.99  9:00am - 11:59am   \n",
       "3  Highlands and Islands     56.79      -5.06  12:00pm - 2:59pm   \n",
       "4  Highlands and Islands     56.81      -5.02   6:00pm - 8:59pm   \n",
       "\n",
       "   Tasking_duration MonthYear Tasking_complnotcompl  \n",
       "0                 2   04/2015                   Yes  \n",
       "1                 2   04/2015                   Yes  \n",
       "2                 3   04/2015                   Yes  \n",
       "3                 4   04/2015                   Yes  \n",
       "4                 1   04/2015                   Yes  "
      ]
     },
     "execution_count": 38,
     "metadata": {},
     "output_type": "execute_result"
    }
   ],
   "source": [
    "# Check first 5 rows of data\n",
    "\n",
    "df_sarh0112.head()"
   ]
  },
  {
   "cell_type": "markdown",
   "id": "fcefa42b",
   "metadata": {},
   "source": [
    "### df_sarh0101"
   ]
  },
  {
   "cell_type": "code",
   "execution_count": 39,
   "id": "006f14d1",
   "metadata": {},
   "outputs": [
    {
     "data": {
      "text/html": [
       "<div>\n",
       "<style scoped>\n",
       "    .dataframe tbody tr th:only-of-type {\n",
       "        vertical-align: middle;\n",
       "    }\n",
       "\n",
       "    .dataframe tbody tr th {\n",
       "        vertical-align: top;\n",
       "    }\n",
       "\n",
       "    .dataframe thead th {\n",
       "        text-align: right;\n",
       "    }\n",
       "</style>\n",
       "<table border=\"1\" class=\"dataframe\">\n",
       "  <thead>\n",
       "    <tr style=\"text-align: right;\">\n",
       "      <th></th>\n",
       "      <th>Unnamed: 0</th>\n",
       "      <th>Year</th>\n",
       "      <th>Month</th>\n",
       "      <th>Caernarfon</th>\n",
       "      <th>Humberside</th>\n",
       "      <th>Inverness</th>\n",
       "      <th>Lee_On_Solent</th>\n",
       "      <th>Lydd</th>\n",
       "      <th>Newquay</th>\n",
       "      <th>Portland</th>\n",
       "      <th>Prestwick</th>\n",
       "      <th>St_Athan</th>\n",
       "      <th>Stornoway</th>\n",
       "      <th>Sumburgh</th>\n",
       "      <th>Total</th>\n",
       "    </tr>\n",
       "  </thead>\n",
       "  <tbody>\n",
       "    <tr>\n",
       "      <th>0</th>\n",
       "      <td>0</td>\n",
       "      <td>2016</td>\n",
       "      <td>January</td>\n",
       "      <td>16</td>\n",
       "      <td>13</td>\n",
       "      <td>30</td>\n",
       "      <td>9</td>\n",
       "      <td>8</td>\n",
       "      <td>17</td>\n",
       "      <td>1</td>\n",
       "      <td>31</td>\n",
       "      <td>16</td>\n",
       "      <td>9</td>\n",
       "      <td>10</td>\n",
       "      <td>160</td>\n",
       "    </tr>\n",
       "    <tr>\n",
       "      <th>1</th>\n",
       "      <td>1</td>\n",
       "      <td>2016</td>\n",
       "      <td>February</td>\n",
       "      <td>24</td>\n",
       "      <td>13</td>\n",
       "      <td>27</td>\n",
       "      <td>14</td>\n",
       "      <td>9</td>\n",
       "      <td>18</td>\n",
       "      <td>6</td>\n",
       "      <td>28</td>\n",
       "      <td>12</td>\n",
       "      <td>5</td>\n",
       "      <td>7</td>\n",
       "      <td>163</td>\n",
       "    </tr>\n",
       "    <tr>\n",
       "      <th>2</th>\n",
       "      <td>2</td>\n",
       "      <td>2016</td>\n",
       "      <td>March</td>\n",
       "      <td>22</td>\n",
       "      <td>16</td>\n",
       "      <td>22</td>\n",
       "      <td>10</td>\n",
       "      <td>19</td>\n",
       "      <td>22</td>\n",
       "      <td>12</td>\n",
       "      <td>34</td>\n",
       "      <td>16</td>\n",
       "      <td>4</td>\n",
       "      <td>8</td>\n",
       "      <td>185</td>\n",
       "    </tr>\n",
       "    <tr>\n",
       "      <th>3</th>\n",
       "      <td>3</td>\n",
       "      <td>2016</td>\n",
       "      <td>Jan to Mar total</td>\n",
       "      <td>62</td>\n",
       "      <td>42</td>\n",
       "      <td>79</td>\n",
       "      <td>33</td>\n",
       "      <td>36</td>\n",
       "      <td>57</td>\n",
       "      <td>19</td>\n",
       "      <td>93</td>\n",
       "      <td>44</td>\n",
       "      <td>18</td>\n",
       "      <td>25</td>\n",
       "      <td>508</td>\n",
       "    </tr>\n",
       "    <tr>\n",
       "      <th>4</th>\n",
       "      <td>4</td>\n",
       "      <td>2016</td>\n",
       "      <td>April</td>\n",
       "      <td>24</td>\n",
       "      <td>24</td>\n",
       "      <td>20</td>\n",
       "      <td>9</td>\n",
       "      <td>11</td>\n",
       "      <td>23</td>\n",
       "      <td>4</td>\n",
       "      <td>34</td>\n",
       "      <td>20</td>\n",
       "      <td>12</td>\n",
       "      <td>12</td>\n",
       "      <td>193</td>\n",
       "    </tr>\n",
       "  </tbody>\n",
       "</table>\n",
       "</div>"
      ],
      "text/plain": [
       "   Unnamed: 0  Year             Month  Caernarfon  Humberside  Inverness  \\\n",
       "0           0  2016           January          16          13         30   \n",
       "1           1  2016          February          24          13         27   \n",
       "2           2  2016             March          22          16         22   \n",
       "3           3  2016  Jan to Mar total          62          42         79   \n",
       "4           4  2016             April          24          24         20   \n",
       "\n",
       "   Lee_On_Solent  Lydd  Newquay Portland  Prestwick  St_Athan  Stornoway  \\\n",
       "0              9     8       17        1         31        16          9   \n",
       "1             14     9       18        6         28        12          5   \n",
       "2             10    19       22       12         34        16          4   \n",
       "3             33    36       57       19         93        44         18   \n",
       "4              9    11       23        4         34        20         12   \n",
       "\n",
       "   Sumburgh  Total  \n",
       "0        10    160  \n",
       "1         7    163  \n",
       "2         8    185  \n",
       "3        25    508  \n",
       "4        12    193  "
      ]
     },
     "execution_count": 39,
     "metadata": {},
     "output_type": "execute_result"
    }
   ],
   "source": [
    "df_sarh0101.head()"
   ]
  },
  {
   "cell_type": "code",
   "execution_count": 40,
   "id": "b9ba4321",
   "metadata": {},
   "outputs": [],
   "source": [
    "# Deleting rows with 'Jan to Mar total, Apr to Jun total, Jul to Sep total, Oct to Dec total'\n",
    "\n",
    "df_sarh0101 = df_sarh0101.drop(['Unnamed: 0'], axis=1)"
   ]
  },
  {
   "cell_type": "code",
   "execution_count": 41,
   "id": "f1f45ec1",
   "metadata": {},
   "outputs": [
    {
     "data": {
      "text/html": [
       "<div>\n",
       "<style scoped>\n",
       "    .dataframe tbody tr th:only-of-type {\n",
       "        vertical-align: middle;\n",
       "    }\n",
       "\n",
       "    .dataframe tbody tr th {\n",
       "        vertical-align: top;\n",
       "    }\n",
       "\n",
       "    .dataframe thead th {\n",
       "        text-align: right;\n",
       "    }\n",
       "</style>\n",
       "<table border=\"1\" class=\"dataframe\">\n",
       "  <thead>\n",
       "    <tr style=\"text-align: right;\">\n",
       "      <th></th>\n",
       "      <th>Year</th>\n",
       "      <th>Month</th>\n",
       "      <th>Caernarfon</th>\n",
       "      <th>Humberside</th>\n",
       "      <th>Inverness</th>\n",
       "      <th>Lee_On_Solent</th>\n",
       "      <th>Lydd</th>\n",
       "      <th>Newquay</th>\n",
       "      <th>Portland</th>\n",
       "      <th>Prestwick</th>\n",
       "      <th>St_Athan</th>\n",
       "      <th>Stornoway</th>\n",
       "      <th>Sumburgh</th>\n",
       "      <th>Total</th>\n",
       "    </tr>\n",
       "  </thead>\n",
       "  <tbody>\n",
       "    <tr>\n",
       "      <th>0</th>\n",
       "      <td>2016</td>\n",
       "      <td>January</td>\n",
       "      <td>16</td>\n",
       "      <td>13</td>\n",
       "      <td>30</td>\n",
       "      <td>9</td>\n",
       "      <td>8</td>\n",
       "      <td>17</td>\n",
       "      <td>1</td>\n",
       "      <td>31</td>\n",
       "      <td>16</td>\n",
       "      <td>9</td>\n",
       "      <td>10</td>\n",
       "      <td>160</td>\n",
       "    </tr>\n",
       "    <tr>\n",
       "      <th>1</th>\n",
       "      <td>2016</td>\n",
       "      <td>February</td>\n",
       "      <td>24</td>\n",
       "      <td>13</td>\n",
       "      <td>27</td>\n",
       "      <td>14</td>\n",
       "      <td>9</td>\n",
       "      <td>18</td>\n",
       "      <td>6</td>\n",
       "      <td>28</td>\n",
       "      <td>12</td>\n",
       "      <td>5</td>\n",
       "      <td>7</td>\n",
       "      <td>163</td>\n",
       "    </tr>\n",
       "    <tr>\n",
       "      <th>2</th>\n",
       "      <td>2016</td>\n",
       "      <td>March</td>\n",
       "      <td>22</td>\n",
       "      <td>16</td>\n",
       "      <td>22</td>\n",
       "      <td>10</td>\n",
       "      <td>19</td>\n",
       "      <td>22</td>\n",
       "      <td>12</td>\n",
       "      <td>34</td>\n",
       "      <td>16</td>\n",
       "      <td>4</td>\n",
       "      <td>8</td>\n",
       "      <td>185</td>\n",
       "    </tr>\n",
       "    <tr>\n",
       "      <th>3</th>\n",
       "      <td>2016</td>\n",
       "      <td>Jan to Mar total</td>\n",
       "      <td>62</td>\n",
       "      <td>42</td>\n",
       "      <td>79</td>\n",
       "      <td>33</td>\n",
       "      <td>36</td>\n",
       "      <td>57</td>\n",
       "      <td>19</td>\n",
       "      <td>93</td>\n",
       "      <td>44</td>\n",
       "      <td>18</td>\n",
       "      <td>25</td>\n",
       "      <td>508</td>\n",
       "    </tr>\n",
       "    <tr>\n",
       "      <th>4</th>\n",
       "      <td>2016</td>\n",
       "      <td>April</td>\n",
       "      <td>24</td>\n",
       "      <td>24</td>\n",
       "      <td>20</td>\n",
       "      <td>9</td>\n",
       "      <td>11</td>\n",
       "      <td>23</td>\n",
       "      <td>4</td>\n",
       "      <td>34</td>\n",
       "      <td>20</td>\n",
       "      <td>12</td>\n",
       "      <td>12</td>\n",
       "      <td>193</td>\n",
       "    </tr>\n",
       "  </tbody>\n",
       "</table>\n",
       "</div>"
      ],
      "text/plain": [
       "   Year             Month  Caernarfon  Humberside  Inverness  Lee_On_Solent  \\\n",
       "0  2016           January          16          13         30              9   \n",
       "1  2016          February          24          13         27             14   \n",
       "2  2016             March          22          16         22             10   \n",
       "3  2016  Jan to Mar total          62          42         79             33   \n",
       "4  2016             April          24          24         20              9   \n",
       "\n",
       "   Lydd  Newquay Portland  Prestwick  St_Athan  Stornoway  Sumburgh  Total  \n",
       "0     8       17        1         31        16          9        10    160  \n",
       "1     9       18        6         28        12          5         7    163  \n",
       "2    19       22       12         34        16          4         8    185  \n",
       "3    36       57       19         93        44         18        25    508  \n",
       "4    11       23        4         34        20         12        12    193  "
      ]
     },
     "execution_count": 41,
     "metadata": {},
     "output_type": "execute_result"
    }
   ],
   "source": [
    "# check sarh0101\n",
    "\n",
    "df_sarh0101.head()"
   ]
  },
  {
   "cell_type": "code",
   "execution_count": 42,
   "id": "1bac3d42",
   "metadata": {},
   "outputs": [
    {
     "data": {
      "text/plain": [
       "(116, 14)"
      ]
     },
     "execution_count": 42,
     "metadata": {},
     "output_type": "execute_result"
    }
   ],
   "source": [
    "df_sarh0101.shape"
   ]
  },
  {
   "cell_type": "code",
   "execution_count": 43,
   "id": "e411738e",
   "metadata": {},
   "outputs": [],
   "source": [
    "# Drop any rows that have list of string values in the Month column\n",
    "\n",
    "df_sarh0101 = df_sarh0101.drop(df_sarh0101[df_sarh0101[\"Month\"].str.contains(\"Jan to Mar total|Apr to Jun total|Jul to Sep total|Oct to Dec total\")].index)"
   ]
  },
  {
   "cell_type": "code",
   "execution_count": 44,
   "id": "c796afeb",
   "metadata": {},
   "outputs": [
    {
     "data": {
      "text/plain": [
       "(87, 14)"
      ]
     },
     "execution_count": 44,
     "metadata": {},
     "output_type": "execute_result"
    }
   ],
   "source": [
    "df_sarh0101.shape"
   ]
  },
  {
   "cell_type": "code",
   "execution_count": 45,
   "id": "6c9aea4b",
   "metadata": {},
   "outputs": [
    {
     "data": {
      "text/html": [
       "<div>\n",
       "<style scoped>\n",
       "    .dataframe tbody tr th:only-of-type {\n",
       "        vertical-align: middle;\n",
       "    }\n",
       "\n",
       "    .dataframe tbody tr th {\n",
       "        vertical-align: top;\n",
       "    }\n",
       "\n",
       "    .dataframe thead th {\n",
       "        text-align: right;\n",
       "    }\n",
       "</style>\n",
       "<table border=\"1\" class=\"dataframe\">\n",
       "  <thead>\n",
       "    <tr style=\"text-align: right;\">\n",
       "      <th></th>\n",
       "      <th>Year</th>\n",
       "      <th>Month</th>\n",
       "      <th>Caernarfon</th>\n",
       "      <th>Humberside</th>\n",
       "      <th>Inverness</th>\n",
       "      <th>Lee_On_Solent</th>\n",
       "      <th>Lydd</th>\n",
       "      <th>Newquay</th>\n",
       "      <th>Portland</th>\n",
       "      <th>Prestwick</th>\n",
       "      <th>St_Athan</th>\n",
       "      <th>Stornoway</th>\n",
       "      <th>Sumburgh</th>\n",
       "      <th>Total</th>\n",
       "    </tr>\n",
       "  </thead>\n",
       "  <tbody>\n",
       "    <tr>\n",
       "      <th>0</th>\n",
       "      <td>2016</td>\n",
       "      <td>January</td>\n",
       "      <td>16</td>\n",
       "      <td>13</td>\n",
       "      <td>30</td>\n",
       "      <td>9</td>\n",
       "      <td>8</td>\n",
       "      <td>17</td>\n",
       "      <td>1</td>\n",
       "      <td>31</td>\n",
       "      <td>16</td>\n",
       "      <td>9</td>\n",
       "      <td>10</td>\n",
       "      <td>160</td>\n",
       "    </tr>\n",
       "    <tr>\n",
       "      <th>1</th>\n",
       "      <td>2016</td>\n",
       "      <td>February</td>\n",
       "      <td>24</td>\n",
       "      <td>13</td>\n",
       "      <td>27</td>\n",
       "      <td>14</td>\n",
       "      <td>9</td>\n",
       "      <td>18</td>\n",
       "      <td>6</td>\n",
       "      <td>28</td>\n",
       "      <td>12</td>\n",
       "      <td>5</td>\n",
       "      <td>7</td>\n",
       "      <td>163</td>\n",
       "    </tr>\n",
       "    <tr>\n",
       "      <th>2</th>\n",
       "      <td>2016</td>\n",
       "      <td>March</td>\n",
       "      <td>22</td>\n",
       "      <td>16</td>\n",
       "      <td>22</td>\n",
       "      <td>10</td>\n",
       "      <td>19</td>\n",
       "      <td>22</td>\n",
       "      <td>12</td>\n",
       "      <td>34</td>\n",
       "      <td>16</td>\n",
       "      <td>4</td>\n",
       "      <td>8</td>\n",
       "      <td>185</td>\n",
       "    </tr>\n",
       "    <tr>\n",
       "      <th>4</th>\n",
       "      <td>2016</td>\n",
       "      <td>April</td>\n",
       "      <td>24</td>\n",
       "      <td>24</td>\n",
       "      <td>20</td>\n",
       "      <td>9</td>\n",
       "      <td>11</td>\n",
       "      <td>23</td>\n",
       "      <td>4</td>\n",
       "      <td>34</td>\n",
       "      <td>20</td>\n",
       "      <td>12</td>\n",
       "      <td>12</td>\n",
       "      <td>193</td>\n",
       "    </tr>\n",
       "    <tr>\n",
       "      <th>5</th>\n",
       "      <td>2016</td>\n",
       "      <td>May</td>\n",
       "      <td>36</td>\n",
       "      <td>27</td>\n",
       "      <td>33</td>\n",
       "      <td>15</td>\n",
       "      <td>25</td>\n",
       "      <td>32</td>\n",
       "      <td>14</td>\n",
       "      <td>28</td>\n",
       "      <td>24</td>\n",
       "      <td>9</td>\n",
       "      <td>6</td>\n",
       "      <td>249</td>\n",
       "    </tr>\n",
       "  </tbody>\n",
       "</table>\n",
       "</div>"
      ],
      "text/plain": [
       "   Year     Month  Caernarfon  Humberside  Inverness  Lee_On_Solent  Lydd  \\\n",
       "0  2016   January          16          13         30              9     8   \n",
       "1  2016  February          24          13         27             14     9   \n",
       "2  2016     March          22          16         22             10    19   \n",
       "4  2016     April          24          24         20              9    11   \n",
       "5  2016       May          36          27         33             15    25   \n",
       "\n",
       "   Newquay Portland  Prestwick  St_Athan  Stornoway  Sumburgh  Total  \n",
       "0       17        1         31        16          9        10    160  \n",
       "1       18        6         28        12          5         7    163  \n",
       "2       22       12         34        16          4         8    185  \n",
       "4       23        4         34        20         12        12    193  \n",
       "5       32       14         28        24          9         6    249  "
      ]
     },
     "execution_count": 45,
     "metadata": {},
     "output_type": "execute_result"
    }
   ],
   "source": [
    "# Check sarh0101\n",
    "\n",
    "df_sarh0101.head()"
   ]
  },
  {
   "cell_type": "code",
   "execution_count": 46,
   "id": "c8b3da00",
   "metadata": {},
   "outputs": [
    {
     "name": "stdout",
     "output_type": "stream",
     "text": [
      "<class 'pandas.core.frame.DataFrame'>\n",
      "Int64Index: 87 entries, 0 to 114\n",
      "Data columns (total 14 columns):\n",
      " #   Column         Non-Null Count  Dtype \n",
      "---  ------         --------------  ----- \n",
      " 0   Year           87 non-null     int64 \n",
      " 1   Month          87 non-null     object\n",
      " 2   Caernarfon     87 non-null     int64 \n",
      " 3   Humberside     87 non-null     int64 \n",
      " 4   Inverness      87 non-null     int64 \n",
      " 5   Lee_On_Solent  87 non-null     int64 \n",
      " 6   Lydd           87 non-null     int64 \n",
      " 7   Newquay        87 non-null     int64 \n",
      " 8   Portland       87 non-null     object\n",
      " 9   Prestwick      87 non-null     int64 \n",
      " 10  St_Athan       87 non-null     int64 \n",
      " 11  Stornoway      87 non-null     int64 \n",
      " 12  Sumburgh       87 non-null     int64 \n",
      " 13  Total          87 non-null     int64 \n",
      "dtypes: int64(12), object(2)\n",
      "memory usage: 10.2+ KB\n"
     ]
    }
   ],
   "source": [
    "# Check sarh0101\n",
    "\n",
    "df_sarh0101.info()"
   ]
  },
  {
   "cell_type": "code",
   "execution_count": 47,
   "id": "7b460331",
   "metadata": {},
   "outputs": [],
   "source": [
    "# Change Year Dtype from int to str\n",
    "\n",
    "df_sarh0101['Year'] = df_sarh0101['Year'].astype('str')"
   ]
  },
  {
   "cell_type": "code",
   "execution_count": 48,
   "id": "92a19c16",
   "metadata": {},
   "outputs": [
    {
     "data": {
      "text/plain": [
       "0       1/2016\n",
       "1       2/2016\n",
       "2       3/2016\n",
       "4       4/2016\n",
       "5       5/2016\n",
       "        ...   \n",
       "109    11/2022\n",
       "110    12/2022\n",
       "112     1/2023\n",
       "113     2/2023\n",
       "114     3/2023\n",
       "Name: M/Y, Length: 87, dtype: object"
      ]
     },
     "execution_count": 48,
     "metadata": {},
     "output_type": "execute_result"
    }
   ],
   "source": [
    "# Combining Month and Year into one column\n",
    "\n",
    "df_sarh0101['M/Y'] = pd.to_datetime(df_sarh0101.Month, format='%B').dt.month.astype(str) +\"/\"+ df_sarh0101.Year\n",
    "df_sarh0101['M/Y']"
   ]
  },
  {
   "cell_type": "code",
   "execution_count": 49,
   "id": "252ed6e3",
   "metadata": {},
   "outputs": [
    {
     "data": {
      "text/html": [
       "<div>\n",
       "<style scoped>\n",
       "    .dataframe tbody tr th:only-of-type {\n",
       "        vertical-align: middle;\n",
       "    }\n",
       "\n",
       "    .dataframe tbody tr th {\n",
       "        vertical-align: top;\n",
       "    }\n",
       "\n",
       "    .dataframe thead th {\n",
       "        text-align: right;\n",
       "    }\n",
       "</style>\n",
       "<table border=\"1\" class=\"dataframe\">\n",
       "  <thead>\n",
       "    <tr style=\"text-align: right;\">\n",
       "      <th></th>\n",
       "      <th>Year</th>\n",
       "      <th>Month</th>\n",
       "      <th>Caernarfon</th>\n",
       "      <th>Humberside</th>\n",
       "      <th>Inverness</th>\n",
       "      <th>Lee_On_Solent</th>\n",
       "      <th>Lydd</th>\n",
       "      <th>Newquay</th>\n",
       "      <th>Portland</th>\n",
       "      <th>Prestwick</th>\n",
       "      <th>St_Athan</th>\n",
       "      <th>Stornoway</th>\n",
       "      <th>Sumburgh</th>\n",
       "      <th>Total</th>\n",
       "      <th>M/Y</th>\n",
       "    </tr>\n",
       "  </thead>\n",
       "  <tbody>\n",
       "    <tr>\n",
       "      <th>0</th>\n",
       "      <td>2016</td>\n",
       "      <td>January</td>\n",
       "      <td>16</td>\n",
       "      <td>13</td>\n",
       "      <td>30</td>\n",
       "      <td>9</td>\n",
       "      <td>8</td>\n",
       "      <td>17</td>\n",
       "      <td>1</td>\n",
       "      <td>31</td>\n",
       "      <td>16</td>\n",
       "      <td>9</td>\n",
       "      <td>10</td>\n",
       "      <td>160</td>\n",
       "      <td>1/2016</td>\n",
       "    </tr>\n",
       "    <tr>\n",
       "      <th>1</th>\n",
       "      <td>2016</td>\n",
       "      <td>February</td>\n",
       "      <td>24</td>\n",
       "      <td>13</td>\n",
       "      <td>27</td>\n",
       "      <td>14</td>\n",
       "      <td>9</td>\n",
       "      <td>18</td>\n",
       "      <td>6</td>\n",
       "      <td>28</td>\n",
       "      <td>12</td>\n",
       "      <td>5</td>\n",
       "      <td>7</td>\n",
       "      <td>163</td>\n",
       "      <td>2/2016</td>\n",
       "    </tr>\n",
       "    <tr>\n",
       "      <th>2</th>\n",
       "      <td>2016</td>\n",
       "      <td>March</td>\n",
       "      <td>22</td>\n",
       "      <td>16</td>\n",
       "      <td>22</td>\n",
       "      <td>10</td>\n",
       "      <td>19</td>\n",
       "      <td>22</td>\n",
       "      <td>12</td>\n",
       "      <td>34</td>\n",
       "      <td>16</td>\n",
       "      <td>4</td>\n",
       "      <td>8</td>\n",
       "      <td>185</td>\n",
       "      <td>3/2016</td>\n",
       "    </tr>\n",
       "    <tr>\n",
       "      <th>4</th>\n",
       "      <td>2016</td>\n",
       "      <td>April</td>\n",
       "      <td>24</td>\n",
       "      <td>24</td>\n",
       "      <td>20</td>\n",
       "      <td>9</td>\n",
       "      <td>11</td>\n",
       "      <td>23</td>\n",
       "      <td>4</td>\n",
       "      <td>34</td>\n",
       "      <td>20</td>\n",
       "      <td>12</td>\n",
       "      <td>12</td>\n",
       "      <td>193</td>\n",
       "      <td>4/2016</td>\n",
       "    </tr>\n",
       "    <tr>\n",
       "      <th>5</th>\n",
       "      <td>2016</td>\n",
       "      <td>May</td>\n",
       "      <td>36</td>\n",
       "      <td>27</td>\n",
       "      <td>33</td>\n",
       "      <td>15</td>\n",
       "      <td>25</td>\n",
       "      <td>32</td>\n",
       "      <td>14</td>\n",
       "      <td>28</td>\n",
       "      <td>24</td>\n",
       "      <td>9</td>\n",
       "      <td>6</td>\n",
       "      <td>249</td>\n",
       "      <td>5/2016</td>\n",
       "    </tr>\n",
       "  </tbody>\n",
       "</table>\n",
       "</div>"
      ],
      "text/plain": [
       "   Year     Month  Caernarfon  Humberside  Inverness  Lee_On_Solent  Lydd  \\\n",
       "0  2016   January          16          13         30              9     8   \n",
       "1  2016  February          24          13         27             14     9   \n",
       "2  2016     March          22          16         22             10    19   \n",
       "4  2016     April          24          24         20              9    11   \n",
       "5  2016       May          36          27         33             15    25   \n",
       "\n",
       "   Newquay Portland  Prestwick  St_Athan  Stornoway  Sumburgh  Total     M/Y  \n",
       "0       17        1         31        16          9        10    160  1/2016  \n",
       "1       18        6         28        12          5         7    163  2/2016  \n",
       "2       22       12         34        16          4         8    185  3/2016  \n",
       "4       23        4         34        20         12        12    193  4/2016  \n",
       "5       32       14         28        24          9         6    249  5/2016  "
      ]
     },
     "execution_count": 49,
     "metadata": {},
     "output_type": "execute_result"
    }
   ],
   "source": [
    "# Check sarh0101\n",
    "\n",
    "df_sarh0101.head()"
   ]
  },
  {
   "cell_type": "markdown",
   "id": "38b1166b",
   "metadata": {},
   "source": [
    "## 3. Data prep for regression analysis"
   ]
  },
  {
   "cell_type": "code",
   "execution_count": 50,
   "id": "c4dfc96c",
   "metadata": {},
   "outputs": [
    {
     "name": "stdout",
     "output_type": "stream",
     "text": [
      "There are 8 categorical variables\n",
      "\n",
      "The categorical variables are : ['Day_of_week', 'Name_of_the_Base', 'Type_of_tasking', 'Tasking_location', 'Region', 'Time_of_day', 'MonthYear', 'Tasking_complnotcompl']\n"
     ]
    }
   ],
   "source": [
    "# find categorical variables\n",
    "\n",
    "categorical = [var for var in df_sarh0112.columns if df_sarh0112[var].dtype=='O']\n",
    "\n",
    "print('There are {} categorical variables\\n'.format(len(categorical)))\n",
    "\n",
    "print('The categorical variables are :', categorical)"
   ]
  },
  {
   "cell_type": "code",
   "execution_count": 51,
   "id": "5b197d34",
   "metadata": {},
   "outputs": [
    {
     "data": {
      "text/html": [
       "<div>\n",
       "<style scoped>\n",
       "    .dataframe tbody tr th:only-of-type {\n",
       "        vertical-align: middle;\n",
       "    }\n",
       "\n",
       "    .dataframe tbody tr th {\n",
       "        vertical-align: top;\n",
       "    }\n",
       "\n",
       "    .dataframe thead th {\n",
       "        text-align: right;\n",
       "    }\n",
       "</style>\n",
       "<table border=\"1\" class=\"dataframe\">\n",
       "  <thead>\n",
       "    <tr style=\"text-align: right;\">\n",
       "      <th></th>\n",
       "      <th>Day_of_week</th>\n",
       "      <th>Name_of_the_Base</th>\n",
       "      <th>Type_of_tasking</th>\n",
       "      <th>Tasking_location</th>\n",
       "      <th>Region</th>\n",
       "      <th>Time_of_day</th>\n",
       "      <th>MonthYear</th>\n",
       "      <th>Tasking_complnotcompl</th>\n",
       "    </tr>\n",
       "  </thead>\n",
       "  <tbody>\n",
       "    <tr>\n",
       "      <th>0</th>\n",
       "      <td>Wednesday</td>\n",
       "      <td>Sumburgh</td>\n",
       "      <td>Rescue/Recovery</td>\n",
       "      <td>Maritime</td>\n",
       "      <td>Highlands and Islands</td>\n",
       "      <td>6:00pm - 8:59pm</td>\n",
       "      <td>04/2015</td>\n",
       "      <td>Yes</td>\n",
       "    </tr>\n",
       "    <tr>\n",
       "      <th>1</th>\n",
       "      <td>Wednesday</td>\n",
       "      <td>Sumburgh</td>\n",
       "      <td>Rescue/Recovery</td>\n",
       "      <td>Land</td>\n",
       "      <td>Highlands and Islands</td>\n",
       "      <td>6.00am - 8.59am</td>\n",
       "      <td>04/2015</td>\n",
       "      <td>Yes</td>\n",
       "    </tr>\n",
       "    <tr>\n",
       "      <th>2</th>\n",
       "      <td>Wednesday</td>\n",
       "      <td>Inverness</td>\n",
       "      <td>Support</td>\n",
       "      <td>Land</td>\n",
       "      <td>Highlands and Islands</td>\n",
       "      <td>9:00am - 11:59am</td>\n",
       "      <td>04/2015</td>\n",
       "      <td>Yes</td>\n",
       "    </tr>\n",
       "    <tr>\n",
       "      <th>3</th>\n",
       "      <td>Wednesday</td>\n",
       "      <td>Inverness</td>\n",
       "      <td>Support</td>\n",
       "      <td>Land</td>\n",
       "      <td>Highlands and Islands</td>\n",
       "      <td>12:00pm - 2:59pm</td>\n",
       "      <td>04/2015</td>\n",
       "      <td>Yes</td>\n",
       "    </tr>\n",
       "    <tr>\n",
       "      <th>4</th>\n",
       "      <td>Thursday</td>\n",
       "      <td>Inverness</td>\n",
       "      <td>Rescue/Recovery</td>\n",
       "      <td>Land</td>\n",
       "      <td>Highlands and Islands</td>\n",
       "      <td>6:00pm - 8:59pm</td>\n",
       "      <td>04/2015</td>\n",
       "      <td>Yes</td>\n",
       "    </tr>\n",
       "  </tbody>\n",
       "</table>\n",
       "</div>"
      ],
      "text/plain": [
       "  Day_of_week Name_of_the_Base  Type_of_tasking Tasking_location  \\\n",
       "0   Wednesday         Sumburgh  Rescue/Recovery         Maritime   \n",
       "1   Wednesday         Sumburgh  Rescue/Recovery             Land   \n",
       "2   Wednesday        Inverness          Support             Land   \n",
       "3   Wednesday        Inverness          Support             Land   \n",
       "4    Thursday        Inverness  Rescue/Recovery             Land   \n",
       "\n",
       "                  Region       Time_of_day MonthYear Tasking_complnotcompl  \n",
       "0  Highlands and Islands   6:00pm - 8:59pm   04/2015                   Yes  \n",
       "1  Highlands and Islands   6.00am - 8.59am   04/2015                   Yes  \n",
       "2  Highlands and Islands  9:00am - 11:59am   04/2015                   Yes  \n",
       "3  Highlands and Islands  12:00pm - 2:59pm   04/2015                   Yes  \n",
       "4  Highlands and Islands   6:00pm - 8:59pm   04/2015                   Yes  "
      ]
     },
     "execution_count": 51,
     "metadata": {},
     "output_type": "execute_result"
    }
   ],
   "source": [
    "# view the categorical variables\n",
    "\n",
    "df_sarh0112[categorical].head()"
   ]
  },
  {
   "cell_type": "code",
   "execution_count": 52,
   "id": "d4501a7c",
   "metadata": {},
   "outputs": [
    {
     "name": "stdout",
     "output_type": "stream",
     "text": [
      "Saturday     3511\n",
      "Sunday       3304\n",
      "Friday       2507\n",
      "Tuesday      2493\n",
      "Monday       2477\n",
      "Thursday     2476\n",
      "Wednesday    2449\n",
      "Name: Day_of_week, dtype: int64\n",
      "Prestwick        2661\n",
      "Caernarfon       2342\n",
      "Inverness        2251\n",
      "Newquay          2156\n",
      "Lee On Solent    1990\n",
      "St Athan         1832\n",
      "Humberside       1663\n",
      "Lydd             1617\n",
      "Sumburgh         1277\n",
      "Stornoway        1156\n",
      "Portland          272\n",
      "Name: Name_of_the_Base, dtype: int64\n",
      "Rescue/Recovery          9929\n",
      "Search Only              3442\n",
      "Support                  3103\n",
      "Pre-arranged Transfer    2453\n",
      "Aborted/Not Required      290\n",
      "Name: Type_of_tasking, dtype: int64\n",
      "Land        9511\n",
      "Coast       6670\n",
      "Maritime    3036\n",
      "Name: Tasking_location, dtype: int64\n",
      "Highlands and Islands       5127\n",
      "South West                  3612\n",
      "Wales                       2940\n",
      "South East                  2739\n",
      "North West                   814\n",
      "Eastern Scotland             763\n",
      "Yorkshire and the Humber     726\n",
      "East of England              695\n",
      "North Eastern Scotland       433\n",
      "East Midlands                313\n",
      "North East                   279\n",
      "Southern Scotland            270\n",
      "Northern Ireland             193\n",
      "South Western Scotland       165\n",
      "West Central Scotland         74\n",
      "West Midlands                 43\n",
      "London                        29\n",
      "SouthEast                      2\n",
      "Name: Region, dtype: int64\n",
      "12:00pm - 2:59pm    4369\n",
      "3:00pm - 5:59pm     4359\n",
      "6:00pm - 8:59pm     3006\n",
      "9:00am - 11:59am    2544\n",
      "9:00pm - 11:59pm    1757\n",
      "12:00am - 2:59am    1184\n",
      "3:00am - 5:59am      798\n",
      "6:00am - 8:59am      630\n",
      "6.00am - 8.59am      570\n",
      "Name: Time_of_day, dtype: int64\n",
      "08/2016    372\n",
      "08/2020    365\n",
      "07/2021    355\n",
      "08/2021    345\n",
      "07/2022    320\n",
      "          ... \n",
      "12/2015    121\n",
      "04/2015    103\n",
      "11/2015    101\n",
      "05/2015     95\n",
      "04/2020     64\n",
      "Name: MonthYear, Length: 96, dtype: int64\n",
      "Yes    17911\n",
      "No      1306\n",
      "Name: Tasking_complnotcompl, dtype: int64\n"
     ]
    }
   ],
   "source": [
    "# view frequency of categorical variables\n",
    "\n",
    "for var in categorical: \n",
    "    \n",
    "    print(df_sarh0112[var].value_counts())"
   ]
  },
  {
   "cell_type": "code",
   "execution_count": 53,
   "id": "44505a9c",
   "metadata": {},
   "outputs": [
    {
     "name": "stdout",
     "output_type": "stream",
     "text": [
      "Saturday     0.182703\n",
      "Sunday       0.171931\n",
      "Friday       0.130457\n",
      "Tuesday      0.129729\n",
      "Monday       0.128896\n",
      "Thursday     0.128844\n",
      "Wednesday    0.127439\n",
      "Name: Day_of_week, dtype: float64\n",
      "Prestwick        0.138471\n",
      "Caernarfon       0.121871\n",
      "Inverness        0.117136\n",
      "Newquay          0.112192\n",
      "Lee On Solent    0.103554\n",
      "St Athan         0.095332\n",
      "Humberside       0.086538\n",
      "Lydd             0.084144\n",
      "Sumburgh         0.066452\n",
      "Stornoway        0.060155\n",
      "Portland         0.014154\n",
      "Name: Name_of_the_Base, dtype: float64\n",
      "Rescue/Recovery          0.516678\n",
      "Search Only              0.179112\n",
      "Support                  0.161472\n",
      "Pre-arranged Transfer    0.127647\n",
      "Aborted/Not Required     0.015091\n",
      "Name: Type_of_tasking, dtype: float64\n",
      "Land        0.494926\n",
      "Coast       0.347089\n",
      "Maritime    0.157985\n",
      "Name: Tasking_location, dtype: float64\n",
      "Highlands and Islands       0.266795\n",
      "South West                  0.187959\n",
      "Wales                       0.152990\n",
      "South East                  0.142530\n",
      "North West                  0.042358\n",
      "Eastern Scotland            0.039704\n",
      "Yorkshire and the Humber    0.037779\n",
      "East of England             0.036166\n",
      "North Eastern Scotland      0.022532\n",
      "East Midlands               0.016288\n",
      "North East                  0.014518\n",
      "Southern Scotland           0.014050\n",
      "Northern Ireland            0.010043\n",
      "South Western Scotland      0.008586\n",
      "West Central Scotland       0.003851\n",
      "West Midlands               0.002238\n",
      "London                      0.001509\n",
      "SouthEast                   0.000104\n",
      "Name: Region, dtype: float64\n",
      "12:00pm - 2:59pm    0.227351\n",
      "3:00pm - 5:59pm     0.226830\n",
      "6:00pm - 8:59pm     0.156424\n",
      "9:00am - 11:59am    0.132383\n",
      "9:00pm - 11:59pm    0.091429\n",
      "12:00am - 2:59am    0.061612\n",
      "3:00am - 5:59am     0.041526\n",
      "6:00am - 8:59am     0.032783\n",
      "6.00am - 8.59am     0.029661\n",
      "Name: Time_of_day, dtype: float64\n",
      "08/2016    0.019358\n",
      "08/2020    0.018994\n",
      "07/2021    0.018473\n",
      "08/2021    0.017953\n",
      "07/2022    0.016652\n",
      "             ...   \n",
      "12/2015    0.006297\n",
      "04/2015    0.005360\n",
      "11/2015    0.005256\n",
      "05/2015    0.004944\n",
      "04/2020    0.003330\n",
      "Name: MonthYear, Length: 96, dtype: float64\n",
      "Yes    0.932039\n",
      "No     0.067961\n",
      "Name: Tasking_complnotcompl, dtype: float64\n"
     ]
    },
    {
     "name": "stderr",
     "output_type": "stream",
     "text": [
      "C:\\Users\\Asus\\AppData\\Local\\Temp\\ipykernel_8948\\3146245629.py:5: DeprecationWarning: `np.float` is a deprecated alias for the builtin `float`. To silence this warning, use `float` by itself. Doing this will not modify any behavior and is safe. If you specifically wanted the numpy scalar type, use `np.float64` here.\n",
      "Deprecated in NumPy 1.20; for more details and guidance: https://numpy.org/devdocs/release/1.20.0-notes.html#deprecations\n",
      "  print(df_sarh0112[var].value_counts()/np.float(len(df_sarh0112)))\n",
      "C:\\Users\\Asus\\AppData\\Local\\Temp\\ipykernel_8948\\3146245629.py:5: DeprecationWarning: `np.float` is a deprecated alias for the builtin `float`. To silence this warning, use `float` by itself. Doing this will not modify any behavior and is safe. If you specifically wanted the numpy scalar type, use `np.float64` here.\n",
      "Deprecated in NumPy 1.20; for more details and guidance: https://numpy.org/devdocs/release/1.20.0-notes.html#deprecations\n",
      "  print(df_sarh0112[var].value_counts()/np.float(len(df_sarh0112)))\n",
      "C:\\Users\\Asus\\AppData\\Local\\Temp\\ipykernel_8948\\3146245629.py:5: DeprecationWarning: `np.float` is a deprecated alias for the builtin `float`. To silence this warning, use `float` by itself. Doing this will not modify any behavior and is safe. If you specifically wanted the numpy scalar type, use `np.float64` here.\n",
      "Deprecated in NumPy 1.20; for more details and guidance: https://numpy.org/devdocs/release/1.20.0-notes.html#deprecations\n",
      "  print(df_sarh0112[var].value_counts()/np.float(len(df_sarh0112)))\n",
      "C:\\Users\\Asus\\AppData\\Local\\Temp\\ipykernel_8948\\3146245629.py:5: DeprecationWarning: `np.float` is a deprecated alias for the builtin `float`. To silence this warning, use `float` by itself. Doing this will not modify any behavior and is safe. If you specifically wanted the numpy scalar type, use `np.float64` here.\n",
      "Deprecated in NumPy 1.20; for more details and guidance: https://numpy.org/devdocs/release/1.20.0-notes.html#deprecations\n",
      "  print(df_sarh0112[var].value_counts()/np.float(len(df_sarh0112)))\n",
      "C:\\Users\\Asus\\AppData\\Local\\Temp\\ipykernel_8948\\3146245629.py:5: DeprecationWarning: `np.float` is a deprecated alias for the builtin `float`. To silence this warning, use `float` by itself. Doing this will not modify any behavior and is safe. If you specifically wanted the numpy scalar type, use `np.float64` here.\n",
      "Deprecated in NumPy 1.20; for more details and guidance: https://numpy.org/devdocs/release/1.20.0-notes.html#deprecations\n",
      "  print(df_sarh0112[var].value_counts()/np.float(len(df_sarh0112)))\n",
      "C:\\Users\\Asus\\AppData\\Local\\Temp\\ipykernel_8948\\3146245629.py:5: DeprecationWarning: `np.float` is a deprecated alias for the builtin `float`. To silence this warning, use `float` by itself. Doing this will not modify any behavior and is safe. If you specifically wanted the numpy scalar type, use `np.float64` here.\n",
      "Deprecated in NumPy 1.20; for more details and guidance: https://numpy.org/devdocs/release/1.20.0-notes.html#deprecations\n",
      "  print(df_sarh0112[var].value_counts()/np.float(len(df_sarh0112)))\n",
      "C:\\Users\\Asus\\AppData\\Local\\Temp\\ipykernel_8948\\3146245629.py:5: DeprecationWarning: `np.float` is a deprecated alias for the builtin `float`. To silence this warning, use `float` by itself. Doing this will not modify any behavior and is safe. If you specifically wanted the numpy scalar type, use `np.float64` here.\n",
      "Deprecated in NumPy 1.20; for more details and guidance: https://numpy.org/devdocs/release/1.20.0-notes.html#deprecations\n",
      "  print(df_sarh0112[var].value_counts()/np.float(len(df_sarh0112)))\n",
      "C:\\Users\\Asus\\AppData\\Local\\Temp\\ipykernel_8948\\3146245629.py:5: DeprecationWarning: `np.float` is a deprecated alias for the builtin `float`. To silence this warning, use `float` by itself. Doing this will not modify any behavior and is safe. If you specifically wanted the numpy scalar type, use `np.float64` here.\n",
      "Deprecated in NumPy 1.20; for more details and guidance: https://numpy.org/devdocs/release/1.20.0-notes.html#deprecations\n",
      "  print(df_sarh0112[var].value_counts()/np.float(len(df_sarh0112)))\n"
     ]
    }
   ],
   "source": [
    "# view frequency distribution of categorical variables\n",
    "\n",
    "for var in categorical: \n",
    "    \n",
    "    print(df_sarh0112[var].value_counts()/np.float(len(df_sarh0112)))"
   ]
  },
  {
   "cell_type": "code",
   "execution_count": 54,
   "id": "51687467",
   "metadata": {},
   "outputs": [
    {
     "name": "stdout",
     "output_type": "stream",
     "text": [
      "Day_of_week  contains  7  labels\n",
      "Name_of_the_Base  contains  11  labels\n",
      "Type_of_tasking  contains  5  labels\n",
      "Tasking_location  contains  3  labels\n",
      "Region  contains  18  labels\n",
      "Time_of_day  contains  9  labels\n",
      "MonthYear  contains  96  labels\n",
      "Tasking_complnotcompl  contains  2  labels\n"
     ]
    }
   ],
   "source": [
    "# check for cardinality in categorical variables\n",
    "\n",
    "for var in categorical:\n",
    "    \n",
    "    print(var, ' contains ', len(df_sarh0112[var].unique()), ' labels')"
   ]
  },
  {
   "cell_type": "code",
   "execution_count": 55,
   "id": "204558c9",
   "metadata": {},
   "outputs": [
    {
     "data": {
      "text/html": [
       "<div>\n",
       "<style scoped>\n",
       "    .dataframe tbody tr th:only-of-type {\n",
       "        vertical-align: middle;\n",
       "    }\n",
       "\n",
       "    .dataframe tbody tr th {\n",
       "        vertical-align: top;\n",
       "    }\n",
       "\n",
       "    .dataframe thead th {\n",
       "        text-align: right;\n",
       "    }\n",
       "</style>\n",
       "<table border=\"1\" class=\"dataframe\">\n",
       "  <thead>\n",
       "    <tr style=\"text-align: right;\">\n",
       "      <th></th>\n",
       "      <th>Day_of_week</th>\n",
       "      <th>Name_of_the_Base</th>\n",
       "      <th>Type_of_tasking</th>\n",
       "      <th>Tasking_location</th>\n",
       "      <th>Region</th>\n",
       "      <th>Latitude</th>\n",
       "      <th>Longitude</th>\n",
       "      <th>Time_of_day</th>\n",
       "      <th>Tasking_duration</th>\n",
       "      <th>MonthYear</th>\n",
       "      <th>Tasking_complnotcompl</th>\n",
       "    </tr>\n",
       "  </thead>\n",
       "  <tbody>\n",
       "    <tr>\n",
       "      <th>0</th>\n",
       "      <td>Wednesday</td>\n",
       "      <td>Sumburgh</td>\n",
       "      <td>Rescue/Recovery</td>\n",
       "      <td>Maritime</td>\n",
       "      <td>Highlands and Islands</td>\n",
       "      <td>61.47</td>\n",
       "      <td>1.53</td>\n",
       "      <td>6:00pm - 8:59pm</td>\n",
       "      <td>2</td>\n",
       "      <td>04/2015</td>\n",
       "      <td>Yes</td>\n",
       "    </tr>\n",
       "    <tr>\n",
       "      <th>1</th>\n",
       "      <td>Wednesday</td>\n",
       "      <td>Sumburgh</td>\n",
       "      <td>Rescue/Recovery</td>\n",
       "      <td>Land</td>\n",
       "      <td>Highlands and Islands</td>\n",
       "      <td>59.25</td>\n",
       "      <td>-2.58</td>\n",
       "      <td>6.00am - 8.59am</td>\n",
       "      <td>2</td>\n",
       "      <td>04/2015</td>\n",
       "      <td>Yes</td>\n",
       "    </tr>\n",
       "    <tr>\n",
       "      <th>2</th>\n",
       "      <td>Wednesday</td>\n",
       "      <td>Inverness</td>\n",
       "      <td>Support</td>\n",
       "      <td>Land</td>\n",
       "      <td>Highlands and Islands</td>\n",
       "      <td>56.79</td>\n",
       "      <td>-4.99</td>\n",
       "      <td>9:00am - 11:59am</td>\n",
       "      <td>3</td>\n",
       "      <td>04/2015</td>\n",
       "      <td>Yes</td>\n",
       "    </tr>\n",
       "    <tr>\n",
       "      <th>3</th>\n",
       "      <td>Wednesday</td>\n",
       "      <td>Inverness</td>\n",
       "      <td>Support</td>\n",
       "      <td>Land</td>\n",
       "      <td>Highlands and Islands</td>\n",
       "      <td>56.79</td>\n",
       "      <td>-5.06</td>\n",
       "      <td>12:00pm - 2:59pm</td>\n",
       "      <td>4</td>\n",
       "      <td>04/2015</td>\n",
       "      <td>Yes</td>\n",
       "    </tr>\n",
       "    <tr>\n",
       "      <th>4</th>\n",
       "      <td>Thursday</td>\n",
       "      <td>Inverness</td>\n",
       "      <td>Rescue/Recovery</td>\n",
       "      <td>Land</td>\n",
       "      <td>Highlands and Islands</td>\n",
       "      <td>56.81</td>\n",
       "      <td>-5.02</td>\n",
       "      <td>6:00pm - 8:59pm</td>\n",
       "      <td>1</td>\n",
       "      <td>04/2015</td>\n",
       "      <td>Yes</td>\n",
       "    </tr>\n",
       "  </tbody>\n",
       "</table>\n",
       "</div>"
      ],
      "text/plain": [
       "  Day_of_week Name_of_the_Base  Type_of_tasking Tasking_location  \\\n",
       "0   Wednesday         Sumburgh  Rescue/Recovery         Maritime   \n",
       "1   Wednesday         Sumburgh  Rescue/Recovery             Land   \n",
       "2   Wednesday        Inverness          Support             Land   \n",
       "3   Wednesday        Inverness          Support             Land   \n",
       "4    Thursday        Inverness  Rescue/Recovery             Land   \n",
       "\n",
       "                  Region  Latitude  Longitude       Time_of_day  \\\n",
       "0  Highlands and Islands     61.47       1.53   6:00pm - 8:59pm   \n",
       "1  Highlands and Islands     59.25      -2.58   6.00am - 8.59am   \n",
       "2  Highlands and Islands     56.79      -4.99  9:00am - 11:59am   \n",
       "3  Highlands and Islands     56.79      -5.06  12:00pm - 2:59pm   \n",
       "4  Highlands and Islands     56.81      -5.02   6:00pm - 8:59pm   \n",
       "\n",
       "   Tasking_duration MonthYear Tasking_complnotcompl  \n",
       "0                 2   04/2015                   Yes  \n",
       "1                 2   04/2015                   Yes  \n",
       "2                 3   04/2015                   Yes  \n",
       "3                 4   04/2015                   Yes  \n",
       "4                 1   04/2015                   Yes  "
      ]
     },
     "execution_count": 55,
     "metadata": {},
     "output_type": "execute_result"
    }
   ],
   "source": [
    "# Check data\n",
    "\n",
    "df_sarh0112.head()"
   ]
  },
  {
   "cell_type": "code",
   "execution_count": 56,
   "id": "ed9a7836",
   "metadata": {},
   "outputs": [
    {
     "data": {
      "text/plain": [
       "(19217, 11)"
      ]
     },
     "execution_count": 56,
     "metadata": {},
     "output_type": "execute_result"
    }
   ],
   "source": [
    "# Check dimension\n",
    "\n",
    "df_sarh0112.shape"
   ]
  },
  {
   "cell_type": "code",
   "execution_count": 57,
   "id": "90555a70",
   "metadata": {},
   "outputs": [
    {
     "name": "stdout",
     "output_type": "stream",
     "text": [
      "There are 8 categorical variables\n",
      "\n",
      "The categorical variables are : ['Day_of_week', 'Name_of_the_Base', 'Type_of_tasking', 'Tasking_location', 'Region', 'Time_of_day', 'MonthYear', 'Tasking_complnotcompl']\n"
     ]
    }
   ],
   "source": [
    "# find categorical variables\n",
    "\n",
    "categorical = [var for var in df_sarh0112.columns if df_sarh0112[var].dtype=='O']\n",
    "\n",
    "print('There are {} categorical variables\\n'.format(len(categorical)))\n",
    "\n",
    "print('The categorical variables are :', categorical)"
   ]
  },
  {
   "cell_type": "code",
   "execution_count": 58,
   "id": "c5dffa11",
   "metadata": {},
   "outputs": [
    {
     "data": {
      "text/plain": [
       "Day_of_week              0\n",
       "Name_of_the_Base         0\n",
       "Type_of_tasking          0\n",
       "Tasking_location         0\n",
       "Region                   0\n",
       "Time_of_day              0\n",
       "MonthYear                0\n",
       "Tasking_complnotcompl    0\n",
       "dtype: int64"
      ]
     },
     "execution_count": 58,
     "metadata": {},
     "output_type": "execute_result"
    }
   ],
   "source": [
    "# check for missing values in categorical variables \n",
    "\n",
    "df_sarh0112[categorical].isnull().sum()"
   ]
  },
  {
   "cell_type": "markdown",
   "id": "a594d3dd",
   "metadata": {},
   "source": [
    "### Explore categorical variables"
   ]
  },
  {
   "cell_type": "markdown",
   "id": "c7740b27",
   "metadata": {},
   "source": [
    "#### Explore Region variable"
   ]
  },
  {
   "cell_type": "code",
   "execution_count": 59,
   "id": "1b3a76a0",
   "metadata": {},
   "outputs": [
    {
     "name": "stdout",
     "output_type": "stream",
     "text": [
      "Region contains 18 labels\n"
     ]
    }
   ],
   "source": [
    "# print number of labels in Region variable\n",
    "\n",
    "print('Region contains', len(df_sarh0112.Region.unique()), 'labels')"
   ]
  },
  {
   "cell_type": "code",
   "execution_count": 60,
   "id": "2d6e1d5e",
   "metadata": {},
   "outputs": [
    {
     "data": {
      "text/plain": [
       "array(['Highlands and Islands', 'South East', 'Eastern Scotland',\n",
       "       'North Eastern Scotland', 'South West', 'Yorkshire and the Humber',\n",
       "       'East of England', 'SouthEast', 'East Midlands', 'North West',\n",
       "       'Wales', 'North East', 'South Western Scotland', 'West Midlands',\n",
       "       'Northern Ireland', 'London', 'Southern Scotland',\n",
       "       'West Central Scotland'], dtype=object)"
      ]
     },
     "execution_count": 60,
     "metadata": {},
     "output_type": "execute_result"
    }
   ],
   "source": [
    "# check labels in Region variable\n",
    "\n",
    "df_sarh0112.Region.unique()"
   ]
  },
  {
   "cell_type": "code",
   "execution_count": 61,
   "id": "6f91eab9",
   "metadata": {},
   "outputs": [
    {
     "data": {
      "text/plain": [
       "Highlands and Islands       5127\n",
       "South West                  3612\n",
       "Wales                       2940\n",
       "South East                  2739\n",
       "North West                   814\n",
       "Eastern Scotland             763\n",
       "Yorkshire and the Humber     726\n",
       "East of England              695\n",
       "North Eastern Scotland       433\n",
       "East Midlands                313\n",
       "North East                   279\n",
       "Southern Scotland            270\n",
       "Northern Ireland             193\n",
       "South Western Scotland       165\n",
       "West Central Scotland         74\n",
       "West Midlands                 43\n",
       "London                        29\n",
       "SouthEast                      2\n",
       "Name: Region, dtype: int64"
      ]
     },
     "execution_count": 61,
     "metadata": {},
     "output_type": "execute_result"
    }
   ],
   "source": [
    "# check frequency distribution of values in Region variable\n",
    "\n",
    "df_sarh0112.Region.value_counts()"
   ]
  },
  {
   "cell_type": "code",
   "execution_count": 62,
   "id": "12283d79",
   "metadata": {},
   "outputs": [
    {
     "data": {
      "text/html": [
       "<div>\n",
       "<style scoped>\n",
       "    .dataframe tbody tr th:only-of-type {\n",
       "        vertical-align: middle;\n",
       "    }\n",
       "\n",
       "    .dataframe tbody tr th {\n",
       "        vertical-align: top;\n",
       "    }\n",
       "\n",
       "    .dataframe thead th {\n",
       "        text-align: right;\n",
       "    }\n",
       "</style>\n",
       "<table border=\"1\" class=\"dataframe\">\n",
       "  <thead>\n",
       "    <tr style=\"text-align: right;\">\n",
       "      <th></th>\n",
       "      <th>East of England</th>\n",
       "      <th>Eastern Scotland</th>\n",
       "      <th>Highlands and Islands</th>\n",
       "      <th>London</th>\n",
       "      <th>North East</th>\n",
       "      <th>North Eastern Scotland</th>\n",
       "      <th>North West</th>\n",
       "      <th>Northern Ireland</th>\n",
       "      <th>South East</th>\n",
       "      <th>South West</th>\n",
       "      <th>South Western Scotland</th>\n",
       "      <th>SouthEast</th>\n",
       "      <th>Southern Scotland</th>\n",
       "      <th>Wales</th>\n",
       "      <th>West Central Scotland</th>\n",
       "      <th>West Midlands</th>\n",
       "      <th>Yorkshire and the Humber</th>\n",
       "    </tr>\n",
       "  </thead>\n",
       "  <tbody>\n",
       "    <tr>\n",
       "      <th>0</th>\n",
       "      <td>0</td>\n",
       "      <td>0</td>\n",
       "      <td>1</td>\n",
       "      <td>0</td>\n",
       "      <td>0</td>\n",
       "      <td>0</td>\n",
       "      <td>0</td>\n",
       "      <td>0</td>\n",
       "      <td>0</td>\n",
       "      <td>0</td>\n",
       "      <td>0</td>\n",
       "      <td>0</td>\n",
       "      <td>0</td>\n",
       "      <td>0</td>\n",
       "      <td>0</td>\n",
       "      <td>0</td>\n",
       "      <td>0</td>\n",
       "    </tr>\n",
       "    <tr>\n",
       "      <th>1</th>\n",
       "      <td>0</td>\n",
       "      <td>0</td>\n",
       "      <td>1</td>\n",
       "      <td>0</td>\n",
       "      <td>0</td>\n",
       "      <td>0</td>\n",
       "      <td>0</td>\n",
       "      <td>0</td>\n",
       "      <td>0</td>\n",
       "      <td>0</td>\n",
       "      <td>0</td>\n",
       "      <td>0</td>\n",
       "      <td>0</td>\n",
       "      <td>0</td>\n",
       "      <td>0</td>\n",
       "      <td>0</td>\n",
       "      <td>0</td>\n",
       "    </tr>\n",
       "    <tr>\n",
       "      <th>2</th>\n",
       "      <td>0</td>\n",
       "      <td>0</td>\n",
       "      <td>1</td>\n",
       "      <td>0</td>\n",
       "      <td>0</td>\n",
       "      <td>0</td>\n",
       "      <td>0</td>\n",
       "      <td>0</td>\n",
       "      <td>0</td>\n",
       "      <td>0</td>\n",
       "      <td>0</td>\n",
       "      <td>0</td>\n",
       "      <td>0</td>\n",
       "      <td>0</td>\n",
       "      <td>0</td>\n",
       "      <td>0</td>\n",
       "      <td>0</td>\n",
       "    </tr>\n",
       "    <tr>\n",
       "      <th>3</th>\n",
       "      <td>0</td>\n",
       "      <td>0</td>\n",
       "      <td>1</td>\n",
       "      <td>0</td>\n",
       "      <td>0</td>\n",
       "      <td>0</td>\n",
       "      <td>0</td>\n",
       "      <td>0</td>\n",
       "      <td>0</td>\n",
       "      <td>0</td>\n",
       "      <td>0</td>\n",
       "      <td>0</td>\n",
       "      <td>0</td>\n",
       "      <td>0</td>\n",
       "      <td>0</td>\n",
       "      <td>0</td>\n",
       "      <td>0</td>\n",
       "    </tr>\n",
       "    <tr>\n",
       "      <th>4</th>\n",
       "      <td>0</td>\n",
       "      <td>0</td>\n",
       "      <td>1</td>\n",
       "      <td>0</td>\n",
       "      <td>0</td>\n",
       "      <td>0</td>\n",
       "      <td>0</td>\n",
       "      <td>0</td>\n",
       "      <td>0</td>\n",
       "      <td>0</td>\n",
       "      <td>0</td>\n",
       "      <td>0</td>\n",
       "      <td>0</td>\n",
       "      <td>0</td>\n",
       "      <td>0</td>\n",
       "      <td>0</td>\n",
       "      <td>0</td>\n",
       "    </tr>\n",
       "  </tbody>\n",
       "</table>\n",
       "</div>"
      ],
      "text/plain": [
       "   East of England  Eastern Scotland  Highlands and Islands  London  \\\n",
       "0                0                 0                      1       0   \n",
       "1                0                 0                      1       0   \n",
       "2                0                 0                      1       0   \n",
       "3                0                 0                      1       0   \n",
       "4                0                 0                      1       0   \n",
       "\n",
       "   North East  North Eastern Scotland  North West  Northern Ireland  \\\n",
       "0           0                       0           0                 0   \n",
       "1           0                       0           0                 0   \n",
       "2           0                       0           0                 0   \n",
       "3           0                       0           0                 0   \n",
       "4           0                       0           0                 0   \n",
       "\n",
       "   South East  South West  South Western Scotland  SouthEast  \\\n",
       "0           0           0                       0          0   \n",
       "1           0           0                       0          0   \n",
       "2           0           0                       0          0   \n",
       "3           0           0                       0          0   \n",
       "4           0           0                       0          0   \n",
       "\n",
       "   Southern Scotland  Wales  West Central Scotland  West Midlands  \\\n",
       "0                  0      0                      0              0   \n",
       "1                  0      0                      0              0   \n",
       "2                  0      0                      0              0   \n",
       "3                  0      0                      0              0   \n",
       "4                  0      0                      0              0   \n",
       "\n",
       "   Yorkshire and the Humber  \n",
       "0                         0  \n",
       "1                         0  \n",
       "2                         0  \n",
       "3                         0  \n",
       "4                         0  "
      ]
     },
     "execution_count": 62,
     "metadata": {},
     "output_type": "execute_result"
    }
   ],
   "source": [
    "# let's do One-Hot Encoding of Region variable - it is the conversion of categorical information into a format that may be fed into machine learning algorithms to imporve prediction accuracy.\n",
    "# get k-1 dummy variables after One Hot Encoding - a dummy variable is a Nominal variable that can take on either 0 or 1. If we have k categories we would include only k-1 variables in our regression because any one dummy variable is perfect collinear with remaining set of dummies.\n",
    "# preview the dataset with head() method\n",
    "\n",
    "pd.get_dummies(df_sarh0112.Region, drop_first=True).head()"
   ]
  },
  {
   "cell_type": "markdown",
   "id": "91aaa6f8",
   "metadata": {},
   "source": [
    "#### Explore Day_of_week variable"
   ]
  },
  {
   "cell_type": "code",
   "execution_count": 63,
   "id": "d7235a3e",
   "metadata": {},
   "outputs": [
    {
     "name": "stdout",
     "output_type": "stream",
     "text": [
      "Day_of_week contains 7 labels\n"
     ]
    }
   ],
   "source": [
    "# print number of labels in Day_of_week variable\n",
    "\n",
    "print('Day_of_week contains', len(df_sarh0112.Day_of_week.unique()), 'labels')"
   ]
  },
  {
   "cell_type": "code",
   "execution_count": 64,
   "id": "3f12c1fa",
   "metadata": {},
   "outputs": [
    {
     "data": {
      "text/plain": [
       "array(['Wednesday', 'Thursday', 'Friday', 'Saturday', 'Sunday', 'Monday',\n",
       "       'Tuesday'], dtype=object)"
      ]
     },
     "execution_count": 64,
     "metadata": {},
     "output_type": "execute_result"
    }
   ],
   "source": [
    "# check labels in Day_of_week variable\n",
    "\n",
    "df_sarh0112.Day_of_week.unique()"
   ]
  },
  {
   "cell_type": "code",
   "execution_count": 65,
   "id": "44f7d977",
   "metadata": {},
   "outputs": [
    {
     "data": {
      "text/plain": [
       "Saturday     3511\n",
       "Sunday       3304\n",
       "Friday       2507\n",
       "Tuesday      2493\n",
       "Monday       2477\n",
       "Thursday     2476\n",
       "Wednesday    2449\n",
       "Name: Day_of_week, dtype: int64"
      ]
     },
     "execution_count": 65,
     "metadata": {},
     "output_type": "execute_result"
    }
   ],
   "source": [
    "# check frequency distribution of values in Day_of_week variable\n",
    "\n",
    "df_sarh0112.Day_of_week.value_counts()"
   ]
  },
  {
   "cell_type": "code",
   "execution_count": 66,
   "id": "b9d73b3e",
   "metadata": {},
   "outputs": [
    {
     "data": {
      "text/html": [
       "<div>\n",
       "<style scoped>\n",
       "    .dataframe tbody tr th:only-of-type {\n",
       "        vertical-align: middle;\n",
       "    }\n",
       "\n",
       "    .dataframe tbody tr th {\n",
       "        vertical-align: top;\n",
       "    }\n",
       "\n",
       "    .dataframe thead th {\n",
       "        text-align: right;\n",
       "    }\n",
       "</style>\n",
       "<table border=\"1\" class=\"dataframe\">\n",
       "  <thead>\n",
       "    <tr style=\"text-align: right;\">\n",
       "      <th></th>\n",
       "      <th>Monday</th>\n",
       "      <th>Saturday</th>\n",
       "      <th>Sunday</th>\n",
       "      <th>Thursday</th>\n",
       "      <th>Tuesday</th>\n",
       "      <th>Wednesday</th>\n",
       "    </tr>\n",
       "  </thead>\n",
       "  <tbody>\n",
       "    <tr>\n",
       "      <th>0</th>\n",
       "      <td>0</td>\n",
       "      <td>0</td>\n",
       "      <td>0</td>\n",
       "      <td>0</td>\n",
       "      <td>0</td>\n",
       "      <td>1</td>\n",
       "    </tr>\n",
       "    <tr>\n",
       "      <th>1</th>\n",
       "      <td>0</td>\n",
       "      <td>0</td>\n",
       "      <td>0</td>\n",
       "      <td>0</td>\n",
       "      <td>0</td>\n",
       "      <td>1</td>\n",
       "    </tr>\n",
       "    <tr>\n",
       "      <th>2</th>\n",
       "      <td>0</td>\n",
       "      <td>0</td>\n",
       "      <td>0</td>\n",
       "      <td>0</td>\n",
       "      <td>0</td>\n",
       "      <td>1</td>\n",
       "    </tr>\n",
       "    <tr>\n",
       "      <th>3</th>\n",
       "      <td>0</td>\n",
       "      <td>0</td>\n",
       "      <td>0</td>\n",
       "      <td>0</td>\n",
       "      <td>0</td>\n",
       "      <td>1</td>\n",
       "    </tr>\n",
       "    <tr>\n",
       "      <th>4</th>\n",
       "      <td>0</td>\n",
       "      <td>0</td>\n",
       "      <td>0</td>\n",
       "      <td>1</td>\n",
       "      <td>0</td>\n",
       "      <td>0</td>\n",
       "    </tr>\n",
       "  </tbody>\n",
       "</table>\n",
       "</div>"
      ],
      "text/plain": [
       "   Monday  Saturday  Sunday  Thursday  Tuesday  Wednesday\n",
       "0       0         0       0         0        0          1\n",
       "1       0         0       0         0        0          1\n",
       "2       0         0       0         0        0          1\n",
       "3       0         0       0         0        0          1\n",
       "4       0         0       0         1        0          0"
      ]
     },
     "execution_count": 66,
     "metadata": {},
     "output_type": "execute_result"
    }
   ],
   "source": [
    "# let's do One-Hot Encoding of Day_of_week variable - it is the conversion of categorical information into a format that may be fed into machine learning algorithms to imporve prediction accuracy.\n",
    "# get k-1 dummy variables after One Hot Encoding - a dummy variable is a Nominal variable that can take on either 0 or 1. If we have k categories we would include only k-1 variables in our regression because any one dummy variable is perfect collinear with remaining set of dummies.\n",
    "# preview the dataset with head() method\n",
    "\n",
    "pd.get_dummies(df_sarh0112.Day_of_week, drop_first=True).head()"
   ]
  },
  {
   "cell_type": "markdown",
   "id": "a5bccfe8",
   "metadata": {},
   "source": [
    "#### Explore Name_of_the_Base variable"
   ]
  },
  {
   "cell_type": "code",
   "execution_count": 67,
   "id": "31ed6140",
   "metadata": {},
   "outputs": [
    {
     "name": "stdout",
     "output_type": "stream",
     "text": [
      "Name_of_the_Base contains 11 labels\n"
     ]
    }
   ],
   "source": [
    "# print number of labels in Name_of_the_Base variable\n",
    "\n",
    "print('Name_of_the_Base contains', len(df_sarh0112.Name_of_the_Base.unique()), 'labels')"
   ]
  },
  {
   "cell_type": "code",
   "execution_count": 68,
   "id": "cba1e5a2",
   "metadata": {},
   "outputs": [
    {
     "data": {
      "text/plain": [
       "array(['Sumburgh', 'Inverness', 'Lee On Solent', 'Stornoway', 'Portland',\n",
       "       'Humberside', 'Caernarfon', 'Lydd', 'St Athan', 'Newquay',\n",
       "       'Prestwick'], dtype=object)"
      ]
     },
     "execution_count": 68,
     "metadata": {},
     "output_type": "execute_result"
    }
   ],
   "source": [
    "# check labels in Name_of_the_Base variable\n",
    "\n",
    "df_sarh0112.Name_of_the_Base.unique()"
   ]
  },
  {
   "cell_type": "code",
   "execution_count": 69,
   "id": "293f4318",
   "metadata": {},
   "outputs": [
    {
     "data": {
      "text/plain": [
       "Prestwick        2661\n",
       "Caernarfon       2342\n",
       "Inverness        2251\n",
       "Newquay          2156\n",
       "Lee On Solent    1990\n",
       "St Athan         1832\n",
       "Humberside       1663\n",
       "Lydd             1617\n",
       "Sumburgh         1277\n",
       "Stornoway        1156\n",
       "Portland          272\n",
       "Name: Name_of_the_Base, dtype: int64"
      ]
     },
     "execution_count": 69,
     "metadata": {},
     "output_type": "execute_result"
    }
   ],
   "source": [
    "# check frequency distribution of values in Name_of_the_Base variable\n",
    "\n",
    "df_sarh0112.Name_of_the_Base.value_counts()"
   ]
  },
  {
   "cell_type": "code",
   "execution_count": 70,
   "id": "39fc7363",
   "metadata": {},
   "outputs": [
    {
     "data": {
      "text/html": [
       "<div>\n",
       "<style scoped>\n",
       "    .dataframe tbody tr th:only-of-type {\n",
       "        vertical-align: middle;\n",
       "    }\n",
       "\n",
       "    .dataframe tbody tr th {\n",
       "        vertical-align: top;\n",
       "    }\n",
       "\n",
       "    .dataframe thead th {\n",
       "        text-align: right;\n",
       "    }\n",
       "</style>\n",
       "<table border=\"1\" class=\"dataframe\">\n",
       "  <thead>\n",
       "    <tr style=\"text-align: right;\">\n",
       "      <th></th>\n",
       "      <th>Humberside</th>\n",
       "      <th>Inverness</th>\n",
       "      <th>Lee On Solent</th>\n",
       "      <th>Lydd</th>\n",
       "      <th>Newquay</th>\n",
       "      <th>Portland</th>\n",
       "      <th>Prestwick</th>\n",
       "      <th>St Athan</th>\n",
       "      <th>Stornoway</th>\n",
       "      <th>Sumburgh</th>\n",
       "    </tr>\n",
       "  </thead>\n",
       "  <tbody>\n",
       "    <tr>\n",
       "      <th>0</th>\n",
       "      <td>0</td>\n",
       "      <td>0</td>\n",
       "      <td>0</td>\n",
       "      <td>0</td>\n",
       "      <td>0</td>\n",
       "      <td>0</td>\n",
       "      <td>0</td>\n",
       "      <td>0</td>\n",
       "      <td>0</td>\n",
       "      <td>1</td>\n",
       "    </tr>\n",
       "    <tr>\n",
       "      <th>1</th>\n",
       "      <td>0</td>\n",
       "      <td>0</td>\n",
       "      <td>0</td>\n",
       "      <td>0</td>\n",
       "      <td>0</td>\n",
       "      <td>0</td>\n",
       "      <td>0</td>\n",
       "      <td>0</td>\n",
       "      <td>0</td>\n",
       "      <td>1</td>\n",
       "    </tr>\n",
       "    <tr>\n",
       "      <th>2</th>\n",
       "      <td>0</td>\n",
       "      <td>1</td>\n",
       "      <td>0</td>\n",
       "      <td>0</td>\n",
       "      <td>0</td>\n",
       "      <td>0</td>\n",
       "      <td>0</td>\n",
       "      <td>0</td>\n",
       "      <td>0</td>\n",
       "      <td>0</td>\n",
       "    </tr>\n",
       "    <tr>\n",
       "      <th>3</th>\n",
       "      <td>0</td>\n",
       "      <td>1</td>\n",
       "      <td>0</td>\n",
       "      <td>0</td>\n",
       "      <td>0</td>\n",
       "      <td>0</td>\n",
       "      <td>0</td>\n",
       "      <td>0</td>\n",
       "      <td>0</td>\n",
       "      <td>0</td>\n",
       "    </tr>\n",
       "    <tr>\n",
       "      <th>4</th>\n",
       "      <td>0</td>\n",
       "      <td>1</td>\n",
       "      <td>0</td>\n",
       "      <td>0</td>\n",
       "      <td>0</td>\n",
       "      <td>0</td>\n",
       "      <td>0</td>\n",
       "      <td>0</td>\n",
       "      <td>0</td>\n",
       "      <td>0</td>\n",
       "    </tr>\n",
       "  </tbody>\n",
       "</table>\n",
       "</div>"
      ],
      "text/plain": [
       "   Humberside  Inverness  Lee On Solent  Lydd  Newquay  Portland  Prestwick  \\\n",
       "0           0          0              0     0        0         0          0   \n",
       "1           0          0              0     0        0         0          0   \n",
       "2           0          1              0     0        0         0          0   \n",
       "3           0          1              0     0        0         0          0   \n",
       "4           0          1              0     0        0         0          0   \n",
       "\n",
       "   St Athan  Stornoway  Sumburgh  \n",
       "0         0          0         1  \n",
       "1         0          0         1  \n",
       "2         0          0         0  \n",
       "3         0          0         0  \n",
       "4         0          0         0  "
      ]
     },
     "execution_count": 70,
     "metadata": {},
     "output_type": "execute_result"
    }
   ],
   "source": [
    "# let's do One-Hot Encoding of Name_of_the_Basevariable - it is the conversion of categorical information into a format that may be fed into machine learning algorithms to imporve prediction accuracy.\n",
    "# get k-1 dummy variables after One Hot Encoding - a dummy variable is a Nominal variable that can take on either 0 or 1. If we have k categories we would include only k-1 variables in our regression because any one dummy variable is perfect collinear with remaining set of dummies.\n",
    "# preview the dataset with head() method\n",
    "\n",
    "pd.get_dummies(df_sarh0112.Name_of_the_Base, drop_first=True).head()"
   ]
  },
  {
   "cell_type": "markdown",
   "id": "6f6f423a",
   "metadata": {},
   "source": [
    "#### Explore Type_of_tasking variable"
   ]
  },
  {
   "cell_type": "code",
   "execution_count": 71,
   "id": "7fe3fb07",
   "metadata": {},
   "outputs": [
    {
     "name": "stdout",
     "output_type": "stream",
     "text": [
      "Type_of_tasking contains 5 labels\n"
     ]
    }
   ],
   "source": [
    "# print number of labels in Type_of_tasking variable\n",
    "\n",
    "print('Type_of_tasking contains', len(df_sarh0112.Type_of_tasking.unique()), 'labels')"
   ]
  },
  {
   "cell_type": "code",
   "execution_count": 72,
   "id": "058a99b9",
   "metadata": {},
   "outputs": [
    {
     "data": {
      "text/plain": [
       "array(['Rescue/Recovery', 'Support', 'Search Only',\n",
       "       'Aborted/Not Required', 'Pre-arranged Transfer'], dtype=object)"
      ]
     },
     "execution_count": 72,
     "metadata": {},
     "output_type": "execute_result"
    }
   ],
   "source": [
    "# check labels in Type_of_tasking variable\n",
    "\n",
    "df_sarh0112.Type_of_tasking.unique()"
   ]
  },
  {
   "cell_type": "code",
   "execution_count": 73,
   "id": "ff9676a6",
   "metadata": {},
   "outputs": [
    {
     "data": {
      "text/plain": [
       "Rescue/Recovery          9929\n",
       "Search Only              3442\n",
       "Support                  3103\n",
       "Pre-arranged Transfer    2453\n",
       "Aborted/Not Required      290\n",
       "Name: Type_of_tasking, dtype: int64"
      ]
     },
     "execution_count": 73,
     "metadata": {},
     "output_type": "execute_result"
    }
   ],
   "source": [
    "# check frequency distribution of values in Type_of_tasking variable\n",
    "\n",
    "df_sarh0112.Type_of_tasking.value_counts()"
   ]
  },
  {
   "cell_type": "code",
   "execution_count": 74,
   "id": "735b0b91",
   "metadata": {},
   "outputs": [
    {
     "data": {
      "text/html": [
       "<div>\n",
       "<style scoped>\n",
       "    .dataframe tbody tr th:only-of-type {\n",
       "        vertical-align: middle;\n",
       "    }\n",
       "\n",
       "    .dataframe tbody tr th {\n",
       "        vertical-align: top;\n",
       "    }\n",
       "\n",
       "    .dataframe thead th {\n",
       "        text-align: right;\n",
       "    }\n",
       "</style>\n",
       "<table border=\"1\" class=\"dataframe\">\n",
       "  <thead>\n",
       "    <tr style=\"text-align: right;\">\n",
       "      <th></th>\n",
       "      <th>Pre-arranged Transfer</th>\n",
       "      <th>Rescue/Recovery</th>\n",
       "      <th>Search Only</th>\n",
       "      <th>Support</th>\n",
       "    </tr>\n",
       "  </thead>\n",
       "  <tbody>\n",
       "    <tr>\n",
       "      <th>0</th>\n",
       "      <td>0</td>\n",
       "      <td>1</td>\n",
       "      <td>0</td>\n",
       "      <td>0</td>\n",
       "    </tr>\n",
       "    <tr>\n",
       "      <th>1</th>\n",
       "      <td>0</td>\n",
       "      <td>1</td>\n",
       "      <td>0</td>\n",
       "      <td>0</td>\n",
       "    </tr>\n",
       "    <tr>\n",
       "      <th>2</th>\n",
       "      <td>0</td>\n",
       "      <td>0</td>\n",
       "      <td>0</td>\n",
       "      <td>1</td>\n",
       "    </tr>\n",
       "    <tr>\n",
       "      <th>3</th>\n",
       "      <td>0</td>\n",
       "      <td>0</td>\n",
       "      <td>0</td>\n",
       "      <td>1</td>\n",
       "    </tr>\n",
       "    <tr>\n",
       "      <th>4</th>\n",
       "      <td>0</td>\n",
       "      <td>1</td>\n",
       "      <td>0</td>\n",
       "      <td>0</td>\n",
       "    </tr>\n",
       "  </tbody>\n",
       "</table>\n",
       "</div>"
      ],
      "text/plain": [
       "   Pre-arranged Transfer  Rescue/Recovery  Search Only  Support\n",
       "0                      0                1            0        0\n",
       "1                      0                1            0        0\n",
       "2                      0                0            0        1\n",
       "3                      0                0            0        1\n",
       "4                      0                1            0        0"
      ]
     },
     "execution_count": 74,
     "metadata": {},
     "output_type": "execute_result"
    }
   ],
   "source": [
    "# let's do One-Hot Encoding of Name_of_the_Basevariable - it is the conversion of categorical information into a format that may be fed into machine learning algorithms to imporve prediction accuracy.\n",
    "# get k-1 dummy variables after One Hot Encoding - a dummy variable is a Nominal variable that can take on either 0 or 1. If we have k categories we would include only k-1 variables in our regression because any one dummy variable is perfect collinear with remaining set of dummies.\n",
    "# preview the dataset with head() method\n",
    "\n",
    "pd.get_dummies(df_sarh0112.Type_of_tasking, drop_first=True).head()"
   ]
  },
  {
   "cell_type": "markdown",
   "id": "6fd47cca",
   "metadata": {},
   "source": [
    "#### Explore Tasking_location"
   ]
  },
  {
   "cell_type": "code",
   "execution_count": 75,
   "id": "43f8b4ac",
   "metadata": {},
   "outputs": [
    {
     "name": "stdout",
     "output_type": "stream",
     "text": [
      "Tasking_location contains 3 labels\n"
     ]
    }
   ],
   "source": [
    "# print number of labels in Tasking_location variable\n",
    "\n",
    "print('Tasking_location contains', len(df_sarh0112.Tasking_location.unique()), 'labels')"
   ]
  },
  {
   "cell_type": "code",
   "execution_count": 76,
   "id": "b0339a90",
   "metadata": {},
   "outputs": [
    {
     "data": {
      "text/plain": [
       "array(['Maritime', 'Land', 'Coast'], dtype=object)"
      ]
     },
     "execution_count": 76,
     "metadata": {},
     "output_type": "execute_result"
    }
   ],
   "source": [
    "# check labels in Tasking_location variable\n",
    "\n",
    "df_sarh0112.Tasking_location.unique()"
   ]
  },
  {
   "cell_type": "code",
   "execution_count": 77,
   "id": "e19550da",
   "metadata": {},
   "outputs": [
    {
     "data": {
      "text/plain": [
       "Land        9511\n",
       "Coast       6670\n",
       "Maritime    3036\n",
       "Name: Tasking_location, dtype: int64"
      ]
     },
     "execution_count": 77,
     "metadata": {},
     "output_type": "execute_result"
    }
   ],
   "source": [
    "# check frequency distribution of values in Tasking_location variable\n",
    "\n",
    "df_sarh0112.Tasking_location.value_counts()"
   ]
  },
  {
   "cell_type": "code",
   "execution_count": 78,
   "id": "54394a92",
   "metadata": {},
   "outputs": [
    {
     "data": {
      "text/html": [
       "<div>\n",
       "<style scoped>\n",
       "    .dataframe tbody tr th:only-of-type {\n",
       "        vertical-align: middle;\n",
       "    }\n",
       "\n",
       "    .dataframe tbody tr th {\n",
       "        vertical-align: top;\n",
       "    }\n",
       "\n",
       "    .dataframe thead th {\n",
       "        text-align: right;\n",
       "    }\n",
       "</style>\n",
       "<table border=\"1\" class=\"dataframe\">\n",
       "  <thead>\n",
       "    <tr style=\"text-align: right;\">\n",
       "      <th></th>\n",
       "      <th>Land</th>\n",
       "      <th>Maritime</th>\n",
       "    </tr>\n",
       "  </thead>\n",
       "  <tbody>\n",
       "    <tr>\n",
       "      <th>0</th>\n",
       "      <td>0</td>\n",
       "      <td>1</td>\n",
       "    </tr>\n",
       "    <tr>\n",
       "      <th>1</th>\n",
       "      <td>1</td>\n",
       "      <td>0</td>\n",
       "    </tr>\n",
       "    <tr>\n",
       "      <th>2</th>\n",
       "      <td>1</td>\n",
       "      <td>0</td>\n",
       "    </tr>\n",
       "    <tr>\n",
       "      <th>3</th>\n",
       "      <td>1</td>\n",
       "      <td>0</td>\n",
       "    </tr>\n",
       "    <tr>\n",
       "      <th>4</th>\n",
       "      <td>1</td>\n",
       "      <td>0</td>\n",
       "    </tr>\n",
       "    <tr>\n",
       "      <th>5</th>\n",
       "      <td>0</td>\n",
       "      <td>1</td>\n",
       "    </tr>\n",
       "    <tr>\n",
       "      <th>6</th>\n",
       "      <td>0</td>\n",
       "      <td>0</td>\n",
       "    </tr>\n",
       "    <tr>\n",
       "      <th>7</th>\n",
       "      <td>1</td>\n",
       "      <td>0</td>\n",
       "    </tr>\n",
       "    <tr>\n",
       "      <th>8</th>\n",
       "      <td>1</td>\n",
       "      <td>0</td>\n",
       "    </tr>\n",
       "    <tr>\n",
       "      <th>9</th>\n",
       "      <td>1</td>\n",
       "      <td>0</td>\n",
       "    </tr>\n",
       "  </tbody>\n",
       "</table>\n",
       "</div>"
      ],
      "text/plain": [
       "   Land  Maritime\n",
       "0     0         1\n",
       "1     1         0\n",
       "2     1         0\n",
       "3     1         0\n",
       "4     1         0\n",
       "5     0         1\n",
       "6     0         0\n",
       "7     1         0\n",
       "8     1         0\n",
       "9     1         0"
      ]
     },
     "execution_count": 78,
     "metadata": {},
     "output_type": "execute_result"
    }
   ],
   "source": [
    "# let's do One-Hot Encoding of Tasking_location variable - it is the conversion of categorical information into a format that may be fed into machine learning algorithms to imporve prediction accuracy.\n",
    "# get k-1 dummy variables after One Hot Encoding - a dummy variable is a Nominal variable that can take on either 0 or 1. If we have k categories we would include only k-1 variables in our regression because any one dummy variable is perfect collinear with remaining set of dummies.\n",
    "# preview the dataset with head() method\n",
    "\n",
    "pd.get_dummies(df_sarh0112.Tasking_location, drop_first=True).head(10)"
   ]
  },
  {
   "cell_type": "markdown",
   "id": "1a6f3def",
   "metadata": {},
   "source": [
    "#### Explore Time_of_day"
   ]
  },
  {
   "cell_type": "code",
   "execution_count": 79,
   "id": "df04297e",
   "metadata": {},
   "outputs": [
    {
     "name": "stdout",
     "output_type": "stream",
     "text": [
      "Time_of_day contains 9 labels\n"
     ]
    }
   ],
   "source": [
    "# print number of labels in Time_of_day variable\n",
    "\n",
    "print('Time_of_day contains', len(df_sarh0112.Time_of_day.unique()), 'labels')"
   ]
  },
  {
   "cell_type": "code",
   "execution_count": 80,
   "id": "850be390",
   "metadata": {},
   "outputs": [
    {
     "data": {
      "text/plain": [
       "array(['6:00pm - 8:59pm', '6.00am - 8.59am', '9:00am - 11:59am',\n",
       "       '12:00pm - 2:59pm', '3:00pm - 5:59pm', '9:00pm - 11:59pm',\n",
       "       '12:00am - 2:59am', '3:00am - 5:59am', '6:00am - 8:59am'],\n",
       "      dtype=object)"
      ]
     },
     "execution_count": 80,
     "metadata": {},
     "output_type": "execute_result"
    }
   ],
   "source": [
    "# check labels in Time_of_day variable\n",
    "\n",
    "df_sarh0112.Time_of_day.unique()"
   ]
  },
  {
   "cell_type": "code",
   "execution_count": 81,
   "id": "ccdd0cac",
   "metadata": {},
   "outputs": [
    {
     "data": {
      "text/plain": [
       "12:00pm - 2:59pm    4369\n",
       "3:00pm - 5:59pm     4359\n",
       "6:00pm - 8:59pm     3006\n",
       "9:00am - 11:59am    2544\n",
       "9:00pm - 11:59pm    1757\n",
       "12:00am - 2:59am    1184\n",
       "3:00am - 5:59am      798\n",
       "6:00am - 8:59am      630\n",
       "6.00am - 8.59am      570\n",
       "Name: Time_of_day, dtype: int64"
      ]
     },
     "execution_count": 81,
     "metadata": {},
     "output_type": "execute_result"
    }
   ],
   "source": [
    "# check frequency distribution of values in Time_of_day variable\n",
    "\n",
    "df_sarh0112.Time_of_day.value_counts()"
   ]
  },
  {
   "cell_type": "code",
   "execution_count": 82,
   "id": "db5d3f43",
   "metadata": {},
   "outputs": [
    {
     "data": {
      "text/html": [
       "<div>\n",
       "<style scoped>\n",
       "    .dataframe tbody tr th:only-of-type {\n",
       "        vertical-align: middle;\n",
       "    }\n",
       "\n",
       "    .dataframe tbody tr th {\n",
       "        vertical-align: top;\n",
       "    }\n",
       "\n",
       "    .dataframe thead th {\n",
       "        text-align: right;\n",
       "    }\n",
       "</style>\n",
       "<table border=\"1\" class=\"dataframe\">\n",
       "  <thead>\n",
       "    <tr style=\"text-align: right;\">\n",
       "      <th></th>\n",
       "      <th>12:00pm - 2:59pm</th>\n",
       "      <th>3:00am - 5:59am</th>\n",
       "      <th>3:00pm - 5:59pm</th>\n",
       "      <th>6.00am - 8.59am</th>\n",
       "      <th>6:00am - 8:59am</th>\n",
       "      <th>6:00pm - 8:59pm</th>\n",
       "      <th>9:00am - 11:59am</th>\n",
       "      <th>9:00pm - 11:59pm</th>\n",
       "    </tr>\n",
       "  </thead>\n",
       "  <tbody>\n",
       "    <tr>\n",
       "      <th>0</th>\n",
       "      <td>0</td>\n",
       "      <td>0</td>\n",
       "      <td>0</td>\n",
       "      <td>0</td>\n",
       "      <td>0</td>\n",
       "      <td>1</td>\n",
       "      <td>0</td>\n",
       "      <td>0</td>\n",
       "    </tr>\n",
       "    <tr>\n",
       "      <th>1</th>\n",
       "      <td>0</td>\n",
       "      <td>0</td>\n",
       "      <td>0</td>\n",
       "      <td>1</td>\n",
       "      <td>0</td>\n",
       "      <td>0</td>\n",
       "      <td>0</td>\n",
       "      <td>0</td>\n",
       "    </tr>\n",
       "    <tr>\n",
       "      <th>2</th>\n",
       "      <td>0</td>\n",
       "      <td>0</td>\n",
       "      <td>0</td>\n",
       "      <td>0</td>\n",
       "      <td>0</td>\n",
       "      <td>0</td>\n",
       "      <td>1</td>\n",
       "      <td>0</td>\n",
       "    </tr>\n",
       "    <tr>\n",
       "      <th>3</th>\n",
       "      <td>1</td>\n",
       "      <td>0</td>\n",
       "      <td>0</td>\n",
       "      <td>0</td>\n",
       "      <td>0</td>\n",
       "      <td>0</td>\n",
       "      <td>0</td>\n",
       "      <td>0</td>\n",
       "    </tr>\n",
       "    <tr>\n",
       "      <th>4</th>\n",
       "      <td>0</td>\n",
       "      <td>0</td>\n",
       "      <td>0</td>\n",
       "      <td>0</td>\n",
       "      <td>0</td>\n",
       "      <td>1</td>\n",
       "      <td>0</td>\n",
       "      <td>0</td>\n",
       "    </tr>\n",
       "  </tbody>\n",
       "</table>\n",
       "</div>"
      ],
      "text/plain": [
       "   12:00pm - 2:59pm  3:00am - 5:59am  3:00pm - 5:59pm  6.00am - 8.59am  \\\n",
       "0                 0                0                0                0   \n",
       "1                 0                0                0                1   \n",
       "2                 0                0                0                0   \n",
       "3                 1                0                0                0   \n",
       "4                 0                0                0                0   \n",
       "\n",
       "   6:00am - 8:59am  6:00pm - 8:59pm  9:00am - 11:59am  9:00pm - 11:59pm  \n",
       "0                0                1                 0                 0  \n",
       "1                0                0                 0                 0  \n",
       "2                0                0                 1                 0  \n",
       "3                0                0                 0                 0  \n",
       "4                0                1                 0                 0  "
      ]
     },
     "execution_count": 82,
     "metadata": {},
     "output_type": "execute_result"
    }
   ],
   "source": [
    "# let's do One-Hot Encoding of Time_of_day variable - it is the conversion of categorical information into a format that may be fed into machine learning algorithms to imporve prediction accuracy.\n",
    "# get k-1 dummy variables after One Hot Encoding - a dummy variable is a Nominal variable that can take on either 0 or 1. If we have k categories we would include only k-1 variables in our regression because any one dummy variable is perfect collinear with remaining set of dummies.\n",
    "# preview the dataset with head() method\n",
    "\n",
    "pd.get_dummies(df_sarh0112.Time_of_day, drop_first=True).head()"
   ]
  },
  {
   "cell_type": "markdown",
   "id": "acb07e9a",
   "metadata": {},
   "source": [
    "#### Explore Tasking_complnotcompl"
   ]
  },
  {
   "cell_type": "code",
   "execution_count": 83,
   "id": "65f5a26b",
   "metadata": {},
   "outputs": [
    {
     "name": "stdout",
     "output_type": "stream",
     "text": [
      "Tasking_complnotcompl contains 2 labels\n"
     ]
    }
   ],
   "source": [
    "# print number of labels in Tasking_complnotcompl variable\n",
    "\n",
    "print('Tasking_complnotcompl contains', len(df_sarh0112.Tasking_complnotcompl.unique()), 'labels')"
   ]
  },
  {
   "cell_type": "code",
   "execution_count": 84,
   "id": "d5741176",
   "metadata": {},
   "outputs": [
    {
     "data": {
      "text/plain": [
       "array(['Yes', 'No'], dtype=object)"
      ]
     },
     "execution_count": 84,
     "metadata": {},
     "output_type": "execute_result"
    }
   ],
   "source": [
    "# check labels in Tasking_complnotcompl variable\n",
    "\n",
    "df_sarh0112.Tasking_complnotcompl.unique()"
   ]
  },
  {
   "cell_type": "code",
   "execution_count": 85,
   "id": "ce450a75",
   "metadata": {},
   "outputs": [
    {
     "data": {
      "text/html": [
       "<div>\n",
       "<style scoped>\n",
       "    .dataframe tbody tr th:only-of-type {\n",
       "        vertical-align: middle;\n",
       "    }\n",
       "\n",
       "    .dataframe tbody tr th {\n",
       "        vertical-align: top;\n",
       "    }\n",
       "\n",
       "    .dataframe thead th {\n",
       "        text-align: right;\n",
       "    }\n",
       "</style>\n",
       "<table border=\"1\" class=\"dataframe\">\n",
       "  <thead>\n",
       "    <tr style=\"text-align: right;\">\n",
       "      <th></th>\n",
       "      <th>Yes</th>\n",
       "    </tr>\n",
       "  </thead>\n",
       "  <tbody>\n",
       "    <tr>\n",
       "      <th>0</th>\n",
       "      <td>1</td>\n",
       "    </tr>\n",
       "    <tr>\n",
       "      <th>1</th>\n",
       "      <td>1</td>\n",
       "    </tr>\n",
       "    <tr>\n",
       "      <th>2</th>\n",
       "      <td>1</td>\n",
       "    </tr>\n",
       "    <tr>\n",
       "      <th>3</th>\n",
       "      <td>1</td>\n",
       "    </tr>\n",
       "    <tr>\n",
       "      <th>4</th>\n",
       "      <td>1</td>\n",
       "    </tr>\n",
       "  </tbody>\n",
       "</table>\n",
       "</div>"
      ],
      "text/plain": [
       "   Yes\n",
       "0    1\n",
       "1    1\n",
       "2    1\n",
       "3    1\n",
       "4    1"
      ]
     },
     "execution_count": 85,
     "metadata": {},
     "output_type": "execute_result"
    }
   ],
   "source": [
    "# let's do One-Hot Encoding of Tasking_complnotcompl variable - it is the conversion of categorical information into a format that may be fed into machine learning algorithms to imporve prediction accuracy.\n",
    "# get k-1 dummy variables after One Hot Encoding - a dummy variable is a Nominal variable that can take on either 0 or 1. If we have k categories we would include only k-1 variables in our regression because any one dummy variable is perfect collinear with remaining set of dummies.\n",
    "# preview the dataset with head() method\n",
    "\n",
    "pd.get_dummies(df_sarh0112.Tasking_complnotcompl, drop_first=True).head()"
   ]
  },
  {
   "cell_type": "markdown",
   "id": "5c7b3fab",
   "metadata": {},
   "source": [
    "#### Explore M/Y"
   ]
  },
  {
   "cell_type": "code",
   "execution_count": 86,
   "id": "8841947b",
   "metadata": {},
   "outputs": [
    {
     "name": "stdout",
     "output_type": "stream",
     "text": [
      "MonthYear contains 96 labels\n"
     ]
    }
   ],
   "source": [
    "# print number of labels in MonthYear variable\n",
    "\n",
    "print('MonthYear contains', len(df_sarh0112.MonthYear.unique()), 'labels')"
   ]
  },
  {
   "cell_type": "code",
   "execution_count": 87,
   "id": "02cb1769",
   "metadata": {},
   "outputs": [
    {
     "data": {
      "text/plain": [
       "array(['04/2015', '05/2015', '06/2015', '07/2015', '08/2015', '09/2015',\n",
       "       '10/2015', '11/2015', '12/2015', '01/2016', '02/2016', '03/2016',\n",
       "       '04/2016', '05/2016', '06/2016', '07/2016', '08/2016', '09/2016',\n",
       "       '10/2016', '11/2016', '12/2016', '01/2017', '02/2017', '03/2017',\n",
       "       '04/2017', '05/2017', '06/2017', '07/2017', '08/2017', '09/2017',\n",
       "       '10/2017', '11/2017', '12/2017', '01/2018', '02/2018', '03/2018',\n",
       "       '04/2018', '05/2018', '06/2018', '07/2018', '08/2018', '09/2018',\n",
       "       '10/2018', '11/2018', '12/2018', '01/2019', '02/2019', '03/2019',\n",
       "       '04/2019', '05/2019', '06/2019', '07/2019', '08/2019', '09/2019',\n",
       "       '10/2019', '11/2019', '12/2019', '01/2020', '02/2020', '03/2020',\n",
       "       '04/2020', '05/2020', '06/2020', '07/2020', '08/2020', '09/2020',\n",
       "       '10/2020', '11/2020', '12/2020', '01/2021', '02/2021', '03/2021',\n",
       "       '04/2021', '05/2021', '06/2021', '07/2021', '08/2021', '09/2021',\n",
       "       '10/2021', '11/2021', '12/2021', '01/2022', '02/2022', '03/2022',\n",
       "       '04/2022', '05/2022', '06/2022', '07/2022', '08/2022', '09/2022',\n",
       "       '10/2022', '11/2022', '12/2022', '01/2023', '02/2023', '03/2023'],\n",
       "      dtype=object)"
      ]
     },
     "execution_count": 87,
     "metadata": {},
     "output_type": "execute_result"
    }
   ],
   "source": [
    "# check labels in MonthYear variable\n",
    "\n",
    "df_sarh0112.MonthYear.unique()"
   ]
  },
  {
   "cell_type": "code",
   "execution_count": 88,
   "id": "f21a8f2a",
   "metadata": {},
   "outputs": [
    {
     "data": {
      "text/html": [
       "<div>\n",
       "<style scoped>\n",
       "    .dataframe tbody tr th:only-of-type {\n",
       "        vertical-align: middle;\n",
       "    }\n",
       "\n",
       "    .dataframe tbody tr th {\n",
       "        vertical-align: top;\n",
       "    }\n",
       "\n",
       "    .dataframe thead th {\n",
       "        text-align: right;\n",
       "    }\n",
       "</style>\n",
       "<table border=\"1\" class=\"dataframe\">\n",
       "  <thead>\n",
       "    <tr style=\"text-align: right;\">\n",
       "      <th></th>\n",
       "      <th>01/2017</th>\n",
       "      <th>01/2018</th>\n",
       "      <th>01/2019</th>\n",
       "      <th>01/2020</th>\n",
       "      <th>01/2021</th>\n",
       "      <th>01/2022</th>\n",
       "      <th>01/2023</th>\n",
       "      <th>02/2016</th>\n",
       "      <th>02/2017</th>\n",
       "      <th>02/2018</th>\n",
       "      <th>...</th>\n",
       "      <th>11/2021</th>\n",
       "      <th>11/2022</th>\n",
       "      <th>12/2015</th>\n",
       "      <th>12/2016</th>\n",
       "      <th>12/2017</th>\n",
       "      <th>12/2018</th>\n",
       "      <th>12/2019</th>\n",
       "      <th>12/2020</th>\n",
       "      <th>12/2021</th>\n",
       "      <th>12/2022</th>\n",
       "    </tr>\n",
       "  </thead>\n",
       "  <tbody>\n",
       "    <tr>\n",
       "      <th>0</th>\n",
       "      <td>0</td>\n",
       "      <td>0</td>\n",
       "      <td>0</td>\n",
       "      <td>0</td>\n",
       "      <td>0</td>\n",
       "      <td>0</td>\n",
       "      <td>0</td>\n",
       "      <td>0</td>\n",
       "      <td>0</td>\n",
       "      <td>0</td>\n",
       "      <td>...</td>\n",
       "      <td>0</td>\n",
       "      <td>0</td>\n",
       "      <td>0</td>\n",
       "      <td>0</td>\n",
       "      <td>0</td>\n",
       "      <td>0</td>\n",
       "      <td>0</td>\n",
       "      <td>0</td>\n",
       "      <td>0</td>\n",
       "      <td>0</td>\n",
       "    </tr>\n",
       "    <tr>\n",
       "      <th>1</th>\n",
       "      <td>0</td>\n",
       "      <td>0</td>\n",
       "      <td>0</td>\n",
       "      <td>0</td>\n",
       "      <td>0</td>\n",
       "      <td>0</td>\n",
       "      <td>0</td>\n",
       "      <td>0</td>\n",
       "      <td>0</td>\n",
       "      <td>0</td>\n",
       "      <td>...</td>\n",
       "      <td>0</td>\n",
       "      <td>0</td>\n",
       "      <td>0</td>\n",
       "      <td>0</td>\n",
       "      <td>0</td>\n",
       "      <td>0</td>\n",
       "      <td>0</td>\n",
       "      <td>0</td>\n",
       "      <td>0</td>\n",
       "      <td>0</td>\n",
       "    </tr>\n",
       "    <tr>\n",
       "      <th>2</th>\n",
       "      <td>0</td>\n",
       "      <td>0</td>\n",
       "      <td>0</td>\n",
       "      <td>0</td>\n",
       "      <td>0</td>\n",
       "      <td>0</td>\n",
       "      <td>0</td>\n",
       "      <td>0</td>\n",
       "      <td>0</td>\n",
       "      <td>0</td>\n",
       "      <td>...</td>\n",
       "      <td>0</td>\n",
       "      <td>0</td>\n",
       "      <td>0</td>\n",
       "      <td>0</td>\n",
       "      <td>0</td>\n",
       "      <td>0</td>\n",
       "      <td>0</td>\n",
       "      <td>0</td>\n",
       "      <td>0</td>\n",
       "      <td>0</td>\n",
       "    </tr>\n",
       "    <tr>\n",
       "      <th>3</th>\n",
       "      <td>0</td>\n",
       "      <td>0</td>\n",
       "      <td>0</td>\n",
       "      <td>0</td>\n",
       "      <td>0</td>\n",
       "      <td>0</td>\n",
       "      <td>0</td>\n",
       "      <td>0</td>\n",
       "      <td>0</td>\n",
       "      <td>0</td>\n",
       "      <td>...</td>\n",
       "      <td>0</td>\n",
       "      <td>0</td>\n",
       "      <td>0</td>\n",
       "      <td>0</td>\n",
       "      <td>0</td>\n",
       "      <td>0</td>\n",
       "      <td>0</td>\n",
       "      <td>0</td>\n",
       "      <td>0</td>\n",
       "      <td>0</td>\n",
       "    </tr>\n",
       "    <tr>\n",
       "      <th>4</th>\n",
       "      <td>0</td>\n",
       "      <td>0</td>\n",
       "      <td>0</td>\n",
       "      <td>0</td>\n",
       "      <td>0</td>\n",
       "      <td>0</td>\n",
       "      <td>0</td>\n",
       "      <td>0</td>\n",
       "      <td>0</td>\n",
       "      <td>0</td>\n",
       "      <td>...</td>\n",
       "      <td>0</td>\n",
       "      <td>0</td>\n",
       "      <td>0</td>\n",
       "      <td>0</td>\n",
       "      <td>0</td>\n",
       "      <td>0</td>\n",
       "      <td>0</td>\n",
       "      <td>0</td>\n",
       "      <td>0</td>\n",
       "      <td>0</td>\n",
       "    </tr>\n",
       "  </tbody>\n",
       "</table>\n",
       "<p>5 rows × 95 columns</p>\n",
       "</div>"
      ],
      "text/plain": [
       "   01/2017  01/2018  01/2019  01/2020  01/2021  01/2022  01/2023  02/2016  \\\n",
       "0        0        0        0        0        0        0        0        0   \n",
       "1        0        0        0        0        0        0        0        0   \n",
       "2        0        0        0        0        0        0        0        0   \n",
       "3        0        0        0        0        0        0        0        0   \n",
       "4        0        0        0        0        0        0        0        0   \n",
       "\n",
       "   02/2017  02/2018  ...  11/2021  11/2022  12/2015  12/2016  12/2017  \\\n",
       "0        0        0  ...        0        0        0        0        0   \n",
       "1        0        0  ...        0        0        0        0        0   \n",
       "2        0        0  ...        0        0        0        0        0   \n",
       "3        0        0  ...        0        0        0        0        0   \n",
       "4        0        0  ...        0        0        0        0        0   \n",
       "\n",
       "   12/2018  12/2019  12/2020  12/2021  12/2022  \n",
       "0        0        0        0        0        0  \n",
       "1        0        0        0        0        0  \n",
       "2        0        0        0        0        0  \n",
       "3        0        0        0        0        0  \n",
       "4        0        0        0        0        0  \n",
       "\n",
       "[5 rows x 95 columns]"
      ]
     },
     "execution_count": 88,
     "metadata": {},
     "output_type": "execute_result"
    }
   ],
   "source": [
    "# let's do One-Hot Encoding of MonthYear variable - it is the conversion of categorical information into a format that may be fed into machine learning algorithms to imporve prediction accuracy.\n",
    "# get k-1 dummy variables after One Hot Encoding - a dummy variable is a Nominal variable that can take on either 0 or 1. If we have k categories we would include only k-1 variables in our regression because any one dummy variable is perfect collinear with remaining set of dummies.\n",
    "# preview the dataset with head() method\n",
    "\n",
    "pd.get_dummies(df_sarh0112.MonthYear, drop_first=True).head()"
   ]
  },
  {
   "cell_type": "markdown",
   "id": "fbb1118d",
   "metadata": {},
   "source": [
    "### Explore Numerical Variables"
   ]
  },
  {
   "cell_type": "code",
   "execution_count": 89,
   "id": "06319371",
   "metadata": {},
   "outputs": [
    {
     "name": "stdout",
     "output_type": "stream",
     "text": [
      "There are 3 numerical variables\n",
      "\n",
      "The numerical variables are : ['Latitude', 'Longitude', 'Tasking_duration']\n"
     ]
    }
   ],
   "source": [
    "# find numerical variables\n",
    "\n",
    "numerical = [var for var in df_sarh0112.columns if df_sarh0112[var].dtype!='O']\n",
    "\n",
    "print('There are {} numerical variables\\n'.format(len(numerical)))\n",
    "\n",
    "print('The numerical variables are :', numerical)"
   ]
  },
  {
   "cell_type": "code",
   "execution_count": 90,
   "id": "4a2b4786",
   "metadata": {},
   "outputs": [
    {
     "data": {
      "text/html": [
       "<div>\n",
       "<style scoped>\n",
       "    .dataframe tbody tr th:only-of-type {\n",
       "        vertical-align: middle;\n",
       "    }\n",
       "\n",
       "    .dataframe tbody tr th {\n",
       "        vertical-align: top;\n",
       "    }\n",
       "\n",
       "    .dataframe thead th {\n",
       "        text-align: right;\n",
       "    }\n",
       "</style>\n",
       "<table border=\"1\" class=\"dataframe\">\n",
       "  <thead>\n",
       "    <tr style=\"text-align: right;\">\n",
       "      <th></th>\n",
       "      <th>Latitude</th>\n",
       "      <th>Longitude</th>\n",
       "      <th>Tasking_duration</th>\n",
       "    </tr>\n",
       "  </thead>\n",
       "  <tbody>\n",
       "    <tr>\n",
       "      <th>0</th>\n",
       "      <td>61.47</td>\n",
       "      <td>1.53</td>\n",
       "      <td>2</td>\n",
       "    </tr>\n",
       "    <tr>\n",
       "      <th>1</th>\n",
       "      <td>59.25</td>\n",
       "      <td>-2.58</td>\n",
       "      <td>2</td>\n",
       "    </tr>\n",
       "    <tr>\n",
       "      <th>2</th>\n",
       "      <td>56.79</td>\n",
       "      <td>-4.99</td>\n",
       "      <td>3</td>\n",
       "    </tr>\n",
       "    <tr>\n",
       "      <th>3</th>\n",
       "      <td>56.79</td>\n",
       "      <td>-5.06</td>\n",
       "      <td>4</td>\n",
       "    </tr>\n",
       "    <tr>\n",
       "      <th>4</th>\n",
       "      <td>56.81</td>\n",
       "      <td>-5.02</td>\n",
       "      <td>1</td>\n",
       "    </tr>\n",
       "  </tbody>\n",
       "</table>\n",
       "</div>"
      ],
      "text/plain": [
       "   Latitude  Longitude  Tasking_duration\n",
       "0     61.47       1.53                 2\n",
       "1     59.25      -2.58                 2\n",
       "2     56.79      -4.99                 3\n",
       "3     56.79      -5.06                 4\n",
       "4     56.81      -5.02                 1"
      ]
     },
     "execution_count": 90,
     "metadata": {},
     "output_type": "execute_result"
    }
   ],
   "source": [
    "# view the numerical variables\n",
    "\n",
    "df_sarh0112[numerical].head()"
   ]
  },
  {
   "cell_type": "code",
   "execution_count": 91,
   "id": "15b6722e",
   "metadata": {},
   "outputs": [
    {
     "data": {
      "text/plain": [
       "Latitude            0\n",
       "Longitude           0\n",
       "Tasking_duration    0\n",
       "dtype: int64"
      ]
     },
     "execution_count": 91,
     "metadata": {},
     "output_type": "execute_result"
    }
   ],
   "source": [
    "# check missing values in numerical variables\n",
    "\n",
    "df_sarh0112[numerical].isnull().sum()"
   ]
  },
  {
   "cell_type": "code",
   "execution_count": 92,
   "id": "72d2a421",
   "metadata": {},
   "outputs": [
    {
     "name": "stdout",
     "output_type": "stream",
     "text": [
      "       Latitude  Longitude  Tasking_duration\n",
      "count   19217.0    19217.0           19217.0\n",
      "mean       54.0       -3.0               2.0\n",
      "std         3.0        2.0               2.0\n",
      "min        48.0      -18.0               0.0\n",
      "25%        51.0       -5.0               1.0\n",
      "50%        53.0       -4.0               2.0\n",
      "75%        57.0       -1.0               3.0\n",
      "max        62.0        7.0              24.0 2\n"
     ]
    }
   ],
   "source": [
    "# view summary statistics in numerical variables\n",
    "\n",
    "print(round(df_sarh0112[numerical].describe()),2)"
   ]
  },
  {
   "cell_type": "markdown",
   "id": "5e023de0",
   "metadata": {},
   "source": [
    "## 4. Declare feature vector and target variable "
   ]
  },
  {
   "cell_type": "code",
   "execution_count": 93,
   "id": "4f1df8bb",
   "metadata": {},
   "outputs": [],
   "source": [
    "X = df_sarh0112.drop(['Tasking_complnotcompl'], axis=1)\n",
    "\n",
    "y = df_sarh0112['Tasking_complnotcompl']"
   ]
  },
  {
   "cell_type": "markdown",
   "id": "1b82d95f",
   "metadata": {},
   "source": [
    "## 5. Split data into separate training and test set"
   ]
  },
  {
   "cell_type": "code",
   "execution_count": 94,
   "id": "e75c2b76",
   "metadata": {},
   "outputs": [],
   "source": [
    "# split X and y into training and testing sets\n",
    "\n",
    "from sklearn.model_selection import train_test_split\n",
    "\n",
    "X_train, X_test, y_train, y_test = train_test_split(X, y, test_size = 0.3, random_state = 0)"
   ]
  },
  {
   "cell_type": "code",
   "execution_count": 95,
   "id": "15000348",
   "metadata": {},
   "outputs": [
    {
     "data": {
      "text/plain": [
       "((13451, 10), (5766, 10))"
      ]
     },
     "execution_count": 95,
     "metadata": {},
     "output_type": "execute_result"
    }
   ],
   "source": [
    "# check the shape of X_train and X_test\n",
    "\n",
    "X_train.shape, X_test.shape"
   ]
  },
  {
   "cell_type": "markdown",
   "id": "3f96e9ba",
   "metadata": {},
   "source": [
    "## 6. Feature Engineering "
   ]
  },
  {
   "cell_type": "markdown",
   "id": "ac9fb3d7",
   "metadata": {},
   "source": [
    "#### Feature Engineering is the process of transforming raw data into useful features that help us to understand our model better and increase its predictive power. I will carry out feature engineering on different types of variables."
   ]
  },
  {
   "cell_type": "code",
   "execution_count": 96,
   "id": "9da1421f",
   "metadata": {},
   "outputs": [
    {
     "data": {
      "text/plain": [
       "Day_of_week          object\n",
       "Name_of_the_Base     object\n",
       "Type_of_tasking      object\n",
       "Tasking_location     object\n",
       "Region               object\n",
       "Latitude            float64\n",
       "Longitude           float64\n",
       "Time_of_day          object\n",
       "Tasking_duration      int64\n",
       "MonthYear            object\n",
       "dtype: object"
      ]
     },
     "execution_count": 96,
     "metadata": {},
     "output_type": "execute_result"
    }
   ],
   "source": [
    "# check data types in X_train\n",
    "\n",
    "X_train.dtypes"
   ]
  },
  {
   "cell_type": "code",
   "execution_count": 97,
   "id": "e66d39b7",
   "metadata": {},
   "outputs": [
    {
     "data": {
      "text/plain": [
       "['Day_of_week',\n",
       " 'Name_of_the_Base',\n",
       " 'Type_of_tasking',\n",
       " 'Tasking_location',\n",
       " 'Region',\n",
       " 'Time_of_day',\n",
       " 'MonthYear']"
      ]
     },
     "execution_count": 97,
     "metadata": {},
     "output_type": "execute_result"
    }
   ],
   "source": [
    "# display categorical variables\n",
    "\n",
    "categorical = [col for col in X_train.columns if X_train[col].dtypes == 'O']\n",
    "\n",
    "categorical"
   ]
  },
  {
   "cell_type": "code",
   "execution_count": 98,
   "id": "23fc864d",
   "metadata": {},
   "outputs": [
    {
     "data": {
      "text/plain": [
       "['Latitude', 'Longitude', 'Tasking_duration']"
      ]
     },
     "execution_count": 98,
     "metadata": {},
     "output_type": "execute_result"
    }
   ],
   "source": [
    "# display numerical variables\n",
    "\n",
    "numerical = [col for col in X_train.columns if X_train[col].dtypes != 'O']\n",
    "\n",
    "numerical"
   ]
  },
  {
   "cell_type": "code",
   "execution_count": 99,
   "id": "a31608d4",
   "metadata": {},
   "outputs": [
    {
     "data": {
      "text/plain": [
       "Latitude            0\n",
       "Longitude           0\n",
       "Tasking_duration    0\n",
       "dtype: int64"
      ]
     },
     "execution_count": 99,
     "metadata": {},
     "output_type": "execute_result"
    }
   ],
   "source": [
    "# check again missing values in numerical variables in X_train\n",
    "\n",
    "X_train[numerical].isnull().sum()"
   ]
  },
  {
   "cell_type": "code",
   "execution_count": 100,
   "id": "ba90a4fc",
   "metadata": {},
   "outputs": [
    {
     "data": {
      "text/plain": [
       "Latitude            0\n",
       "Longitude           0\n",
       "Tasking_duration    0\n",
       "dtype: int64"
      ]
     },
     "execution_count": 100,
     "metadata": {},
     "output_type": "execute_result"
    }
   ],
   "source": [
    "# check missing values in numerical variables in X_test\n",
    "\n",
    "X_test[numerical].isnull().sum()"
   ]
  },
  {
   "cell_type": "code",
   "execution_count": 101,
   "id": "c851345a",
   "metadata": {},
   "outputs": [
    {
     "data": {
      "text/plain": [
       "Day_of_week         0\n",
       "Name_of_the_Base    0\n",
       "Type_of_tasking     0\n",
       "Tasking_location    0\n",
       "Region              0\n",
       "Time_of_day         0\n",
       "MonthYear           0\n",
       "dtype: int64"
      ]
     },
     "execution_count": 101,
     "metadata": {},
     "output_type": "execute_result"
    }
   ],
   "source": [
    "# check missing values in categorical variables in X_train\n",
    "\n",
    "X_train[categorical].isnull().sum()"
   ]
  },
  {
   "cell_type": "code",
   "execution_count": 102,
   "id": "c6fb1216",
   "metadata": {},
   "outputs": [
    {
     "data": {
      "text/plain": [
       "Day_of_week         0\n",
       "Name_of_the_Base    0\n",
       "Type_of_tasking     0\n",
       "Tasking_location    0\n",
       "Region              0\n",
       "Time_of_day         0\n",
       "MonthYear           0\n",
       "dtype: int64"
      ]
     },
     "execution_count": 102,
     "metadata": {},
     "output_type": "execute_result"
    }
   ],
   "source": [
    "# check missing values in categorical variables in X_test\n",
    "\n",
    "X_test[categorical].isnull().sum()"
   ]
  },
  {
   "cell_type": "markdown",
   "id": "8c4f2304",
   "metadata": {},
   "source": [
    "### Encode categorical variables"
   ]
  },
  {
   "cell_type": "code",
   "execution_count": 103,
   "id": "9650e753",
   "metadata": {},
   "outputs": [
    {
     "data": {
      "text/plain": [
       "['Day_of_week',\n",
       " 'Name_of_the_Base',\n",
       " 'Type_of_tasking',\n",
       " 'Tasking_location',\n",
       " 'Region',\n",
       " 'Time_of_day',\n",
       " 'MonthYear']"
      ]
     },
     "execution_count": 103,
     "metadata": {},
     "output_type": "execute_result"
    }
   ],
   "source": [
    "categorical"
   ]
  },
  {
   "cell_type": "code",
   "execution_count": 104,
   "id": "e0841278",
   "metadata": {},
   "outputs": [
    {
     "data": {
      "text/html": [
       "<div>\n",
       "<style scoped>\n",
       "    .dataframe tbody tr th:only-of-type {\n",
       "        vertical-align: middle;\n",
       "    }\n",
       "\n",
       "    .dataframe tbody tr th {\n",
       "        vertical-align: top;\n",
       "    }\n",
       "\n",
       "    .dataframe thead th {\n",
       "        text-align: right;\n",
       "    }\n",
       "</style>\n",
       "<table border=\"1\" class=\"dataframe\">\n",
       "  <thead>\n",
       "    <tr style=\"text-align: right;\">\n",
       "      <th></th>\n",
       "      <th>Day_of_week</th>\n",
       "      <th>Name_of_the_Base</th>\n",
       "      <th>Type_of_tasking</th>\n",
       "      <th>Tasking_location</th>\n",
       "      <th>Region</th>\n",
       "      <th>Time_of_day</th>\n",
       "      <th>MonthYear</th>\n",
       "    </tr>\n",
       "  </thead>\n",
       "  <tbody>\n",
       "    <tr>\n",
       "      <th>1403</th>\n",
       "      <td>Monday</td>\n",
       "      <td>Humberside</td>\n",
       "      <td>Rescue/Recovery</td>\n",
       "      <td>Land</td>\n",
       "      <td>Yorkshire and the Humber</td>\n",
       "      <td>6:00pm - 8:59pm</td>\n",
       "      <td>02/2016</td>\n",
       "    </tr>\n",
       "    <tr>\n",
       "      <th>5833</th>\n",
       "      <td>Monday</td>\n",
       "      <td>Newquay</td>\n",
       "      <td>Rescue/Recovery</td>\n",
       "      <td>Coast</td>\n",
       "      <td>South West</td>\n",
       "      <td>12:00pm - 2:59pm</td>\n",
       "      <td>10/2017</td>\n",
       "    </tr>\n",
       "    <tr>\n",
       "      <th>11264</th>\n",
       "      <td>Tuesday</td>\n",
       "      <td>Caernarfon</td>\n",
       "      <td>Rescue/Recovery</td>\n",
       "      <td>Land</td>\n",
       "      <td>North West</td>\n",
       "      <td>6:00pm - 8:59pm</td>\n",
       "      <td>12/2019</td>\n",
       "    </tr>\n",
       "    <tr>\n",
       "      <th>18887</th>\n",
       "      <td>Saturday</td>\n",
       "      <td>Sumburgh</td>\n",
       "      <td>Support</td>\n",
       "      <td>Maritime</td>\n",
       "      <td>Highlands and Islands</td>\n",
       "      <td>12:00pm - 2:59pm</td>\n",
       "      <td>01/2023</td>\n",
       "    </tr>\n",
       "    <tr>\n",
       "      <th>4134</th>\n",
       "      <td>Sunday</td>\n",
       "      <td>Sumburgh</td>\n",
       "      <td>Rescue/Recovery</td>\n",
       "      <td>Land</td>\n",
       "      <td>Highlands and Islands</td>\n",
       "      <td>3:00pm - 5:59pm</td>\n",
       "      <td>03/2017</td>\n",
       "    </tr>\n",
       "  </tbody>\n",
       "</table>\n",
       "</div>"
      ],
      "text/plain": [
       "      Day_of_week Name_of_the_Base  Type_of_tasking Tasking_location  \\\n",
       "1403       Monday       Humberside  Rescue/Recovery             Land   \n",
       "5833       Monday          Newquay  Rescue/Recovery            Coast   \n",
       "11264     Tuesday       Caernarfon  Rescue/Recovery             Land   \n",
       "18887    Saturday         Sumburgh          Support         Maritime   \n",
       "4134       Sunday         Sumburgh  Rescue/Recovery             Land   \n",
       "\n",
       "                         Region       Time_of_day MonthYear  \n",
       "1403   Yorkshire and the Humber   6:00pm - 8:59pm   02/2016  \n",
       "5833                 South West  12:00pm - 2:59pm   10/2017  \n",
       "11264                North West   6:00pm - 8:59pm   12/2019  \n",
       "18887     Highlands and Islands  12:00pm - 2:59pm   01/2023  \n",
       "4134      Highlands and Islands   3:00pm - 5:59pm   03/2017  "
      ]
     },
     "execution_count": 104,
     "metadata": {},
     "output_type": "execute_result"
    }
   ],
   "source": [
    "X_train[categorical].head()"
   ]
  },
  {
   "cell_type": "code",
   "execution_count": 105,
   "id": "7e739889",
   "metadata": {},
   "outputs": [],
   "source": [
    "X_train = pd.concat([X_train[numerical], \n",
    "                     pd.get_dummies(X_train.Day_of_week), \n",
    "                     pd.get_dummies(X_train.Name_of_the_Base),\n",
    "                     pd.get_dummies(X_train.Type_of_tasking),\n",
    "                     pd.get_dummies(X_train.Tasking_location),\n",
    "                     pd.get_dummies(X_train.Region),\n",
    "                     pd.get_dummies(X_train.Time_of_day),\n",
    "                     pd.get_dummies(X_train.MonthYear)], axis=1)"
   ]
  },
  {
   "cell_type": "code",
   "execution_count": 106,
   "id": "070e8507",
   "metadata": {},
   "outputs": [
    {
     "data": {
      "text/html": [
       "<div>\n",
       "<style scoped>\n",
       "    .dataframe tbody tr th:only-of-type {\n",
       "        vertical-align: middle;\n",
       "    }\n",
       "\n",
       "    .dataframe tbody tr th {\n",
       "        vertical-align: top;\n",
       "    }\n",
       "\n",
       "    .dataframe thead th {\n",
       "        text-align: right;\n",
       "    }\n",
       "</style>\n",
       "<table border=\"1\" class=\"dataframe\">\n",
       "  <thead>\n",
       "    <tr style=\"text-align: right;\">\n",
       "      <th></th>\n",
       "      <th>Latitude</th>\n",
       "      <th>Longitude</th>\n",
       "      <th>Tasking_duration</th>\n",
       "      <th>Friday</th>\n",
       "      <th>Monday</th>\n",
       "      <th>Saturday</th>\n",
       "      <th>Sunday</th>\n",
       "      <th>Thursday</th>\n",
       "      <th>Tuesday</th>\n",
       "      <th>Wednesday</th>\n",
       "      <th>...</th>\n",
       "      <th>11/2021</th>\n",
       "      <th>11/2022</th>\n",
       "      <th>12/2015</th>\n",
       "      <th>12/2016</th>\n",
       "      <th>12/2017</th>\n",
       "      <th>12/2018</th>\n",
       "      <th>12/2019</th>\n",
       "      <th>12/2020</th>\n",
       "      <th>12/2021</th>\n",
       "      <th>12/2022</th>\n",
       "    </tr>\n",
       "  </thead>\n",
       "  <tbody>\n",
       "    <tr>\n",
       "      <th>1403</th>\n",
       "      <td>54.50</td>\n",
       "      <td>-0.65</td>\n",
       "      <td>3</td>\n",
       "      <td>0</td>\n",
       "      <td>1</td>\n",
       "      <td>0</td>\n",
       "      <td>0</td>\n",
       "      <td>0</td>\n",
       "      <td>0</td>\n",
       "      <td>0</td>\n",
       "      <td>...</td>\n",
       "      <td>0</td>\n",
       "      <td>0</td>\n",
       "      <td>0</td>\n",
       "      <td>0</td>\n",
       "      <td>0</td>\n",
       "      <td>0</td>\n",
       "      <td>0</td>\n",
       "      <td>0</td>\n",
       "      <td>0</td>\n",
       "      <td>0</td>\n",
       "    </tr>\n",
       "    <tr>\n",
       "      <th>5833</th>\n",
       "      <td>49.97</td>\n",
       "      <td>-5.23</td>\n",
       "      <td>2</td>\n",
       "      <td>0</td>\n",
       "      <td>1</td>\n",
       "      <td>0</td>\n",
       "      <td>0</td>\n",
       "      <td>0</td>\n",
       "      <td>0</td>\n",
       "      <td>0</td>\n",
       "      <td>...</td>\n",
       "      <td>0</td>\n",
       "      <td>0</td>\n",
       "      <td>0</td>\n",
       "      <td>0</td>\n",
       "      <td>0</td>\n",
       "      <td>0</td>\n",
       "      <td>0</td>\n",
       "      <td>0</td>\n",
       "      <td>0</td>\n",
       "      <td>0</td>\n",
       "    </tr>\n",
       "    <tr>\n",
       "      <th>11264</th>\n",
       "      <td>54.49</td>\n",
       "      <td>-3.29</td>\n",
       "      <td>3</td>\n",
       "      <td>0</td>\n",
       "      <td>0</td>\n",
       "      <td>0</td>\n",
       "      <td>0</td>\n",
       "      <td>0</td>\n",
       "      <td>1</td>\n",
       "      <td>0</td>\n",
       "      <td>...</td>\n",
       "      <td>0</td>\n",
       "      <td>0</td>\n",
       "      <td>0</td>\n",
       "      <td>0</td>\n",
       "      <td>0</td>\n",
       "      <td>0</td>\n",
       "      <td>1</td>\n",
       "      <td>0</td>\n",
       "      <td>0</td>\n",
       "      <td>0</td>\n",
       "    </tr>\n",
       "    <tr>\n",
       "      <th>18887</th>\n",
       "      <td>59.36</td>\n",
       "      <td>1.57</td>\n",
       "      <td>1</td>\n",
       "      <td>0</td>\n",
       "      <td>0</td>\n",
       "      <td>1</td>\n",
       "      <td>0</td>\n",
       "      <td>0</td>\n",
       "      <td>0</td>\n",
       "      <td>0</td>\n",
       "      <td>...</td>\n",
       "      <td>0</td>\n",
       "      <td>0</td>\n",
       "      <td>0</td>\n",
       "      <td>0</td>\n",
       "      <td>0</td>\n",
       "      <td>0</td>\n",
       "      <td>0</td>\n",
       "      <td>0</td>\n",
       "      <td>0</td>\n",
       "      <td>0</td>\n",
       "    </tr>\n",
       "    <tr>\n",
       "      <th>4134</th>\n",
       "      <td>59.27</td>\n",
       "      <td>-2.49</td>\n",
       "      <td>4</td>\n",
       "      <td>0</td>\n",
       "      <td>0</td>\n",
       "      <td>0</td>\n",
       "      <td>1</td>\n",
       "      <td>0</td>\n",
       "      <td>0</td>\n",
       "      <td>0</td>\n",
       "      <td>...</td>\n",
       "      <td>0</td>\n",
       "      <td>0</td>\n",
       "      <td>0</td>\n",
       "      <td>0</td>\n",
       "      <td>0</td>\n",
       "      <td>0</td>\n",
       "      <td>0</td>\n",
       "      <td>0</td>\n",
       "      <td>0</td>\n",
       "      <td>0</td>\n",
       "    </tr>\n",
       "  </tbody>\n",
       "</table>\n",
       "<p>5 rows × 152 columns</p>\n",
       "</div>"
      ],
      "text/plain": [
       "       Latitude  Longitude  Tasking_duration  Friday  Monday  Saturday  \\\n",
       "1403      54.50      -0.65                 3       0       1         0   \n",
       "5833      49.97      -5.23                 2       0       1         0   \n",
       "11264     54.49      -3.29                 3       0       0         0   \n",
       "18887     59.36       1.57                 1       0       0         1   \n",
       "4134      59.27      -2.49                 4       0       0         0   \n",
       "\n",
       "       Sunday  Thursday  Tuesday  Wednesday  ...  11/2021  11/2022  12/2015  \\\n",
       "1403        0         0        0          0  ...        0        0        0   \n",
       "5833        0         0        0          0  ...        0        0        0   \n",
       "11264       0         0        1          0  ...        0        0        0   \n",
       "18887       0         0        0          0  ...        0        0        0   \n",
       "4134        1         0        0          0  ...        0        0        0   \n",
       "\n",
       "       12/2016  12/2017  12/2018  12/2019  12/2020  12/2021  12/2022  \n",
       "1403         0        0        0        0        0        0        0  \n",
       "5833         0        0        0        0        0        0        0  \n",
       "11264        0        0        0        1        0        0        0  \n",
       "18887        0        0        0        0        0        0        0  \n",
       "4134         0        0        0        0        0        0        0  \n",
       "\n",
       "[5 rows x 152 columns]"
      ]
     },
     "execution_count": 106,
     "metadata": {},
     "output_type": "execute_result"
    }
   ],
   "source": [
    "X_train.head()"
   ]
  },
  {
   "cell_type": "code",
   "execution_count": 107,
   "id": "9abfd6da",
   "metadata": {},
   "outputs": [],
   "source": [
    "X_test = pd.concat([X_test[numerical], \n",
    "                     pd.get_dummies(X_test.Day_of_week), \n",
    "                     pd.get_dummies(X_test.Name_of_the_Base),\n",
    "                     pd.get_dummies(X_test.Type_of_tasking),\n",
    "                     pd.get_dummies(X_test.Tasking_location),\n",
    "                     pd.get_dummies(X_test.Region),\n",
    "                     pd.get_dummies(X_test.Time_of_day),\n",
    "                     pd.get_dummies(X_test.MonthYear)], axis=1)"
   ]
  },
  {
   "cell_type": "code",
   "execution_count": 108,
   "id": "477db7c6",
   "metadata": {},
   "outputs": [
    {
     "data": {
      "text/html": [
       "<div>\n",
       "<style scoped>\n",
       "    .dataframe tbody tr th:only-of-type {\n",
       "        vertical-align: middle;\n",
       "    }\n",
       "\n",
       "    .dataframe tbody tr th {\n",
       "        vertical-align: top;\n",
       "    }\n",
       "\n",
       "    .dataframe thead th {\n",
       "        text-align: right;\n",
       "    }\n",
       "</style>\n",
       "<table border=\"1\" class=\"dataframe\">\n",
       "  <thead>\n",
       "    <tr style=\"text-align: right;\">\n",
       "      <th></th>\n",
       "      <th>Latitude</th>\n",
       "      <th>Longitude</th>\n",
       "      <th>Tasking_duration</th>\n",
       "      <th>Friday</th>\n",
       "      <th>Monday</th>\n",
       "      <th>Saturday</th>\n",
       "      <th>Sunday</th>\n",
       "      <th>Thursday</th>\n",
       "      <th>Tuesday</th>\n",
       "      <th>Wednesday</th>\n",
       "      <th>...</th>\n",
       "      <th>11/2021</th>\n",
       "      <th>11/2022</th>\n",
       "      <th>12/2015</th>\n",
       "      <th>12/2016</th>\n",
       "      <th>12/2017</th>\n",
       "      <th>12/2018</th>\n",
       "      <th>12/2019</th>\n",
       "      <th>12/2020</th>\n",
       "      <th>12/2021</th>\n",
       "      <th>12/2022</th>\n",
       "    </tr>\n",
       "  </thead>\n",
       "  <tbody>\n",
       "    <tr>\n",
       "      <th>3420</th>\n",
       "      <td>50.74</td>\n",
       "      <td>0.24</td>\n",
       "      <td>1</td>\n",
       "      <td>0</td>\n",
       "      <td>0</td>\n",
       "      <td>0</td>\n",
       "      <td>0</td>\n",
       "      <td>0</td>\n",
       "      <td>1</td>\n",
       "      <td>0</td>\n",
       "      <td>...</td>\n",
       "      <td>0</td>\n",
       "      <td>0</td>\n",
       "      <td>0</td>\n",
       "      <td>0</td>\n",
       "      <td>0</td>\n",
       "      <td>0</td>\n",
       "      <td>0</td>\n",
       "      <td>0</td>\n",
       "      <td>0</td>\n",
       "      <td>0</td>\n",
       "    </tr>\n",
       "    <tr>\n",
       "      <th>17435</th>\n",
       "      <td>56.38</td>\n",
       "      <td>-7.87</td>\n",
       "      <td>6</td>\n",
       "      <td>0</td>\n",
       "      <td>0</td>\n",
       "      <td>0</td>\n",
       "      <td>0</td>\n",
       "      <td>0</td>\n",
       "      <td>1</td>\n",
       "      <td>0</td>\n",
       "      <td>...</td>\n",
       "      <td>0</td>\n",
       "      <td>0</td>\n",
       "      <td>0</td>\n",
       "      <td>0</td>\n",
       "      <td>0</td>\n",
       "      <td>0</td>\n",
       "      <td>0</td>\n",
       "      <td>0</td>\n",
       "      <td>0</td>\n",
       "      <td>0</td>\n",
       "    </tr>\n",
       "    <tr>\n",
       "      <th>2625</th>\n",
       "      <td>55.21</td>\n",
       "      <td>-6.57</td>\n",
       "      <td>3</td>\n",
       "      <td>0</td>\n",
       "      <td>0</td>\n",
       "      <td>0</td>\n",
       "      <td>1</td>\n",
       "      <td>0</td>\n",
       "      <td>0</td>\n",
       "      <td>0</td>\n",
       "      <td>...</td>\n",
       "      <td>0</td>\n",
       "      <td>0</td>\n",
       "      <td>0</td>\n",
       "      <td>0</td>\n",
       "      <td>0</td>\n",
       "      <td>0</td>\n",
       "      <td>0</td>\n",
       "      <td>0</td>\n",
       "      <td>0</td>\n",
       "      <td>0</td>\n",
       "    </tr>\n",
       "    <tr>\n",
       "      <th>17935</th>\n",
       "      <td>55.91</td>\n",
       "      <td>-4.61</td>\n",
       "      <td>2</td>\n",
       "      <td>0</td>\n",
       "      <td>0</td>\n",
       "      <td>0</td>\n",
       "      <td>0</td>\n",
       "      <td>0</td>\n",
       "      <td>0</td>\n",
       "      <td>1</td>\n",
       "      <td>...</td>\n",
       "      <td>0</td>\n",
       "      <td>0</td>\n",
       "      <td>0</td>\n",
       "      <td>0</td>\n",
       "      <td>0</td>\n",
       "      <td>0</td>\n",
       "      <td>0</td>\n",
       "      <td>0</td>\n",
       "      <td>0</td>\n",
       "      <td>0</td>\n",
       "    </tr>\n",
       "    <tr>\n",
       "      <th>7603</th>\n",
       "      <td>53.76</td>\n",
       "      <td>-2.04</td>\n",
       "      <td>2</td>\n",
       "      <td>0</td>\n",
       "      <td>0</td>\n",
       "      <td>0</td>\n",
       "      <td>1</td>\n",
       "      <td>0</td>\n",
       "      <td>0</td>\n",
       "      <td>0</td>\n",
       "      <td>...</td>\n",
       "      <td>0</td>\n",
       "      <td>0</td>\n",
       "      <td>0</td>\n",
       "      <td>0</td>\n",
       "      <td>0</td>\n",
       "      <td>0</td>\n",
       "      <td>0</td>\n",
       "      <td>0</td>\n",
       "      <td>0</td>\n",
       "      <td>0</td>\n",
       "    </tr>\n",
       "  </tbody>\n",
       "</table>\n",
       "<p>5 rows × 152 columns</p>\n",
       "</div>"
      ],
      "text/plain": [
       "       Latitude  Longitude  Tasking_duration  Friday  Monday  Saturday  \\\n",
       "3420      50.74       0.24                 1       0       0         0   \n",
       "17435     56.38      -7.87                 6       0       0         0   \n",
       "2625      55.21      -6.57                 3       0       0         0   \n",
       "17935     55.91      -4.61                 2       0       0         0   \n",
       "7603      53.76      -2.04                 2       0       0         0   \n",
       "\n",
       "       Sunday  Thursday  Tuesday  Wednesday  ...  11/2021  11/2022  12/2015  \\\n",
       "3420        0         0        1          0  ...        0        0        0   \n",
       "17435       0         0        1          0  ...        0        0        0   \n",
       "2625        1         0        0          0  ...        0        0        0   \n",
       "17935       0         0        0          1  ...        0        0        0   \n",
       "7603        1         0        0          0  ...        0        0        0   \n",
       "\n",
       "       12/2016  12/2017  12/2018  12/2019  12/2020  12/2021  12/2022  \n",
       "3420         0        0        0        0        0        0        0  \n",
       "17435        0        0        0        0        0        0        0  \n",
       "2625         0        0        0        0        0        0        0  \n",
       "17935        0        0        0        0        0        0        0  \n",
       "7603         0        0        0        0        0        0        0  \n",
       "\n",
       "[5 rows x 152 columns]"
      ]
     },
     "execution_count": 108,
     "metadata": {},
     "output_type": "execute_result"
    }
   ],
   "source": [
    "X_test.head()"
   ]
  },
  {
   "cell_type": "markdown",
   "id": "2303664c",
   "metadata": {},
   "source": [
    "## 7. Feature Scaling"
   ]
  },
  {
   "cell_type": "code",
   "execution_count": 109,
   "id": "837ff2cd",
   "metadata": {},
   "outputs": [
    {
     "data": {
      "text/html": [
       "<div>\n",
       "<style scoped>\n",
       "    .dataframe tbody tr th:only-of-type {\n",
       "        vertical-align: middle;\n",
       "    }\n",
       "\n",
       "    .dataframe tbody tr th {\n",
       "        vertical-align: top;\n",
       "    }\n",
       "\n",
       "    .dataframe thead th {\n",
       "        text-align: right;\n",
       "    }\n",
       "</style>\n",
       "<table border=\"1\" class=\"dataframe\">\n",
       "  <thead>\n",
       "    <tr style=\"text-align: right;\">\n",
       "      <th></th>\n",
       "      <th>Latitude</th>\n",
       "      <th>Longitude</th>\n",
       "      <th>Tasking_duration</th>\n",
       "      <th>Friday</th>\n",
       "      <th>Monday</th>\n",
       "      <th>Saturday</th>\n",
       "      <th>Sunday</th>\n",
       "      <th>Thursday</th>\n",
       "      <th>Tuesday</th>\n",
       "      <th>Wednesday</th>\n",
       "      <th>...</th>\n",
       "      <th>11/2021</th>\n",
       "      <th>11/2022</th>\n",
       "      <th>12/2015</th>\n",
       "      <th>12/2016</th>\n",
       "      <th>12/2017</th>\n",
       "      <th>12/2018</th>\n",
       "      <th>12/2019</th>\n",
       "      <th>12/2020</th>\n",
       "      <th>12/2021</th>\n",
       "      <th>12/2022</th>\n",
       "    </tr>\n",
       "  </thead>\n",
       "  <tbody>\n",
       "    <tr>\n",
       "      <th>count</th>\n",
       "      <td>13451.000000</td>\n",
       "      <td>13451.000000</td>\n",
       "      <td>13451.000000</td>\n",
       "      <td>13451.000000</td>\n",
       "      <td>13451.000000</td>\n",
       "      <td>13451.000000</td>\n",
       "      <td>13451.000000</td>\n",
       "      <td>13451.000000</td>\n",
       "      <td>13451.000000</td>\n",
       "      <td>13451.000000</td>\n",
       "      <td>...</td>\n",
       "      <td>13451.000000</td>\n",
       "      <td>13451.000000</td>\n",
       "      <td>13451.000000</td>\n",
       "      <td>13451.000000</td>\n",
       "      <td>13451.000000</td>\n",
       "      <td>13451.000000</td>\n",
       "      <td>13451.000000</td>\n",
       "      <td>13451.000000</td>\n",
       "      <td>13451.000000</td>\n",
       "      <td>13451.000000</td>\n",
       "    </tr>\n",
       "    <tr>\n",
       "      <th>mean</th>\n",
       "      <td>53.850171</td>\n",
       "      <td>-3.059712</td>\n",
       "      <td>2.048621</td>\n",
       "      <td>0.129135</td>\n",
       "      <td>0.132332</td>\n",
       "      <td>0.179392</td>\n",
       "      <td>0.173444</td>\n",
       "      <td>0.129433</td>\n",
       "      <td>0.128615</td>\n",
       "      <td>0.127649</td>\n",
       "      <td>...</td>\n",
       "      <td>0.008550</td>\n",
       "      <td>0.008103</td>\n",
       "      <td>0.006617</td>\n",
       "      <td>0.008773</td>\n",
       "      <td>0.008178</td>\n",
       "      <td>0.008178</td>\n",
       "      <td>0.008847</td>\n",
       "      <td>0.007286</td>\n",
       "      <td>0.008252</td>\n",
       "      <td>0.009962</td>\n",
       "    </tr>\n",
       "    <tr>\n",
       "      <th>std</th>\n",
       "      <td>3.103487</td>\n",
       "      <td>2.416803</td>\n",
       "      <td>1.907259</td>\n",
       "      <td>0.335362</td>\n",
       "      <td>0.338864</td>\n",
       "      <td>0.383694</td>\n",
       "      <td>0.378645</td>\n",
       "      <td>0.335691</td>\n",
       "      <td>0.334786</td>\n",
       "      <td>0.333710</td>\n",
       "      <td>...</td>\n",
       "      <td>0.092071</td>\n",
       "      <td>0.089657</td>\n",
       "      <td>0.081076</td>\n",
       "      <td>0.093254</td>\n",
       "      <td>0.090064</td>\n",
       "      <td>0.090064</td>\n",
       "      <td>0.093645</td>\n",
       "      <td>0.085048</td>\n",
       "      <td>0.090469</td>\n",
       "      <td>0.099316</td>\n",
       "    </tr>\n",
       "    <tr>\n",
       "      <th>min</th>\n",
       "      <td>47.830000</td>\n",
       "      <td>-18.200000</td>\n",
       "      <td>0.000000</td>\n",
       "      <td>0.000000</td>\n",
       "      <td>0.000000</td>\n",
       "      <td>0.000000</td>\n",
       "      <td>0.000000</td>\n",
       "      <td>0.000000</td>\n",
       "      <td>0.000000</td>\n",
       "      <td>0.000000</td>\n",
       "      <td>...</td>\n",
       "      <td>0.000000</td>\n",
       "      <td>0.000000</td>\n",
       "      <td>0.000000</td>\n",
       "      <td>0.000000</td>\n",
       "      <td>0.000000</td>\n",
       "      <td>0.000000</td>\n",
       "      <td>0.000000</td>\n",
       "      <td>0.000000</td>\n",
       "      <td>0.000000</td>\n",
       "      <td>0.000000</td>\n",
       "    </tr>\n",
       "    <tr>\n",
       "      <th>25%</th>\n",
       "      <td>50.820000</td>\n",
       "      <td>-4.960000</td>\n",
       "      <td>1.000000</td>\n",
       "      <td>0.000000</td>\n",
       "      <td>0.000000</td>\n",
       "      <td>0.000000</td>\n",
       "      <td>0.000000</td>\n",
       "      <td>0.000000</td>\n",
       "      <td>0.000000</td>\n",
       "      <td>0.000000</td>\n",
       "      <td>...</td>\n",
       "      <td>0.000000</td>\n",
       "      <td>0.000000</td>\n",
       "      <td>0.000000</td>\n",
       "      <td>0.000000</td>\n",
       "      <td>0.000000</td>\n",
       "      <td>0.000000</td>\n",
       "      <td>0.000000</td>\n",
       "      <td>0.000000</td>\n",
       "      <td>0.000000</td>\n",
       "      <td>0.000000</td>\n",
       "    </tr>\n",
       "    <tr>\n",
       "      <th>50%</th>\n",
       "      <td>53.210000</td>\n",
       "      <td>-3.510000</td>\n",
       "      <td>2.000000</td>\n",
       "      <td>0.000000</td>\n",
       "      <td>0.000000</td>\n",
       "      <td>0.000000</td>\n",
       "      <td>0.000000</td>\n",
       "      <td>0.000000</td>\n",
       "      <td>0.000000</td>\n",
       "      <td>0.000000</td>\n",
       "      <td>...</td>\n",
       "      <td>0.000000</td>\n",
       "      <td>0.000000</td>\n",
       "      <td>0.000000</td>\n",
       "      <td>0.000000</td>\n",
       "      <td>0.000000</td>\n",
       "      <td>0.000000</td>\n",
       "      <td>0.000000</td>\n",
       "      <td>0.000000</td>\n",
       "      <td>0.000000</td>\n",
       "      <td>0.000000</td>\n",
       "    </tr>\n",
       "    <tr>\n",
       "      <th>75%</th>\n",
       "      <td>56.530000</td>\n",
       "      <td>-1.300000</td>\n",
       "      <td>3.000000</td>\n",
       "      <td>0.000000</td>\n",
       "      <td>0.000000</td>\n",
       "      <td>0.000000</td>\n",
       "      <td>0.000000</td>\n",
       "      <td>0.000000</td>\n",
       "      <td>0.000000</td>\n",
       "      <td>0.000000</td>\n",
       "      <td>...</td>\n",
       "      <td>0.000000</td>\n",
       "      <td>0.000000</td>\n",
       "      <td>0.000000</td>\n",
       "      <td>0.000000</td>\n",
       "      <td>0.000000</td>\n",
       "      <td>0.000000</td>\n",
       "      <td>0.000000</td>\n",
       "      <td>0.000000</td>\n",
       "      <td>0.000000</td>\n",
       "      <td>0.000000</td>\n",
       "    </tr>\n",
       "    <tr>\n",
       "      <th>max</th>\n",
       "      <td>62.210000</td>\n",
       "      <td>7.450000</td>\n",
       "      <td>24.000000</td>\n",
       "      <td>1.000000</td>\n",
       "      <td>1.000000</td>\n",
       "      <td>1.000000</td>\n",
       "      <td>1.000000</td>\n",
       "      <td>1.000000</td>\n",
       "      <td>1.000000</td>\n",
       "      <td>1.000000</td>\n",
       "      <td>...</td>\n",
       "      <td>1.000000</td>\n",
       "      <td>1.000000</td>\n",
       "      <td>1.000000</td>\n",
       "      <td>1.000000</td>\n",
       "      <td>1.000000</td>\n",
       "      <td>1.000000</td>\n",
       "      <td>1.000000</td>\n",
       "      <td>1.000000</td>\n",
       "      <td>1.000000</td>\n",
       "      <td>1.000000</td>\n",
       "    </tr>\n",
       "  </tbody>\n",
       "</table>\n",
       "<p>8 rows × 152 columns</p>\n",
       "</div>"
      ],
      "text/plain": [
       "           Latitude     Longitude  Tasking_duration        Friday  \\\n",
       "count  13451.000000  13451.000000      13451.000000  13451.000000   \n",
       "mean      53.850171     -3.059712          2.048621      0.129135   \n",
       "std        3.103487      2.416803          1.907259      0.335362   \n",
       "min       47.830000    -18.200000          0.000000      0.000000   \n",
       "25%       50.820000     -4.960000          1.000000      0.000000   \n",
       "50%       53.210000     -3.510000          2.000000      0.000000   \n",
       "75%       56.530000     -1.300000          3.000000      0.000000   \n",
       "max       62.210000      7.450000         24.000000      1.000000   \n",
       "\n",
       "             Monday      Saturday        Sunday      Thursday       Tuesday  \\\n",
       "count  13451.000000  13451.000000  13451.000000  13451.000000  13451.000000   \n",
       "mean       0.132332      0.179392      0.173444      0.129433      0.128615   \n",
       "std        0.338864      0.383694      0.378645      0.335691      0.334786   \n",
       "min        0.000000      0.000000      0.000000      0.000000      0.000000   \n",
       "25%        0.000000      0.000000      0.000000      0.000000      0.000000   \n",
       "50%        0.000000      0.000000      0.000000      0.000000      0.000000   \n",
       "75%        0.000000      0.000000      0.000000      0.000000      0.000000   \n",
       "max        1.000000      1.000000      1.000000      1.000000      1.000000   \n",
       "\n",
       "          Wednesday  ...       11/2021       11/2022       12/2015  \\\n",
       "count  13451.000000  ...  13451.000000  13451.000000  13451.000000   \n",
       "mean       0.127649  ...      0.008550      0.008103      0.006617   \n",
       "std        0.333710  ...      0.092071      0.089657      0.081076   \n",
       "min        0.000000  ...      0.000000      0.000000      0.000000   \n",
       "25%        0.000000  ...      0.000000      0.000000      0.000000   \n",
       "50%        0.000000  ...      0.000000      0.000000      0.000000   \n",
       "75%        0.000000  ...      0.000000      0.000000      0.000000   \n",
       "max        1.000000  ...      1.000000      1.000000      1.000000   \n",
       "\n",
       "            12/2016       12/2017       12/2018       12/2019       12/2020  \\\n",
       "count  13451.000000  13451.000000  13451.000000  13451.000000  13451.000000   \n",
       "mean       0.008773      0.008178      0.008178      0.008847      0.007286   \n",
       "std        0.093254      0.090064      0.090064      0.093645      0.085048   \n",
       "min        0.000000      0.000000      0.000000      0.000000      0.000000   \n",
       "25%        0.000000      0.000000      0.000000      0.000000      0.000000   \n",
       "50%        0.000000      0.000000      0.000000      0.000000      0.000000   \n",
       "75%        0.000000      0.000000      0.000000      0.000000      0.000000   \n",
       "max        1.000000      1.000000      1.000000      1.000000      1.000000   \n",
       "\n",
       "            12/2021       12/2022  \n",
       "count  13451.000000  13451.000000  \n",
       "mean       0.008252      0.009962  \n",
       "std        0.090469      0.099316  \n",
       "min        0.000000      0.000000  \n",
       "25%        0.000000      0.000000  \n",
       "50%        0.000000      0.000000  \n",
       "75%        0.000000      0.000000  \n",
       "max        1.000000      1.000000  \n",
       "\n",
       "[8 rows x 152 columns]"
      ]
     },
     "execution_count": 109,
     "metadata": {},
     "output_type": "execute_result"
    }
   ],
   "source": [
    "X_train.describe()"
   ]
  },
  {
   "cell_type": "code",
   "execution_count": 110,
   "id": "b4dc1c76",
   "metadata": {},
   "outputs": [],
   "source": [
    "cols = X_train.columns"
   ]
  },
  {
   "cell_type": "code",
   "execution_count": 111,
   "id": "93dd3437",
   "metadata": {},
   "outputs": [],
   "source": [
    "from sklearn.preprocessing import MinMaxScaler\n",
    "\n",
    "scaler = MinMaxScaler()\n",
    "\n",
    "X_train = scaler.fit_transform(X_train)\n",
    "\n",
    "X_test = scaler.transform(X_test)"
   ]
  },
  {
   "cell_type": "code",
   "execution_count": 112,
   "id": "125d3040",
   "metadata": {},
   "outputs": [],
   "source": [
    "X_train = pd.DataFrame(X_train, columns=[cols])"
   ]
  },
  {
   "cell_type": "code",
   "execution_count": 113,
   "id": "56095983",
   "metadata": {},
   "outputs": [],
   "source": [
    "X_test = pd.DataFrame(X_test, columns=[cols])"
   ]
  },
  {
   "cell_type": "code",
   "execution_count": 114,
   "id": "6901b0d7",
   "metadata": {},
   "outputs": [
    {
     "data": {
      "text/html": [
       "<div>\n",
       "<style scoped>\n",
       "    .dataframe tbody tr th:only-of-type {\n",
       "        vertical-align: middle;\n",
       "    }\n",
       "\n",
       "    .dataframe tbody tr th {\n",
       "        vertical-align: top;\n",
       "    }\n",
       "\n",
       "    .dataframe thead tr th {\n",
       "        text-align: left;\n",
       "    }\n",
       "</style>\n",
       "<table border=\"1\" class=\"dataframe\">\n",
       "  <thead>\n",
       "    <tr>\n",
       "      <th></th>\n",
       "      <th>Latitude</th>\n",
       "      <th>Longitude</th>\n",
       "      <th>Tasking_duration</th>\n",
       "      <th>Friday</th>\n",
       "      <th>Monday</th>\n",
       "      <th>Saturday</th>\n",
       "      <th>Sunday</th>\n",
       "      <th>Thursday</th>\n",
       "      <th>Tuesday</th>\n",
       "      <th>Wednesday</th>\n",
       "      <th>...</th>\n",
       "      <th>11/2021</th>\n",
       "      <th>11/2022</th>\n",
       "      <th>12/2015</th>\n",
       "      <th>12/2016</th>\n",
       "      <th>12/2017</th>\n",
       "      <th>12/2018</th>\n",
       "      <th>12/2019</th>\n",
       "      <th>12/2020</th>\n",
       "      <th>12/2021</th>\n",
       "      <th>12/2022</th>\n",
       "    </tr>\n",
       "  </thead>\n",
       "  <tbody>\n",
       "    <tr>\n",
       "      <th>count</th>\n",
       "      <td>13451.000000</td>\n",
       "      <td>13451.000000</td>\n",
       "      <td>13451.000000</td>\n",
       "      <td>13451.000000</td>\n",
       "      <td>13451.000000</td>\n",
       "      <td>13451.000000</td>\n",
       "      <td>13451.000000</td>\n",
       "      <td>13451.000000</td>\n",
       "      <td>13451.000000</td>\n",
       "      <td>13451.000000</td>\n",
       "      <td>...</td>\n",
       "      <td>13451.000000</td>\n",
       "      <td>13451.000000</td>\n",
       "      <td>13451.000000</td>\n",
       "      <td>13451.000000</td>\n",
       "      <td>13451.000000</td>\n",
       "      <td>13451.000000</td>\n",
       "      <td>13451.000000</td>\n",
       "      <td>13451.000000</td>\n",
       "      <td>13451.000000</td>\n",
       "      <td>13451.000000</td>\n",
       "    </tr>\n",
       "    <tr>\n",
       "      <th>mean</th>\n",
       "      <td>0.418649</td>\n",
       "      <td>0.590265</td>\n",
       "      <td>0.085359</td>\n",
       "      <td>0.129135</td>\n",
       "      <td>0.132332</td>\n",
       "      <td>0.179392</td>\n",
       "      <td>0.173444</td>\n",
       "      <td>0.129433</td>\n",
       "      <td>0.128615</td>\n",
       "      <td>0.127649</td>\n",
       "      <td>...</td>\n",
       "      <td>0.008550</td>\n",
       "      <td>0.008103</td>\n",
       "      <td>0.006617</td>\n",
       "      <td>0.008773</td>\n",
       "      <td>0.008178</td>\n",
       "      <td>0.008178</td>\n",
       "      <td>0.008847</td>\n",
       "      <td>0.007286</td>\n",
       "      <td>0.008252</td>\n",
       "      <td>0.009962</td>\n",
       "    </tr>\n",
       "    <tr>\n",
       "      <th>std</th>\n",
       "      <td>0.215820</td>\n",
       "      <td>0.094222</td>\n",
       "      <td>0.079469</td>\n",
       "      <td>0.335362</td>\n",
       "      <td>0.338864</td>\n",
       "      <td>0.383694</td>\n",
       "      <td>0.378645</td>\n",
       "      <td>0.335691</td>\n",
       "      <td>0.334786</td>\n",
       "      <td>0.333710</td>\n",
       "      <td>...</td>\n",
       "      <td>0.092071</td>\n",
       "      <td>0.089657</td>\n",
       "      <td>0.081076</td>\n",
       "      <td>0.093254</td>\n",
       "      <td>0.090064</td>\n",
       "      <td>0.090064</td>\n",
       "      <td>0.093645</td>\n",
       "      <td>0.085048</td>\n",
       "      <td>0.090469</td>\n",
       "      <td>0.099316</td>\n",
       "    </tr>\n",
       "    <tr>\n",
       "      <th>min</th>\n",
       "      <td>0.000000</td>\n",
       "      <td>0.000000</td>\n",
       "      <td>0.000000</td>\n",
       "      <td>0.000000</td>\n",
       "      <td>0.000000</td>\n",
       "      <td>0.000000</td>\n",
       "      <td>0.000000</td>\n",
       "      <td>0.000000</td>\n",
       "      <td>0.000000</td>\n",
       "      <td>0.000000</td>\n",
       "      <td>...</td>\n",
       "      <td>0.000000</td>\n",
       "      <td>0.000000</td>\n",
       "      <td>0.000000</td>\n",
       "      <td>0.000000</td>\n",
       "      <td>0.000000</td>\n",
       "      <td>0.000000</td>\n",
       "      <td>0.000000</td>\n",
       "      <td>0.000000</td>\n",
       "      <td>0.000000</td>\n",
       "      <td>0.000000</td>\n",
       "    </tr>\n",
       "    <tr>\n",
       "      <th>25%</th>\n",
       "      <td>0.207928</td>\n",
       "      <td>0.516179</td>\n",
       "      <td>0.041667</td>\n",
       "      <td>0.000000</td>\n",
       "      <td>0.000000</td>\n",
       "      <td>0.000000</td>\n",
       "      <td>0.000000</td>\n",
       "      <td>0.000000</td>\n",
       "      <td>0.000000</td>\n",
       "      <td>0.000000</td>\n",
       "      <td>...</td>\n",
       "      <td>0.000000</td>\n",
       "      <td>0.000000</td>\n",
       "      <td>0.000000</td>\n",
       "      <td>0.000000</td>\n",
       "      <td>0.000000</td>\n",
       "      <td>0.000000</td>\n",
       "      <td>0.000000</td>\n",
       "      <td>0.000000</td>\n",
       "      <td>0.000000</td>\n",
       "      <td>0.000000</td>\n",
       "    </tr>\n",
       "    <tr>\n",
       "      <th>50%</th>\n",
       "      <td>0.374131</td>\n",
       "      <td>0.572710</td>\n",
       "      <td>0.083333</td>\n",
       "      <td>0.000000</td>\n",
       "      <td>0.000000</td>\n",
       "      <td>0.000000</td>\n",
       "      <td>0.000000</td>\n",
       "      <td>0.000000</td>\n",
       "      <td>0.000000</td>\n",
       "      <td>0.000000</td>\n",
       "      <td>...</td>\n",
       "      <td>0.000000</td>\n",
       "      <td>0.000000</td>\n",
       "      <td>0.000000</td>\n",
       "      <td>0.000000</td>\n",
       "      <td>0.000000</td>\n",
       "      <td>0.000000</td>\n",
       "      <td>0.000000</td>\n",
       "      <td>0.000000</td>\n",
       "      <td>0.000000</td>\n",
       "      <td>0.000000</td>\n",
       "    </tr>\n",
       "    <tr>\n",
       "      <th>75%</th>\n",
       "      <td>0.605007</td>\n",
       "      <td>0.658869</td>\n",
       "      <td>0.125000</td>\n",
       "      <td>0.000000</td>\n",
       "      <td>0.000000</td>\n",
       "      <td>0.000000</td>\n",
       "      <td>0.000000</td>\n",
       "      <td>0.000000</td>\n",
       "      <td>0.000000</td>\n",
       "      <td>0.000000</td>\n",
       "      <td>...</td>\n",
       "      <td>0.000000</td>\n",
       "      <td>0.000000</td>\n",
       "      <td>0.000000</td>\n",
       "      <td>0.000000</td>\n",
       "      <td>0.000000</td>\n",
       "      <td>0.000000</td>\n",
       "      <td>0.000000</td>\n",
       "      <td>0.000000</td>\n",
       "      <td>0.000000</td>\n",
       "      <td>0.000000</td>\n",
       "    </tr>\n",
       "    <tr>\n",
       "      <th>max</th>\n",
       "      <td>1.000000</td>\n",
       "      <td>1.000000</td>\n",
       "      <td>1.000000</td>\n",
       "      <td>1.000000</td>\n",
       "      <td>1.000000</td>\n",
       "      <td>1.000000</td>\n",
       "      <td>1.000000</td>\n",
       "      <td>1.000000</td>\n",
       "      <td>1.000000</td>\n",
       "      <td>1.000000</td>\n",
       "      <td>...</td>\n",
       "      <td>1.000000</td>\n",
       "      <td>1.000000</td>\n",
       "      <td>1.000000</td>\n",
       "      <td>1.000000</td>\n",
       "      <td>1.000000</td>\n",
       "      <td>1.000000</td>\n",
       "      <td>1.000000</td>\n",
       "      <td>1.000000</td>\n",
       "      <td>1.000000</td>\n",
       "      <td>1.000000</td>\n",
       "    </tr>\n",
       "  </tbody>\n",
       "</table>\n",
       "<p>8 rows × 152 columns</p>\n",
       "</div>"
      ],
      "text/plain": [
       "           Latitude     Longitude Tasking_duration        Friday  \\\n",
       "count  13451.000000  13451.000000     13451.000000  13451.000000   \n",
       "mean       0.418649      0.590265         0.085359      0.129135   \n",
       "std        0.215820      0.094222         0.079469      0.335362   \n",
       "min        0.000000      0.000000         0.000000      0.000000   \n",
       "25%        0.207928      0.516179         0.041667      0.000000   \n",
       "50%        0.374131      0.572710         0.083333      0.000000   \n",
       "75%        0.605007      0.658869         0.125000      0.000000   \n",
       "max        1.000000      1.000000         1.000000      1.000000   \n",
       "\n",
       "             Monday      Saturday        Sunday      Thursday       Tuesday  \\\n",
       "count  13451.000000  13451.000000  13451.000000  13451.000000  13451.000000   \n",
       "mean       0.132332      0.179392      0.173444      0.129433      0.128615   \n",
       "std        0.338864      0.383694      0.378645      0.335691      0.334786   \n",
       "min        0.000000      0.000000      0.000000      0.000000      0.000000   \n",
       "25%        0.000000      0.000000      0.000000      0.000000      0.000000   \n",
       "50%        0.000000      0.000000      0.000000      0.000000      0.000000   \n",
       "75%        0.000000      0.000000      0.000000      0.000000      0.000000   \n",
       "max        1.000000      1.000000      1.000000      1.000000      1.000000   \n",
       "\n",
       "          Wednesday  ...       11/2021       11/2022       12/2015  \\\n",
       "count  13451.000000  ...  13451.000000  13451.000000  13451.000000   \n",
       "mean       0.127649  ...      0.008550      0.008103      0.006617   \n",
       "std        0.333710  ...      0.092071      0.089657      0.081076   \n",
       "min        0.000000  ...      0.000000      0.000000      0.000000   \n",
       "25%        0.000000  ...      0.000000      0.000000      0.000000   \n",
       "50%        0.000000  ...      0.000000      0.000000      0.000000   \n",
       "75%        0.000000  ...      0.000000      0.000000      0.000000   \n",
       "max        1.000000  ...      1.000000      1.000000      1.000000   \n",
       "\n",
       "            12/2016       12/2017       12/2018       12/2019       12/2020  \\\n",
       "count  13451.000000  13451.000000  13451.000000  13451.000000  13451.000000   \n",
       "mean       0.008773      0.008178      0.008178      0.008847      0.007286   \n",
       "std        0.093254      0.090064      0.090064      0.093645      0.085048   \n",
       "min        0.000000      0.000000      0.000000      0.000000      0.000000   \n",
       "25%        0.000000      0.000000      0.000000      0.000000      0.000000   \n",
       "50%        0.000000      0.000000      0.000000      0.000000      0.000000   \n",
       "75%        0.000000      0.000000      0.000000      0.000000      0.000000   \n",
       "max        1.000000      1.000000      1.000000      1.000000      1.000000   \n",
       "\n",
       "            12/2021       12/2022  \n",
       "count  13451.000000  13451.000000  \n",
       "mean       0.008252      0.009962  \n",
       "std        0.090469      0.099316  \n",
       "min        0.000000      0.000000  \n",
       "25%        0.000000      0.000000  \n",
       "50%        0.000000      0.000000  \n",
       "75%        0.000000      0.000000  \n",
       "max        1.000000      1.000000  \n",
       "\n",
       "[8 rows x 152 columns]"
      ]
     },
     "execution_count": 114,
     "metadata": {},
     "output_type": "execute_result"
    }
   ],
   "source": [
    "X_train.describe()"
   ]
  },
  {
   "cell_type": "markdown",
   "id": "ae3a6169",
   "metadata": {},
   "source": [
    "## 8. Model training"
   ]
  },
  {
   "cell_type": "code",
   "execution_count": 115,
   "id": "970eb293",
   "metadata": {},
   "outputs": [
    {
     "data": {
      "text/html": [
       "<style>#sk-container-id-1 {color: black;background-color: white;}#sk-container-id-1 pre{padding: 0;}#sk-container-id-1 div.sk-toggleable {background-color: white;}#sk-container-id-1 label.sk-toggleable__label {cursor: pointer;display: block;width: 100%;margin-bottom: 0;padding: 0.3em;box-sizing: border-box;text-align: center;}#sk-container-id-1 label.sk-toggleable__label-arrow:before {content: \"▸\";float: left;margin-right: 0.25em;color: #696969;}#sk-container-id-1 label.sk-toggleable__label-arrow:hover:before {color: black;}#sk-container-id-1 div.sk-estimator:hover label.sk-toggleable__label-arrow:before {color: black;}#sk-container-id-1 div.sk-toggleable__content {max-height: 0;max-width: 0;overflow: hidden;text-align: left;background-color: #f0f8ff;}#sk-container-id-1 div.sk-toggleable__content pre {margin: 0.2em;color: black;border-radius: 0.25em;background-color: #f0f8ff;}#sk-container-id-1 input.sk-toggleable__control:checked~div.sk-toggleable__content {max-height: 200px;max-width: 100%;overflow: auto;}#sk-container-id-1 input.sk-toggleable__control:checked~label.sk-toggleable__label-arrow:before {content: \"▾\";}#sk-container-id-1 div.sk-estimator input.sk-toggleable__control:checked~label.sk-toggleable__label {background-color: #d4ebff;}#sk-container-id-1 div.sk-label input.sk-toggleable__control:checked~label.sk-toggleable__label {background-color: #d4ebff;}#sk-container-id-1 input.sk-hidden--visually {border: 0;clip: rect(1px 1px 1px 1px);clip: rect(1px, 1px, 1px, 1px);height: 1px;margin: -1px;overflow: hidden;padding: 0;position: absolute;width: 1px;}#sk-container-id-1 div.sk-estimator {font-family: monospace;background-color: #f0f8ff;border: 1px dotted black;border-radius: 0.25em;box-sizing: border-box;margin-bottom: 0.5em;}#sk-container-id-1 div.sk-estimator:hover {background-color: #d4ebff;}#sk-container-id-1 div.sk-parallel-item::after {content: \"\";width: 100%;border-bottom: 1px solid gray;flex-grow: 1;}#sk-container-id-1 div.sk-label:hover label.sk-toggleable__label {background-color: #d4ebff;}#sk-container-id-1 div.sk-serial::before {content: \"\";position: absolute;border-left: 1px solid gray;box-sizing: border-box;top: 0;bottom: 0;left: 50%;z-index: 0;}#sk-container-id-1 div.sk-serial {display: flex;flex-direction: column;align-items: center;background-color: white;padding-right: 0.2em;padding-left: 0.2em;position: relative;}#sk-container-id-1 div.sk-item {position: relative;z-index: 1;}#sk-container-id-1 div.sk-parallel {display: flex;align-items: stretch;justify-content: center;background-color: white;position: relative;}#sk-container-id-1 div.sk-item::before, #sk-container-id-1 div.sk-parallel-item::before {content: \"\";position: absolute;border-left: 1px solid gray;box-sizing: border-box;top: 0;bottom: 0;left: 50%;z-index: -1;}#sk-container-id-1 div.sk-parallel-item {display: flex;flex-direction: column;z-index: 1;position: relative;background-color: white;}#sk-container-id-1 div.sk-parallel-item:first-child::after {align-self: flex-end;width: 50%;}#sk-container-id-1 div.sk-parallel-item:last-child::after {align-self: flex-start;width: 50%;}#sk-container-id-1 div.sk-parallel-item:only-child::after {width: 0;}#sk-container-id-1 div.sk-dashed-wrapped {border: 1px dashed gray;margin: 0 0.4em 0.5em 0.4em;box-sizing: border-box;padding-bottom: 0.4em;background-color: white;}#sk-container-id-1 div.sk-label label {font-family: monospace;font-weight: bold;display: inline-block;line-height: 1.2em;}#sk-container-id-1 div.sk-label-container {text-align: center;}#sk-container-id-1 div.sk-container {/* jupyter's `normalize.less` sets `[hidden] { display: none; }` but bootstrap.min.css set `[hidden] { display: none !important; }` so we also need the `!important` here to be able to override the default hidden behavior on the sphinx rendered scikit-learn.org. See: https://github.com/scikit-learn/scikit-learn/issues/21755 */display: inline-block !important;position: relative;}#sk-container-id-1 div.sk-text-repr-fallback {display: none;}</style><div id=\"sk-container-id-1\" class=\"sk-top-container\"><div class=\"sk-text-repr-fallback\"><pre>LogisticRegression(random_state=0, solver=&#x27;liblinear&#x27;)</pre><b>In a Jupyter environment, please rerun this cell to show the HTML representation or trust the notebook. <br />On GitHub, the HTML representation is unable to render, please try loading this page with nbviewer.org.</b></div><div class=\"sk-container\" hidden><div class=\"sk-item\"><div class=\"sk-estimator sk-toggleable\"><input class=\"sk-toggleable__control sk-hidden--visually\" id=\"sk-estimator-id-1\" type=\"checkbox\" checked><label for=\"sk-estimator-id-1\" class=\"sk-toggleable__label sk-toggleable__label-arrow\">LogisticRegression</label><div class=\"sk-toggleable__content\"><pre>LogisticRegression(random_state=0, solver=&#x27;liblinear&#x27;)</pre></div></div></div></div></div>"
      ],
      "text/plain": [
       "LogisticRegression(random_state=0, solver='liblinear')"
      ]
     },
     "execution_count": 115,
     "metadata": {},
     "output_type": "execute_result"
    }
   ],
   "source": [
    "# instantiate the model\n",
    "logreg = LogisticRegression(solver='liblinear', random_state=0)\n",
    "\n",
    "\n",
    "# fit the model\n",
    "logreg.fit(X_train, y_train)"
   ]
  },
  {
   "cell_type": "markdown",
   "id": "5780d938",
   "metadata": {},
   "source": [
    "## 9. Predict results"
   ]
  },
  {
   "cell_type": "code",
   "execution_count": 116,
   "id": "33b9b97e",
   "metadata": {},
   "outputs": [
    {
     "data": {
      "text/plain": [
       "array(['Yes', 'Yes', 'Yes', ..., 'Yes', 'Yes', 'Yes'], dtype=object)"
      ]
     },
     "execution_count": 116,
     "metadata": {},
     "output_type": "execute_result"
    }
   ],
   "source": [
    "y_pred_test = logreg.predict(X_test)\n",
    "\n",
    "y_pred_test"
   ]
  },
  {
   "cell_type": "code",
   "execution_count": 117,
   "id": "b31ac48f",
   "metadata": {},
   "outputs": [
    {
     "data": {
      "text/plain": [
       "array([0.3805921 , 0.00272324, 0.19776293, ..., 0.02992692, 0.00224994,\n",
       "       0.15843543])"
      ]
     },
     "execution_count": 117,
     "metadata": {},
     "output_type": "execute_result"
    }
   ],
   "source": [
    "# probability of getting output as 0 - Completed\n",
    "\n",
    "logreg.predict_proba(X_test)[:,0]"
   ]
  },
  {
   "cell_type": "code",
   "execution_count": 118,
   "id": "7c15c617",
   "metadata": {},
   "outputs": [
    {
     "data": {
      "text/plain": [
       "array([0.6194079 , 0.99727676, 0.80223707, ..., 0.97007308, 0.99775006,\n",
       "       0.84156457])"
      ]
     },
     "execution_count": 118,
     "metadata": {},
     "output_type": "execute_result"
    }
   ],
   "source": [
    "# probability of getting output as 1 - not completed\n",
    "\n",
    "logreg.predict_proba(X_test)[:,1]"
   ]
  },
  {
   "cell_type": "markdown",
   "id": "16d4d354",
   "metadata": {},
   "source": [
    "## 10. Check accuracy score"
   ]
  },
  {
   "cell_type": "code",
   "execution_count": 119,
   "id": "4d7b439e",
   "metadata": {},
   "outputs": [
    {
     "name": "stdout",
     "output_type": "stream",
     "text": [
      "Model accuracy score: 0.9464\n"
     ]
    }
   ],
   "source": [
    "from sklearn.metrics import accuracy_score\n",
    "\n",
    "print('Model accuracy score: {0:0.4f}'. format(accuracy_score(y_test, y_pred_test)))"
   ]
  },
  {
   "cell_type": "markdown",
   "id": "0f243938",
   "metadata": {},
   "source": [
    "### Compare the train-set and test-set accuracy"
   ]
  },
  {
   "cell_type": "code",
   "execution_count": 120,
   "id": "84e10bd7",
   "metadata": {},
   "outputs": [
    {
     "data": {
      "text/plain": [
       "array(['Yes', 'Yes', 'Yes', ..., 'Yes', 'Yes', 'Yes'], dtype=object)"
      ]
     },
     "execution_count": 120,
     "metadata": {},
     "output_type": "execute_result"
    }
   ],
   "source": [
    "y_pred_train = logreg.predict(X_train)\n",
    "\n",
    "y_pred_train"
   ]
  },
  {
   "cell_type": "code",
   "execution_count": 121,
   "id": "d2ee2db9",
   "metadata": {},
   "outputs": [
    {
     "name": "stdout",
     "output_type": "stream",
     "text": [
      "Training-set accuracy score: 0.9487\n"
     ]
    }
   ],
   "source": [
    "print('Training-set accuracy score: {0:0.4f}'. format(accuracy_score(y_train, y_pred_train)))"
   ]
  },
  {
   "cell_type": "markdown",
   "id": "e3e653eb",
   "metadata": {},
   "source": [
    "### Check for overfitting and underfitting"
   ]
  },
  {
   "cell_type": "code",
   "execution_count": 122,
   "id": "d9446bd4",
   "metadata": {},
   "outputs": [
    {
     "name": "stdout",
     "output_type": "stream",
     "text": [
      "Training set score: 0.9487\n",
      "Test set score: 0.9464\n"
     ]
    }
   ],
   "source": [
    "# print the scores on training and test set\n",
    "\n",
    "print('Training set score: {:.4f}'.format(logreg.score(X_train, y_train)))\n",
    "\n",
    "print('Test set score: {:.4f}'.format(logreg.score(X_test, y_test)))"
   ]
  },
  {
   "cell_type": "code",
   "execution_count": 123,
   "id": "a5cb6a8d",
   "metadata": {},
   "outputs": [
    {
     "data": {
      "text/html": [
       "<style>#sk-container-id-2 {color: black;background-color: white;}#sk-container-id-2 pre{padding: 0;}#sk-container-id-2 div.sk-toggleable {background-color: white;}#sk-container-id-2 label.sk-toggleable__label {cursor: pointer;display: block;width: 100%;margin-bottom: 0;padding: 0.3em;box-sizing: border-box;text-align: center;}#sk-container-id-2 label.sk-toggleable__label-arrow:before {content: \"▸\";float: left;margin-right: 0.25em;color: #696969;}#sk-container-id-2 label.sk-toggleable__label-arrow:hover:before {color: black;}#sk-container-id-2 div.sk-estimator:hover label.sk-toggleable__label-arrow:before {color: black;}#sk-container-id-2 div.sk-toggleable__content {max-height: 0;max-width: 0;overflow: hidden;text-align: left;background-color: #f0f8ff;}#sk-container-id-2 div.sk-toggleable__content pre {margin: 0.2em;color: black;border-radius: 0.25em;background-color: #f0f8ff;}#sk-container-id-2 input.sk-toggleable__control:checked~div.sk-toggleable__content {max-height: 200px;max-width: 100%;overflow: auto;}#sk-container-id-2 input.sk-toggleable__control:checked~label.sk-toggleable__label-arrow:before {content: \"▾\";}#sk-container-id-2 div.sk-estimator input.sk-toggleable__control:checked~label.sk-toggleable__label {background-color: #d4ebff;}#sk-container-id-2 div.sk-label input.sk-toggleable__control:checked~label.sk-toggleable__label {background-color: #d4ebff;}#sk-container-id-2 input.sk-hidden--visually {border: 0;clip: rect(1px 1px 1px 1px);clip: rect(1px, 1px, 1px, 1px);height: 1px;margin: -1px;overflow: hidden;padding: 0;position: absolute;width: 1px;}#sk-container-id-2 div.sk-estimator {font-family: monospace;background-color: #f0f8ff;border: 1px dotted black;border-radius: 0.25em;box-sizing: border-box;margin-bottom: 0.5em;}#sk-container-id-2 div.sk-estimator:hover {background-color: #d4ebff;}#sk-container-id-2 div.sk-parallel-item::after {content: \"\";width: 100%;border-bottom: 1px solid gray;flex-grow: 1;}#sk-container-id-2 div.sk-label:hover label.sk-toggleable__label {background-color: #d4ebff;}#sk-container-id-2 div.sk-serial::before {content: \"\";position: absolute;border-left: 1px solid gray;box-sizing: border-box;top: 0;bottom: 0;left: 50%;z-index: 0;}#sk-container-id-2 div.sk-serial {display: flex;flex-direction: column;align-items: center;background-color: white;padding-right: 0.2em;padding-left: 0.2em;position: relative;}#sk-container-id-2 div.sk-item {position: relative;z-index: 1;}#sk-container-id-2 div.sk-parallel {display: flex;align-items: stretch;justify-content: center;background-color: white;position: relative;}#sk-container-id-2 div.sk-item::before, #sk-container-id-2 div.sk-parallel-item::before {content: \"\";position: absolute;border-left: 1px solid gray;box-sizing: border-box;top: 0;bottom: 0;left: 50%;z-index: -1;}#sk-container-id-2 div.sk-parallel-item {display: flex;flex-direction: column;z-index: 1;position: relative;background-color: white;}#sk-container-id-2 div.sk-parallel-item:first-child::after {align-self: flex-end;width: 50%;}#sk-container-id-2 div.sk-parallel-item:last-child::after {align-self: flex-start;width: 50%;}#sk-container-id-2 div.sk-parallel-item:only-child::after {width: 0;}#sk-container-id-2 div.sk-dashed-wrapped {border: 1px dashed gray;margin: 0 0.4em 0.5em 0.4em;box-sizing: border-box;padding-bottom: 0.4em;background-color: white;}#sk-container-id-2 div.sk-label label {font-family: monospace;font-weight: bold;display: inline-block;line-height: 1.2em;}#sk-container-id-2 div.sk-label-container {text-align: center;}#sk-container-id-2 div.sk-container {/* jupyter's `normalize.less` sets `[hidden] { display: none; }` but bootstrap.min.css set `[hidden] { display: none !important; }` so we also need the `!important` here to be able to override the default hidden behavior on the sphinx rendered scikit-learn.org. See: https://github.com/scikit-learn/scikit-learn/issues/21755 */display: inline-block !important;position: relative;}#sk-container-id-2 div.sk-text-repr-fallback {display: none;}</style><div id=\"sk-container-id-2\" class=\"sk-top-container\"><div class=\"sk-text-repr-fallback\"><pre>LogisticRegression(C=0.1, random_state=0, solver=&#x27;liblinear&#x27;)</pre><b>In a Jupyter environment, please rerun this cell to show the HTML representation or trust the notebook. <br />On GitHub, the HTML representation is unable to render, please try loading this page with nbviewer.org.</b></div><div class=\"sk-container\" hidden><div class=\"sk-item\"><div class=\"sk-estimator sk-toggleable\"><input class=\"sk-toggleable__control sk-hidden--visually\" id=\"sk-estimator-id-2\" type=\"checkbox\" checked><label for=\"sk-estimator-id-2\" class=\"sk-toggleable__label sk-toggleable__label-arrow\">LogisticRegression</label><div class=\"sk-toggleable__content\"><pre>LogisticRegression(C=0.1, random_state=0, solver=&#x27;liblinear&#x27;)</pre></div></div></div></div></div>"
      ],
      "text/plain": [
       "LogisticRegression(C=0.1, random_state=0, solver='liblinear')"
      ]
     },
     "execution_count": 123,
     "metadata": {},
     "output_type": "execute_result"
    }
   ],
   "source": [
    "# fit the Logsitic Regression model with C=0.1\n",
    "\n",
    "# instantiate the model\n",
    "logreg01 = LogisticRegression(C=0.1, solver='liblinear', random_state=0)\n",
    "\n",
    "\n",
    "# fit the model\n",
    "logreg01.fit(X_train, y_train)"
   ]
  },
  {
   "cell_type": "code",
   "execution_count": 124,
   "id": "e85acaa0",
   "metadata": {},
   "outputs": [
    {
     "name": "stdout",
     "output_type": "stream",
     "text": [
      "Training set score: 0.9419\n",
      "Test set score: 0.9429\n"
     ]
    }
   ],
   "source": [
    "# print the scores on training and test set\n",
    "\n",
    "print('Training set score: {:.4f}'.format(logreg01.score(X_train, y_train)))\n",
    "\n",
    "print('Test set score: {:.4f}'.format(logreg01.score(X_test, y_test)))"
   ]
  },
  {
   "cell_type": "code",
   "execution_count": 125,
   "id": "4be192a1",
   "metadata": {},
   "outputs": [
    {
     "data": {
      "text/html": [
       "<style>#sk-container-id-3 {color: black;background-color: white;}#sk-container-id-3 pre{padding: 0;}#sk-container-id-3 div.sk-toggleable {background-color: white;}#sk-container-id-3 label.sk-toggleable__label {cursor: pointer;display: block;width: 100%;margin-bottom: 0;padding: 0.3em;box-sizing: border-box;text-align: center;}#sk-container-id-3 label.sk-toggleable__label-arrow:before {content: \"▸\";float: left;margin-right: 0.25em;color: #696969;}#sk-container-id-3 label.sk-toggleable__label-arrow:hover:before {color: black;}#sk-container-id-3 div.sk-estimator:hover label.sk-toggleable__label-arrow:before {color: black;}#sk-container-id-3 div.sk-toggleable__content {max-height: 0;max-width: 0;overflow: hidden;text-align: left;background-color: #f0f8ff;}#sk-container-id-3 div.sk-toggleable__content pre {margin: 0.2em;color: black;border-radius: 0.25em;background-color: #f0f8ff;}#sk-container-id-3 input.sk-toggleable__control:checked~div.sk-toggleable__content {max-height: 200px;max-width: 100%;overflow: auto;}#sk-container-id-3 input.sk-toggleable__control:checked~label.sk-toggleable__label-arrow:before {content: \"▾\";}#sk-container-id-3 div.sk-estimator input.sk-toggleable__control:checked~label.sk-toggleable__label {background-color: #d4ebff;}#sk-container-id-3 div.sk-label input.sk-toggleable__control:checked~label.sk-toggleable__label {background-color: #d4ebff;}#sk-container-id-3 input.sk-hidden--visually {border: 0;clip: rect(1px 1px 1px 1px);clip: rect(1px, 1px, 1px, 1px);height: 1px;margin: -1px;overflow: hidden;padding: 0;position: absolute;width: 1px;}#sk-container-id-3 div.sk-estimator {font-family: monospace;background-color: #f0f8ff;border: 1px dotted black;border-radius: 0.25em;box-sizing: border-box;margin-bottom: 0.5em;}#sk-container-id-3 div.sk-estimator:hover {background-color: #d4ebff;}#sk-container-id-3 div.sk-parallel-item::after {content: \"\";width: 100%;border-bottom: 1px solid gray;flex-grow: 1;}#sk-container-id-3 div.sk-label:hover label.sk-toggleable__label {background-color: #d4ebff;}#sk-container-id-3 div.sk-serial::before {content: \"\";position: absolute;border-left: 1px solid gray;box-sizing: border-box;top: 0;bottom: 0;left: 50%;z-index: 0;}#sk-container-id-3 div.sk-serial {display: flex;flex-direction: column;align-items: center;background-color: white;padding-right: 0.2em;padding-left: 0.2em;position: relative;}#sk-container-id-3 div.sk-item {position: relative;z-index: 1;}#sk-container-id-3 div.sk-parallel {display: flex;align-items: stretch;justify-content: center;background-color: white;position: relative;}#sk-container-id-3 div.sk-item::before, #sk-container-id-3 div.sk-parallel-item::before {content: \"\";position: absolute;border-left: 1px solid gray;box-sizing: border-box;top: 0;bottom: 0;left: 50%;z-index: -1;}#sk-container-id-3 div.sk-parallel-item {display: flex;flex-direction: column;z-index: 1;position: relative;background-color: white;}#sk-container-id-3 div.sk-parallel-item:first-child::after {align-self: flex-end;width: 50%;}#sk-container-id-3 div.sk-parallel-item:last-child::after {align-self: flex-start;width: 50%;}#sk-container-id-3 div.sk-parallel-item:only-child::after {width: 0;}#sk-container-id-3 div.sk-dashed-wrapped {border: 1px dashed gray;margin: 0 0.4em 0.5em 0.4em;box-sizing: border-box;padding-bottom: 0.4em;background-color: white;}#sk-container-id-3 div.sk-label label {font-family: monospace;font-weight: bold;display: inline-block;line-height: 1.2em;}#sk-container-id-3 div.sk-label-container {text-align: center;}#sk-container-id-3 div.sk-container {/* jupyter's `normalize.less` sets `[hidden] { display: none; }` but bootstrap.min.css set `[hidden] { display: none !important; }` so we also need the `!important` here to be able to override the default hidden behavior on the sphinx rendered scikit-learn.org. See: https://github.com/scikit-learn/scikit-learn/issues/21755 */display: inline-block !important;position: relative;}#sk-container-id-3 div.sk-text-repr-fallback {display: none;}</style><div id=\"sk-container-id-3\" class=\"sk-top-container\"><div class=\"sk-text-repr-fallback\"><pre>LogisticRegression(C=0.01, random_state=0, solver=&#x27;liblinear&#x27;)</pre><b>In a Jupyter environment, please rerun this cell to show the HTML representation or trust the notebook. <br />On GitHub, the HTML representation is unable to render, please try loading this page with nbviewer.org.</b></div><div class=\"sk-container\" hidden><div class=\"sk-item\"><div class=\"sk-estimator sk-toggleable\"><input class=\"sk-toggleable__control sk-hidden--visually\" id=\"sk-estimator-id-3\" type=\"checkbox\" checked><label for=\"sk-estimator-id-3\" class=\"sk-toggleable__label sk-toggleable__label-arrow\">LogisticRegression</label><div class=\"sk-toggleable__content\"><pre>LogisticRegression(C=0.01, random_state=0, solver=&#x27;liblinear&#x27;)</pre></div></div></div></div></div>"
      ],
      "text/plain": [
       "LogisticRegression(C=0.01, random_state=0, solver='liblinear')"
      ]
     },
     "execution_count": 125,
     "metadata": {},
     "output_type": "execute_result"
    }
   ],
   "source": [
    "# fit the Logsitic Regression model with C=0.01\n",
    "\n",
    "# instantiate the model\n",
    "logreg001 = LogisticRegression(C=0.01, solver='liblinear', random_state=0)\n",
    "\n",
    "\n",
    "# fit the model\n",
    "logreg001.fit(X_train, y_train)"
   ]
  },
  {
   "cell_type": "code",
   "execution_count": 126,
   "id": "79cc595a",
   "metadata": {},
   "outputs": [
    {
     "name": "stdout",
     "output_type": "stream",
     "text": [
      "Training set score: 0.9318\n",
      "Test set score: 0.9325\n"
     ]
    }
   ],
   "source": [
    "# print the scores on training and test set\n",
    "\n",
    "print('Training set score: {:.4f}'.format(logreg001.score(X_train, y_train)))\n",
    "\n",
    "print('Test set score: {:.4f}'.format(logreg001.score(X_test, y_test)))"
   ]
  },
  {
   "cell_type": "code",
   "execution_count": 127,
   "id": "a690e78c",
   "metadata": {},
   "outputs": [
    {
     "data": {
      "text/html": [
       "<style>#sk-container-id-4 {color: black;background-color: white;}#sk-container-id-4 pre{padding: 0;}#sk-container-id-4 div.sk-toggleable {background-color: white;}#sk-container-id-4 label.sk-toggleable__label {cursor: pointer;display: block;width: 100%;margin-bottom: 0;padding: 0.3em;box-sizing: border-box;text-align: center;}#sk-container-id-4 label.sk-toggleable__label-arrow:before {content: \"▸\";float: left;margin-right: 0.25em;color: #696969;}#sk-container-id-4 label.sk-toggleable__label-arrow:hover:before {color: black;}#sk-container-id-4 div.sk-estimator:hover label.sk-toggleable__label-arrow:before {color: black;}#sk-container-id-4 div.sk-toggleable__content {max-height: 0;max-width: 0;overflow: hidden;text-align: left;background-color: #f0f8ff;}#sk-container-id-4 div.sk-toggleable__content pre {margin: 0.2em;color: black;border-radius: 0.25em;background-color: #f0f8ff;}#sk-container-id-4 input.sk-toggleable__control:checked~div.sk-toggleable__content {max-height: 200px;max-width: 100%;overflow: auto;}#sk-container-id-4 input.sk-toggleable__control:checked~label.sk-toggleable__label-arrow:before {content: \"▾\";}#sk-container-id-4 div.sk-estimator input.sk-toggleable__control:checked~label.sk-toggleable__label {background-color: #d4ebff;}#sk-container-id-4 div.sk-label input.sk-toggleable__control:checked~label.sk-toggleable__label {background-color: #d4ebff;}#sk-container-id-4 input.sk-hidden--visually {border: 0;clip: rect(1px 1px 1px 1px);clip: rect(1px, 1px, 1px, 1px);height: 1px;margin: -1px;overflow: hidden;padding: 0;position: absolute;width: 1px;}#sk-container-id-4 div.sk-estimator {font-family: monospace;background-color: #f0f8ff;border: 1px dotted black;border-radius: 0.25em;box-sizing: border-box;margin-bottom: 0.5em;}#sk-container-id-4 div.sk-estimator:hover {background-color: #d4ebff;}#sk-container-id-4 div.sk-parallel-item::after {content: \"\";width: 100%;border-bottom: 1px solid gray;flex-grow: 1;}#sk-container-id-4 div.sk-label:hover label.sk-toggleable__label {background-color: #d4ebff;}#sk-container-id-4 div.sk-serial::before {content: \"\";position: absolute;border-left: 1px solid gray;box-sizing: border-box;top: 0;bottom: 0;left: 50%;z-index: 0;}#sk-container-id-4 div.sk-serial {display: flex;flex-direction: column;align-items: center;background-color: white;padding-right: 0.2em;padding-left: 0.2em;position: relative;}#sk-container-id-4 div.sk-item {position: relative;z-index: 1;}#sk-container-id-4 div.sk-parallel {display: flex;align-items: stretch;justify-content: center;background-color: white;position: relative;}#sk-container-id-4 div.sk-item::before, #sk-container-id-4 div.sk-parallel-item::before {content: \"\";position: absolute;border-left: 1px solid gray;box-sizing: border-box;top: 0;bottom: 0;left: 50%;z-index: -1;}#sk-container-id-4 div.sk-parallel-item {display: flex;flex-direction: column;z-index: 1;position: relative;background-color: white;}#sk-container-id-4 div.sk-parallel-item:first-child::after {align-self: flex-end;width: 50%;}#sk-container-id-4 div.sk-parallel-item:last-child::after {align-self: flex-start;width: 50%;}#sk-container-id-4 div.sk-parallel-item:only-child::after {width: 0;}#sk-container-id-4 div.sk-dashed-wrapped {border: 1px dashed gray;margin: 0 0.4em 0.5em 0.4em;box-sizing: border-box;padding-bottom: 0.4em;background-color: white;}#sk-container-id-4 div.sk-label label {font-family: monospace;font-weight: bold;display: inline-block;line-height: 1.2em;}#sk-container-id-4 div.sk-label-container {text-align: center;}#sk-container-id-4 div.sk-container {/* jupyter's `normalize.less` sets `[hidden] { display: none; }` but bootstrap.min.css set `[hidden] { display: none !important; }` so we also need the `!important` here to be able to override the default hidden behavior on the sphinx rendered scikit-learn.org. See: https://github.com/scikit-learn/scikit-learn/issues/21755 */display: inline-block !important;position: relative;}#sk-container-id-4 div.sk-text-repr-fallback {display: none;}</style><div id=\"sk-container-id-4\" class=\"sk-top-container\"><div class=\"sk-text-repr-fallback\"><pre>LogisticRegression(C=0.02, random_state=0, solver=&#x27;liblinear&#x27;)</pre><b>In a Jupyter environment, please rerun this cell to show the HTML representation or trust the notebook. <br />On GitHub, the HTML representation is unable to render, please try loading this page with nbviewer.org.</b></div><div class=\"sk-container\" hidden><div class=\"sk-item\"><div class=\"sk-estimator sk-toggleable\"><input class=\"sk-toggleable__control sk-hidden--visually\" id=\"sk-estimator-id-4\" type=\"checkbox\" checked><label for=\"sk-estimator-id-4\" class=\"sk-toggleable__label sk-toggleable__label-arrow\">LogisticRegression</label><div class=\"sk-toggleable__content\"><pre>LogisticRegression(C=0.02, random_state=0, solver=&#x27;liblinear&#x27;)</pre></div></div></div></div></div>"
      ],
      "text/plain": [
       "LogisticRegression(C=0.02, random_state=0, solver='liblinear')"
      ]
     },
     "execution_count": 127,
     "metadata": {},
     "output_type": "execute_result"
    }
   ],
   "source": [
    "# fit the Logsitic Regression model with C=0.02\n",
    "\n",
    "# instantiate the model\n",
    "logreg002 = LogisticRegression(C=0.02, solver='liblinear', random_state=0)\n",
    "\n",
    "\n",
    "# fit the model\n",
    "logreg002.fit(X_train, y_train)"
   ]
  },
  {
   "cell_type": "code",
   "execution_count": 128,
   "id": "6b243b89",
   "metadata": {},
   "outputs": [
    {
     "name": "stdout",
     "output_type": "stream",
     "text": [
      "Training set score: 0.9335\n",
      "Test set score: 0.9336\n"
     ]
    }
   ],
   "source": [
    "# print the scores on training and test set\n",
    "\n",
    "print('Training set score: {:.4f}'.format(logreg002.score(X_train, y_train)))\n",
    "\n",
    "print('Test set score: {:.4f}'.format(logreg002.score(X_test, y_test)))"
   ]
  },
  {
   "cell_type": "markdown",
   "id": "1a233f98",
   "metadata": {},
   "source": [
    "### Compare model accuracy with null accuracy"
   ]
  },
  {
   "cell_type": "markdown",
   "id": "33e8150a",
   "metadata": {},
   "source": [
    "####  Null accuracy is the accuracy that could be achieved by always predicting the most frequent class."
   ]
  },
  {
   "cell_type": "code",
   "execution_count": 129,
   "id": "8c1047e8",
   "metadata": {},
   "outputs": [
    {
     "data": {
      "text/plain": [
       "Yes    5377\n",
       "No      389\n",
       "Name: Tasking_complnotcompl, dtype: int64"
      ]
     },
     "execution_count": 129,
     "metadata": {},
     "output_type": "execute_result"
    }
   ],
   "source": [
    "# check class distribution in test set\n",
    "\n",
    "y_test.value_counts()"
   ]
  },
  {
   "cell_type": "code",
   "execution_count": 130,
   "id": "86ea635d",
   "metadata": {},
   "outputs": [
    {
     "name": "stdout",
     "output_type": "stream",
     "text": [
      "Null accuracy score: 0.9325\n"
     ]
    }
   ],
   "source": [
    "# check null accuracy score\n",
    "\n",
    "null_accuracy = ((5377)/(5377+389))\n",
    "\n",
    "print('Null accuracy score: {0:0.4f}'. format(null_accuracy))"
   ]
  },
  {
   "cell_type": "markdown",
   "id": "ded75537",
   "metadata": {},
   "source": [
    "#### We can see that our model accuracy score is 0.9464 but null accuracy score is 0.9325. So, we can conclude that our Logistic Regression model is doing a very good job in predicting the class labels."
   ]
  },
  {
   "cell_type": "markdown",
   "id": "61a51606",
   "metadata": {},
   "source": [
    "#### Based on the above analysis we can conclude that our classification model accuracy is very good. Our model is doing a very good job in terms of predicting the class labels.\n",
    "\n",
    "#### But, it does not give the underlying distribution of values. Also, it does not tell anything about the type of errors our classifer is making."
   ]
  },
  {
   "cell_type": "markdown",
   "id": "2fa7dd70",
   "metadata": {},
   "source": [
    "## 11. Confusion matrix"
   ]
  },
  {
   "cell_type": "markdown",
   "id": "890e5e99",
   "metadata": {},
   "source": [
    "##### A confusion matrix is a tool for summarizing the performance of a classification algorithm. A confusion matrix will give us a clear picture of classification model performance and the types of errors produced by the model. It gives us a summary of correct and incorrect predictions broken down by each category. The summary is represented in a tabular form.\n",
    "\n",
    "##### Four types of outcomes are possible while evaluating a classification model performance. These four outcomes are described below:-\n",
    "\n",
    "##### True Positives (TP) – True Positives occur when we predict an observation belongs to a certain class and the observation actually belongs to that class.\n",
    "\n",
    "##### True Negatives (TN) – True Negatives occur when we predict an observation does not belong to a certain class and the observation actually does not belong to that class.\n",
    "\n",
    "##### False Positives (FP) – False Positives occur when we predict an observation belongs to a certain class but the observation actually does not belong to that class. This type of error is called Type I error.\n",
    "\n",
    "##### False Negatives (FN) – False Negatives occur when we predict an observation does not belong to a certain class but the observation actually belongs to that class. This is a very serious error and it is called Type II error.\n",
    "\n",
    "##### These four outcomes are summarized in a confusion matrix given below."
   ]
  },
  {
   "cell_type": "code",
   "execution_count": 131,
   "id": "547a0b43",
   "metadata": {},
   "outputs": [
    {
     "name": "stdout",
     "output_type": "stream",
     "text": [
      "Confusion matrix\n",
      "\n",
      " [[ 129  260]\n",
      " [  49 5328]]\n",
      "\n",
      "True Positives(TP) =  129\n",
      "\n",
      "True Negatives(TN) =  5328\n",
      "\n",
      "False Positives(FP) =  260\n",
      "\n",
      "False Negatives(FN) =  49\n"
     ]
    }
   ],
   "source": [
    "# Print the Confusion Matrix and slice it into four pieces\n",
    "\n",
    "from sklearn.metrics import confusion_matrix\n",
    "\n",
    "cm = confusion_matrix(y_test, y_pred_test)\n",
    "\n",
    "print('Confusion matrix\\n\\n', cm)\n",
    "\n",
    "print('\\nTrue Positives(TP) = ', cm[0,0])\n",
    "\n",
    "print('\\nTrue Negatives(TN) = ', cm[1,1])\n",
    "\n",
    "print('\\nFalse Positives(FP) = ', cm[0,1])\n",
    "\n",
    "print('\\nFalse Negatives(FN) = ', cm[1,0])"
   ]
  },
  {
   "cell_type": "markdown",
   "id": "459a10b0",
   "metadata": {},
   "source": [
    "##### The confusion matrix shows 129 + 5328 = 5457 correct predictions and 260 + 49 = 309 incorrect predictions.\n",
    "\n",
    "##### In this case, we have\n",
    "\n",
    "- True Positives (Actual Positive:1 and Predict Positive:1) - 129\n",
    "- True Negatives (Actual Negative:0 and Predict Negative:0) - 5328\n",
    "- False Positives (Actual Negative:0 but Predict Positive:1) - 260 (Type I error)\n",
    "- False Negatives (Actual Positive:1 but Predict Negative:0) - 49 (Type II error)"
   ]
  },
  {
   "cell_type": "code",
   "execution_count": 132,
   "id": "61017ac5",
   "metadata": {},
   "outputs": [
    {
     "data": {
      "text/plain": [
       "<Axes: >"
      ]
     },
     "execution_count": 132,
     "metadata": {},
     "output_type": "execute_result"
    },
    {
     "data": {
      "image/png": "[encoded data removed]",
      "text/plain": [
       "<Figure size 640x480 with 2 Axes>"
      ]
     },
     "metadata": {},
     "output_type": "display_data"
    }
   ],
   "source": [
    "# visualize confusion matrix with seaborn heatmap\n",
    "\n",
    "cm_matrix = pd.DataFrame(data=cm, columns=['Actual Positive:1', 'Actual Negative:0'], \n",
    "                                 index=['Predict Positive:1', 'Predict Negative:0'])\n",
    "\n",
    "sns.heatmap(cm_matrix, annot=True, fmt='d', cmap='coolwarm_r')"
   ]
  },
  {
   "cell_type": "markdown",
   "id": "67424605",
   "metadata": {},
   "source": [
    "### Classification Report\n",
    "#### Classification report is another way to evaluate the classification model performance. It displays the precision, recall, f1 and support scores for the model."
   ]
  },
  {
   "cell_type": "code",
   "execution_count": 133,
   "id": "1fb17a77",
   "metadata": {},
   "outputs": [
    {
     "name": "stdout",
     "output_type": "stream",
     "text": [
      "              precision    recall  f1-score   support\n",
      "\n",
      "          No       0.72      0.33      0.46       389\n",
      "         Yes       0.95      0.99      0.97      5377\n",
      "\n",
      "    accuracy                           0.95      5766\n",
      "   macro avg       0.84      0.66      0.71      5766\n",
      "weighted avg       0.94      0.95      0.94      5766\n",
      "\n"
     ]
    }
   ],
   "source": [
    "from sklearn.metrics import classification_report\n",
    "\n",
    "print(classification_report(y_test, y_pred_test))"
   ]
  },
  {
   "cell_type": "markdown",
   "id": "74d52561",
   "metadata": {},
   "source": [
    "## 12. Adjusting a treshold level"
   ]
  },
  {
   "cell_type": "code",
   "execution_count": 134,
   "id": "53f41db0",
   "metadata": {},
   "outputs": [
    {
     "data": {
      "text/plain": [
       "array([[0.3805921 , 0.6194079 ],\n",
       "       [0.00272324, 0.99727676],\n",
       "       [0.19776293, 0.80223707],\n",
       "       [0.01880597, 0.98119403],\n",
       "       [0.01671588, 0.98328412],\n",
       "       [0.06678225, 0.93321775],\n",
       "       [0.44131124, 0.55868876],\n",
       "       [0.01300526, 0.98699474],\n",
       "       [0.02580951, 0.97419049],\n",
       "       [0.00933932, 0.99066068]])"
      ]
     },
     "execution_count": 134,
     "metadata": {},
     "output_type": "execute_result"
    }
   ],
   "source": [
    "# print the first 10 predicted probabilities of two classes- 0 and 1\n",
    "\n",
    "y_pred_prob = logreg.predict_proba(X_test)[0:10]\n",
    "\n",
    "y_pred_prob"
   ]
  },
  {
   "cell_type": "markdown",
   "id": "a29def4c",
   "metadata": {},
   "source": [
    "##### Observations\n",
    "       - In each row, the numbers sum to 1.\n",
    "       \n",
    "      There are 2 columns which correspond to 2 classes - 0 and 1.\n",
    "      - Class 0 - predicted probability that task is not completed.\n",
    "      - Class 1 - predicted probability that task is completed.\n",
    "\n",
    "       Importance of predicted probabilities\n",
    "       - We can rank the observations by probability of completed or not completed.\n",
    "       \n",
    "       predict_proba process\n",
    "       - Predicts the probabilities\n",
    "       - Choose the class with the highest probability\n",
    "\n",
    "       Classification threshold level\n",
    "       - There is a classification threshold level of 0.5.\n",
    "       - Class 1 - probability of task completed is predicted if probability > 0.5.\n",
    "       - Class 0 - probability of task not completed is predicted if probability < 0.5."
   ]
  },
  {
   "cell_type": "code",
   "execution_count": 135,
   "id": "14e024d7",
   "metadata": {},
   "outputs": [
    {
     "data": {
      "text/html": [
       "<div>\n",
       "<style scoped>\n",
       "    .dataframe tbody tr th:only-of-type {\n",
       "        vertical-align: middle;\n",
       "    }\n",
       "\n",
       "    .dataframe tbody tr th {\n",
       "        vertical-align: top;\n",
       "    }\n",
       "\n",
       "    .dataframe thead th {\n",
       "        text-align: right;\n",
       "    }\n",
       "</style>\n",
       "<table border=\"1\" class=\"dataframe\">\n",
       "  <thead>\n",
       "    <tr style=\"text-align: right;\">\n",
       "      <th></th>\n",
       "      <th>Prob of - Task not-completed (0)</th>\n",
       "      <th>Prob of - Task completed (1)</th>\n",
       "    </tr>\n",
       "  </thead>\n",
       "  <tbody>\n",
       "    <tr>\n",
       "      <th>0</th>\n",
       "      <td>0.380592</td>\n",
       "      <td>0.619408</td>\n",
       "    </tr>\n",
       "    <tr>\n",
       "      <th>1</th>\n",
       "      <td>0.002723</td>\n",
       "      <td>0.997277</td>\n",
       "    </tr>\n",
       "    <tr>\n",
       "      <th>2</th>\n",
       "      <td>0.197763</td>\n",
       "      <td>0.802237</td>\n",
       "    </tr>\n",
       "    <tr>\n",
       "      <th>3</th>\n",
       "      <td>0.018806</td>\n",
       "      <td>0.981194</td>\n",
       "    </tr>\n",
       "    <tr>\n",
       "      <th>4</th>\n",
       "      <td>0.016716</td>\n",
       "      <td>0.983284</td>\n",
       "    </tr>\n",
       "    <tr>\n",
       "      <th>5</th>\n",
       "      <td>0.066782</td>\n",
       "      <td>0.933218</td>\n",
       "    </tr>\n",
       "    <tr>\n",
       "      <th>6</th>\n",
       "      <td>0.441311</td>\n",
       "      <td>0.558689</td>\n",
       "    </tr>\n",
       "    <tr>\n",
       "      <th>7</th>\n",
       "      <td>0.013005</td>\n",
       "      <td>0.986995</td>\n",
       "    </tr>\n",
       "    <tr>\n",
       "      <th>8</th>\n",
       "      <td>0.025810</td>\n",
       "      <td>0.974190</td>\n",
       "    </tr>\n",
       "    <tr>\n",
       "      <th>9</th>\n",
       "      <td>0.009339</td>\n",
       "      <td>0.990661</td>\n",
       "    </tr>\n",
       "  </tbody>\n",
       "</table>\n",
       "</div>"
      ],
      "text/plain": [
       "   Prob of - Task not-completed (0)  Prob of - Task completed (1)\n",
       "0                          0.380592                      0.619408\n",
       "1                          0.002723                      0.997277\n",
       "2                          0.197763                      0.802237\n",
       "3                          0.018806                      0.981194\n",
       "4                          0.016716                      0.983284\n",
       "5                          0.066782                      0.933218\n",
       "6                          0.441311                      0.558689\n",
       "7                          0.013005                      0.986995\n",
       "8                          0.025810                      0.974190\n",
       "9                          0.009339                      0.990661"
      ]
     },
     "execution_count": 135,
     "metadata": {},
     "output_type": "execute_result"
    }
   ],
   "source": [
    "# store the probabilities in dataframe\n",
    "\n",
    "y_pred_prob_df = pd.DataFrame(data=y_pred_prob, columns=['Prob of - Task not-completed (0)', 'Prob of - Task completed (1)'])\n",
    "\n",
    "y_pred_prob_df"
   ]
  },
  {
   "cell_type": "code",
   "execution_count": 136,
   "id": "54d48d9e",
   "metadata": {},
   "outputs": [
    {
     "data": {
      "text/plain": [
       "array([0.6194079 , 0.99727676, 0.80223707, 0.98119403, 0.98328412,\n",
       "       0.93321775, 0.55868876, 0.98699474, 0.97419049, 0.99066068])"
      ]
     },
     "execution_count": 136,
     "metadata": {},
     "output_type": "execute_result"
    }
   ],
   "source": [
    "# print the first 10 predicted probabilities for class 1 - Probability of taskings completed\n",
    "\n",
    "logreg.predict_proba(X_test)[0:10, 1]"
   ]
  },
  {
   "cell_type": "code",
   "execution_count": 137,
   "id": "e6e9c3ae",
   "metadata": {},
   "outputs": [],
   "source": [
    "# store the predicted probabilities for class 1 - Probability of taskings completed\n",
    "\n",
    "y_pred1 = logreg.predict_proba(X_test)[:, 1]"
   ]
  },
  {
   "cell_type": "code",
   "execution_count": 138,
   "id": "a5df213d",
   "metadata": {},
   "outputs": [
    {
     "data": {
      "text/plain": [
       "Text(0, 0.5, 'Frequency')"
      ]
     },
     "execution_count": 138,
     "metadata": {},
     "output_type": "execute_result"
    },
    {
     "data": {
      "image/png": "[encoded data removed]",
      "text/plain": [
       "<Figure size 640x480 with 1 Axes>"
      ]
     },
     "metadata": {},
     "output_type": "display_data"
    }
   ],
   "source": [
    "# plot histogram of predicted probabilities\n",
    "\n",
    "\n",
    "# adjust the font size \n",
    "plt.rcParams['font.size'] = 12\n",
    "\n",
    "\n",
    "# plot histogram with 10 bins\n",
    "plt.hist(y_pred1, bins = 10)\n",
    "\n",
    "\n",
    "# set the title of predicted probabilities\n",
    "plt.title('Histogram of predicted probabilities of taskings completed')\n",
    "\n",
    "\n",
    "# set the x-axis limit\n",
    "plt.xlim(0,1)\n",
    "\n",
    "\n",
    "# set the title\n",
    "plt.xlabel('Predicted probabilities of taskings completed')\n",
    "plt.ylabel('Frequency')"
   ]
  },
  {
   "cell_type": "markdown",
   "id": "291cceaa",
   "metadata": {},
   "source": [
    "### Observations\n",
    "- We can see that the above histogram is highly negatively skewed.\n",
    "- The last column tell us that there are approximately 5000 observations with probability between 0.9 and 1.0.\n",
    "- There are small number of observations with probability < 0.5.\n",
    "- So, these small number of observations predict that taskings will not be completed.\n",
    "- Majority of observations predict that taskings will be completed."
   ]
  },
  {
   "cell_type": "code",
   "execution_count": 139,
   "id": "40b69833",
   "metadata": {},
   "outputs": [
    {
     "data": {
      "text/html": [
       "<style>#sk-container-id-5 {color: black;background-color: white;}#sk-container-id-5 pre{padding: 0;}#sk-container-id-5 div.sk-toggleable {background-color: white;}#sk-container-id-5 label.sk-toggleable__label {cursor: pointer;display: block;width: 100%;margin-bottom: 0;padding: 0.3em;box-sizing: border-box;text-align: center;}#sk-container-id-5 label.sk-toggleable__label-arrow:before {content: \"▸\";float: left;margin-right: 0.25em;color: #696969;}#sk-container-id-5 label.sk-toggleable__label-arrow:hover:before {color: black;}#sk-container-id-5 div.sk-estimator:hover label.sk-toggleable__label-arrow:before {color: black;}#sk-container-id-5 div.sk-toggleable__content {max-height: 0;max-width: 0;overflow: hidden;text-align: left;background-color: #f0f8ff;}#sk-container-id-5 div.sk-toggleable__content pre {margin: 0.2em;color: black;border-radius: 0.25em;background-color: #f0f8ff;}#sk-container-id-5 input.sk-toggleable__control:checked~div.sk-toggleable__content {max-height: 200px;max-width: 100%;overflow: auto;}#sk-container-id-5 input.sk-toggleable__control:checked~label.sk-toggleable__label-arrow:before {content: \"▾\";}#sk-container-id-5 div.sk-estimator input.sk-toggleable__control:checked~label.sk-toggleable__label {background-color: #d4ebff;}#sk-container-id-5 div.sk-label input.sk-toggleable__control:checked~label.sk-toggleable__label {background-color: #d4ebff;}#sk-container-id-5 input.sk-hidden--visually {border: 0;clip: rect(1px 1px 1px 1px);clip: rect(1px, 1px, 1px, 1px);height: 1px;margin: -1px;overflow: hidden;padding: 0;position: absolute;width: 1px;}#sk-container-id-5 div.sk-estimator {font-family: monospace;background-color: #f0f8ff;border: 1px dotted black;border-radius: 0.25em;box-sizing: border-box;margin-bottom: 0.5em;}#sk-container-id-5 div.sk-estimator:hover {background-color: #d4ebff;}#sk-container-id-5 div.sk-parallel-item::after {content: \"\";width: 100%;border-bottom: 1px solid gray;flex-grow: 1;}#sk-container-id-5 div.sk-label:hover label.sk-toggleable__label {background-color: #d4ebff;}#sk-container-id-5 div.sk-serial::before {content: \"\";position: absolute;border-left: 1px solid gray;box-sizing: border-box;top: 0;bottom: 0;left: 50%;z-index: 0;}#sk-container-id-5 div.sk-serial {display: flex;flex-direction: column;align-items: center;background-color: white;padding-right: 0.2em;padding-left: 0.2em;position: relative;}#sk-container-id-5 div.sk-item {position: relative;z-index: 1;}#sk-container-id-5 div.sk-parallel {display: flex;align-items: stretch;justify-content: center;background-color: white;position: relative;}#sk-container-id-5 div.sk-item::before, #sk-container-id-5 div.sk-parallel-item::before {content: \"\";position: absolute;border-left: 1px solid gray;box-sizing: border-box;top: 0;bottom: 0;left: 50%;z-index: -1;}#sk-container-id-5 div.sk-parallel-item {display: flex;flex-direction: column;z-index: 1;position: relative;background-color: white;}#sk-container-id-5 div.sk-parallel-item:first-child::after {align-self: flex-end;width: 50%;}#sk-container-id-5 div.sk-parallel-item:last-child::after {align-self: flex-start;width: 50%;}#sk-container-id-5 div.sk-parallel-item:only-child::after {width: 0;}#sk-container-id-5 div.sk-dashed-wrapped {border: 1px dashed gray;margin: 0 0.4em 0.5em 0.4em;box-sizing: border-box;padding-bottom: 0.4em;background-color: white;}#sk-container-id-5 div.sk-label label {font-family: monospace;font-weight: bold;display: inline-block;line-height: 1.2em;}#sk-container-id-5 div.sk-label-container {text-align: center;}#sk-container-id-5 div.sk-container {/* jupyter's `normalize.less` sets `[hidden] { display: none; }` but bootstrap.min.css set `[hidden] { display: none !important; }` so we also need the `!important` here to be able to override the default hidden behavior on the sphinx rendered scikit-learn.org. See: https://github.com/scikit-learn/scikit-learn/issues/21755 */display: inline-block !important;position: relative;}#sk-container-id-5 div.sk-text-repr-fallback {display: none;}</style><div id=\"sk-container-id-5\" class=\"sk-top-container\"><div class=\"sk-text-repr-fallback\"><pre>GridSearchCV(cv=5,\n",
       "             estimator=LogisticRegression(random_state=0, solver=&#x27;liblinear&#x27;),\n",
       "             param_grid=[{&#x27;penalty&#x27;: [&#x27;l1&#x27;, &#x27;l2&#x27;]}, {&#x27;C&#x27;: [1, 10, 100, 1000]}],\n",
       "             scoring=&#x27;accuracy&#x27;)</pre><b>In a Jupyter environment, please rerun this cell to show the HTML representation or trust the notebook. <br />On GitHub, the HTML representation is unable to render, please try loading this page with nbviewer.org.</b></div><div class=\"sk-container\" hidden><div class=\"sk-item sk-dashed-wrapped\"><div class=\"sk-label-container\"><div class=\"sk-label sk-toggleable\"><input class=\"sk-toggleable__control sk-hidden--visually\" id=\"sk-estimator-id-5\" type=\"checkbox\" ><label for=\"sk-estimator-id-5\" class=\"sk-toggleable__label sk-toggleable__label-arrow\">GridSearchCV</label><div class=\"sk-toggleable__content\"><pre>GridSearchCV(cv=5,\n",
       "             estimator=LogisticRegression(random_state=0, solver=&#x27;liblinear&#x27;),\n",
       "             param_grid=[{&#x27;penalty&#x27;: [&#x27;l1&#x27;, &#x27;l2&#x27;]}, {&#x27;C&#x27;: [1, 10, 100, 1000]}],\n",
       "             scoring=&#x27;accuracy&#x27;)</pre></div></div></div><div class=\"sk-parallel\"><div class=\"sk-parallel-item\"><div class=\"sk-item\"><div class=\"sk-label-container\"><div class=\"sk-label sk-toggleable\"><input class=\"sk-toggleable__control sk-hidden--visually\" id=\"sk-estimator-id-6\" type=\"checkbox\" ><label for=\"sk-estimator-id-6\" class=\"sk-toggleable__label sk-toggleable__label-arrow\">estimator: LogisticRegression</label><div class=\"sk-toggleable__content\"><pre>LogisticRegression(random_state=0, solver=&#x27;liblinear&#x27;)</pre></div></div></div><div class=\"sk-serial\"><div class=\"sk-item\"><div class=\"sk-estimator sk-toggleable\"><input class=\"sk-toggleable__control sk-hidden--visually\" id=\"sk-estimator-id-7\" type=\"checkbox\" ><label for=\"sk-estimator-id-7\" class=\"sk-toggleable__label sk-toggleable__label-arrow\">LogisticRegression</label><div class=\"sk-toggleable__content\"><pre>LogisticRegression(random_state=0, solver=&#x27;liblinear&#x27;)</pre></div></div></div></div></div></div></div></div></div></div>"
      ],
      "text/plain": [
       "GridSearchCV(cv=5,\n",
       "             estimator=LogisticRegression(random_state=0, solver='liblinear'),\n",
       "             param_grid=[{'penalty': ['l1', 'l2']}, {'C': [1, 10, 100, 1000]}],\n",
       "             scoring='accuracy')"
      ]
     },
     "execution_count": 139,
     "metadata": {},
     "output_type": "execute_result"
    }
   ],
   "source": [
    "from sklearn.model_selection import GridSearchCV\n",
    "\n",
    "\n",
    "parameters = [{'penalty':['l1','l2']}, \n",
    "              {'C':[1, 10, 100, 1000]}]\n",
    "\n",
    "\n",
    "\n",
    "grid_search = GridSearchCV(estimator = logreg,  \n",
    "                           param_grid = parameters,\n",
    "                           scoring = 'accuracy',\n",
    "                           cv = 5,\n",
    "                           verbose=0)\n",
    "\n",
    "\n",
    "grid_search.fit(X_train, y_train)"
   ]
  },
  {
   "cell_type": "code",
   "execution_count": 140,
   "id": "99986570",
   "metadata": {},
   "outputs": [
    {
     "name": "stdout",
     "output_type": "stream",
     "text": [
      "GridSearch CV best score : 0.9509\n",
      "\n",
      "\n",
      "Parameters that give the best results : \n",
      "\n",
      " {'C': 1000}\n",
      "\n",
      "\n",
      "Estimator that was chosen by the search : \n",
      "\n",
      " LogisticRegression(C=1000, random_state=0, solver='liblinear')\n"
     ]
    }
   ],
   "source": [
    "# examine the best model\n",
    "\n",
    "# best score achieved during the GridSearchCV\n",
    "print('GridSearch CV best score : {:.4f}\\n\\n'.format(grid_search.best_score_))\n",
    "\n",
    "# print parameters that give the best results\n",
    "print('Parameters that give the best results :','\\n\\n', (grid_search.best_params_))\n",
    "\n",
    "# print estimator that was chosen by the GridSearch\n",
    "print('\\n\\nEstimator that was chosen by the search :','\\n\\n', (grid_search.best_estimator_))"
   ]
  },
  {
   "cell_type": "code",
   "execution_count": 141,
   "id": "06647d48",
   "metadata": {},
   "outputs": [
    {
     "name": "stdout",
     "output_type": "stream",
     "text": [
      "GridSearch CV score on test set: 0.9490\n"
     ]
    }
   ],
   "source": [
    "# calculate GridSearch CV score on test set\n",
    "\n",
    "print('GridSearch CV score on test set: {0:0.4f}'.format(grid_search.score(X_test, y_test)))"
   ]
  },
  {
   "cell_type": "markdown",
   "id": "d1e781db",
   "metadata": {},
   "source": [
    "## 13. Results and conclusion"
   ]
  },
  {
   "cell_type": "markdown",
   "id": "a6458d92",
   "metadata": {},
   "source": [
    "### The logistic regression model accuracy score is 0.9464. So, the model does a very good job in predicting whether or not tasking outcome will be completed or not in UK.\n",
    "\n",
    "### Small number of observations predict that tasking outcome would be \"not completed\". Majority of observations predict that  tasking outcome will be completed.\n",
    "\n",
    "### The model shows no signs of overfitting.\n",
    "\n"
   ]
  },
  {
   "cell_type": "markdown",
   "id": "39f55b19",
   "metadata": {},
   "source": [
    "## 14. Exporting the data file"
   ]
  },
  {
   "cell_type": "code",
   "execution_count": 142,
   "id": "30397bf0",
   "metadata": {},
   "outputs": [],
   "source": [
    "# Exporting final data set\n",
    "\n",
    "df_sarh0112.to_pickle(os.path.join(path, '02 Data', 'Prepared Data', 'df_sarh0112_final.pkl'))"
   ]
  },
  {
   "cell_type": "code",
   "execution_count": null,
   "id": "aa808f7f",
   "metadata": {},
   "outputs": [],
   "source": []
  }
 ],
 "metadata": {
  "kernelspec": {
   "display_name": "Python 3 (ipykernel)",
   "language": "python",
   "name": "python3"
  },
  "language_info": {
   "codemirror_mode": {
    "name": "ipython",
    "version": 3
   },
   "file_extension": ".py",
   "mimetype": "text/x-python",
   "name": "python",
   "nbconvert_exporter": "python",
   "pygments_lexer": "ipython3",
   "version": "3.10.9"
  }
 },
 "nbformat": 4,
 "nbformat_minor": 5
}
